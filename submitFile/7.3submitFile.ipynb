{
 "cells": [
  {
   "cell_type": "markdown",
   "metadata": {},
   "source": [
    "# 전영훈 "
   ]
  },
  {
   "cell_type": "markdown",
   "metadata": {},
   "source": [
    "- 105"
   ]
  },
  {
   "cell_type": "code",
   "execution_count": 1,
   "metadata": {},
   "outputs": [
    {
     "name": "stdout",
     "output_type": "stream",
     "text": [
      "write num : 3\n",
      "write num : 4\n",
      "write num : -1\n",
      "write num : 3\n",
      "write num : 6\n",
      "write num : 10\n",
      "write num : 9\n",
      "write num : 0\n",
      "answer :  9 10 6 3 -1 4 3 "
     ]
    }
   ],
   "source": [
    "\n",
    "word_list=[]\n",
    "\n",
    "while True:\n",
    "    s = input('write num : ')\n",
    "    if s=='0':\n",
    "        break\n",
    "    \n",
    "    word_list.append(int(s))\n",
    "\n",
    "new_list=[]\n",
    "\n",
    "for i in word_list:\n",
    "    if i == '0':\n",
    "        break\n",
    "    else:\n",
    "        new_list.append(int(i))\n",
    "        \n",
    "print ('answer : ',end=' ')\n",
    "for i in range(len(new_list)-1,-1,-1):\n",
    "    print(new_list[i],end=' ')"
   ]
  },
  {
   "cell_type": "markdown",
   "metadata": {},
   "source": [
    "- 107"
   ]
  },
  {
   "cell_type": "code",
   "execution_count": 2,
   "metadata": {},
   "outputs": [
    {
     "name": "stdout",
     "output_type": "stream",
     "text": [
      "write sentence : first\n",
      "write sentence : second\n",
      "write sentence : first\n",
      "write sentence : third\n",
      "write sentence : second\n",
      "write sentence : \n",
      "\n",
      "output\n",
      "\n",
      "first\n",
      "second\n",
      "third\n"
     ]
    }
   ],
   "source": [
    "# Q.107\n",
    "\n",
    "input_list=[]\n",
    "\n",
    "while True:\n",
    "    a=input('write sentence : ')\n",
    "    if a=='':\n",
    "        break\n",
    "    elif input_list.count(a)==0:\n",
    "        input_list.append(a)\n",
    "        \n",
    "\n",
    "print('\\noutput\\n')\n",
    "for s in input_list:\n",
    "    print(s)"
   ]
  },
  {
   "cell_type": "markdown",
   "metadata": {},
   "source": [
    "- 108"
   ]
  },
  {
   "cell_type": "code",
   "execution_count": 3,
   "metadata": {},
   "outputs": [
    {
     "name": "stdout",
     "output_type": "stream",
     "text": [
      "write integer : 3\n",
      "write integer : -4\n",
      "write integer : 1\n",
      "write integer : 0\n",
      "write integer : -1\n",
      "write integer : 0\n",
      "write integer : -2\n",
      "write integer : \n",
      "output :  -4 -1 -2 0 0 3 1 "
     ]
    }
   ],
   "source": [
    "#Q.108\n",
    "\n",
    "input_list=[]\n",
    "nega,zero,posi=[],[],[]\n",
    "\n",
    "while True:\n",
    "    a=input('write integer : ')\n",
    "    if a=='':\n",
    "        break\n",
    "    input_list.append(int(a))\n",
    "for i in input_list:\n",
    "    if i < 0:\n",
    "        nega.append(i)\n",
    "    elif i == 0:\n",
    "        zero.append(0)\n",
    "    else:\n",
    "        posi.append(i)\n",
    "        \n",
    "zero.extend(posi)\n",
    "nega.extend(zero)\n",
    "print('output : ',end=' ')\n",
    "for i in nega:\n",
    "    print(i,end=' ')\n",
    "        # print(nega.extend(zero.extend(posi)))"
   ]
  },
  {
   "cell_type": "markdown",
   "metadata": {},
   "source": [
    "- 110"
   ]
  },
  {
   "cell_type": "code",
   "execution_count": 4,
   "metadata": {},
   "outputs": [
    {
     "name": "stdout",
     "output_type": "stream",
     "text": [
      "6\n",
      "28\n",
      "496\n",
      "8128\n"
     ]
    }
   ],
   "source": [
    "#110\n",
    "def is_per(n):\n",
    "    tot=0\n",
    "    for i in range(1,int(n/2)+1):\n",
    "        if n % i == 0:\n",
    "            tot+=i\n",
    "    res= True if tot==n else False\n",
    "#     print(res)\n",
    "    return res\n",
    "def main():\n",
    "    for i in range(1,10001):\n",
    "        if is_per(i):\n",
    "            print(i)\n",
    "main()"
   ]
  },
  {
   "cell_type": "markdown",
   "metadata": {},
   "source": [
    "- 113"
   ]
  },
  {
   "cell_type": "code",
   "execution_count": 5,
   "metadata": {},
   "outputs": [
    {
     "name": "stdout",
     "output_type": "stream",
     "text": [
      "write : apples\n",
      "write : oranges\n",
      "write : bananas\n",
      "write : lemons\n",
      "write : \n",
      "output :  apples, oranges, bananas and lemons\n"
     ]
    }
   ],
   "source": [
    "#Q.113\n",
    "def formatting(arr):\n",
    "    res=''\n",
    "    length=len(arr)\n",
    "    for i in arr:\n",
    "        if len(res)==0:\n",
    "            res+=i\n",
    "        elif arr[-1]==i:\n",
    "            res +=(' and '+i)\n",
    "        else:\n",
    "            res +=(', '+i)\n",
    "    return res\n",
    "\n",
    "def main():\n",
    "    input_list=[]\n",
    "    while True:\n",
    "        a=input('write : ')\n",
    "        if a=='':\n",
    "            break\n",
    "        input_list.append(a)\n",
    "    print('output : ' ,formatting(input_list))\n",
    "main()"
   ]
  },
  {
   "cell_type": "markdown",
   "metadata": {},
   "source": [
    "- 114"
   ]
  },
  {
   "cell_type": "code",
   "execution_count": 6,
   "metadata": {},
   "outputs": [
    {
     "name": "stdout",
     "output_type": "stream",
     "text": [
      "Result : [1, 4, 8, 10, 17, 40]\n"
     ]
    }
   ],
   "source": [
    "#Q.114\n",
    "import random\n",
    "lottery=[]\n",
    "while len(lottery)!=6:\n",
    "    a=random.randint(1,49)\n",
    "    if lottery.count(a)==0:\n",
    "        lottery.append(a)\n",
    "output=list(set(lottery))\n",
    "output.sort()\n",
    "\n",
    "print('Result : ',end='')\n",
    "print(output)"
   ]
  },
  {
   "cell_type": "markdown",
   "metadata": {},
   "source": [
    "- 134"
   ]
  },
  {
   "cell_type": "code",
   "execution_count": 7,
   "metadata": {},
   "outputs": [
    {
     "name": "stdout",
     "output_type": "stream",
     "text": [
      "input : Hello, world!\n",
      "10\n"
     ]
    }
   ],
   "source": [
    "#q.134\n",
    "s=input('input : ')\n",
    "ns=list(set(s))\n",
    "print(len(ns))"
   ]
  },
  {
   "cell_type": "markdown",
   "metadata": {},
   "source": [
    "- 135"
   ]
  },
  {
   "cell_type": "code",
   "execution_count": null,
   "metadata": {},
   "outputs": [],
   "source": [
    "\n",
    "def anagrams(a,b):\n",
    "    if len(a)!=len(b):\n",
    "        return False\n",
    "    for i in a:\n",
    "        if i not in b:\n",
    "            return False\n",
    "    return True\n",
    "\n",
    "def main():\n",
    "    a =input('a : ')\n",
    "    b =input('b : ')\n",
    "    \n",
    "    res = \"Anagrams!\" if anagrams(a,b) else \"not Anagrams..\"\n",
    "    \n",
    "    print(res)\n",
    "main()\n"
   ]
  },
  {
   "cell_type": "code",
   "execution_count": null,
   "metadata": {},
   "outputs": [],
   "source": []
  },
  {
   "cell_type": "code",
   "execution_count": null,
   "metadata": {},
   "outputs": [],
   "source": []
  }
 ],
 "metadata": {
  "kernelspec": {
   "display_name": "Python 3",
   "language": "python",
   "name": "python3"
  },
  "language_info": {
   "codemirror_mode": {
    "name": "ipython",
    "version": 3
   },
   "file_extension": ".py",
   "mimetype": "text/x-python",
   "name": "python",
   "nbconvert_exporter": "python",
   "pygments_lexer": "ipython3",
   "version": "3.6.5"
  }
 },
 "nbformat": 4,
 "nbformat_minor": 2
}
