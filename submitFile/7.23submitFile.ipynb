{
 "cells": [
  {
   "cell_type": "markdown",
   "metadata": {},
   "source": [
    "#  7.23 submitFile"
   ]
  },
  {
   "cell_type": "markdown",
   "metadata": {},
   "source": [
    "- 1.  3일동안 경쟁 제품 찾아와서 우리 제품과 비교분석\n",
    "- 2.  input , output 명확하게 하기\n",
    "- 3.  어디서 어떤 데이터를 가져올 것인가?"
   ]
  },
  {
   "cell_type": "markdown",
   "metadata": {},
   "source": [
    "#### 1. 3일동안 경쟁 제품 찾아와서 우리 제품과 비교분석"
   ]
  },
  {
   "cell_type": "markdown",
   "metadata": {},
   "source": [
    "    - 음식물 쓰레기 관련 지능 시스템은 찾지 못했다. 단순히 배출량에 관해,또는 통계적인 것을 보여주는 사이트 뿐\n",
    "\n",
    "    - 음식물아니더라도 지능 정보시스템에 부합하는 사이트도 조사해 보았다."
   ]
  },
  {
   "cell_type": "markdown",
   "metadata": {},
   "source": [
    "- 1-1. 음식물 쓰레기 관련"
   ]
  },
  {
   "cell_type": "markdown",
   "metadata": {},
   "source": [
    "        - https://www.zero-foodwaste.or.kr/user/about/about.do?type=action01_1"
   ]
  },
  {
   "cell_type": "markdown",
   "metadata": {},
   "source": [
    "            - 음식물 관련하여 기본적인 정보 ( 음식물 쓰레기 정의,음식물 쓰레기 줄이기 노하우)와 공모전에 관한 사이트\n",
    "            - 지능 정보와는 거리가 있음"
   ]
  },
  {
   "cell_type": "markdown",
   "metadata": {},
   "source": [
    "        - http://www.sujeong-gu.go.kr/sub/content.asp?cIdx=92          (수정구청)\n",
    "        - https://www.nyj.go.kr/main/561                               (남양주시)\n",
    "        - http://stat.me.go.kr/nesis/mesp/info/statPolicyRecycle2.do   (통계청)"
   ]
  },
  {
   "cell_type": "markdown",
   "metadata": {},
   "source": [
    "            - 단순히 배출량 정보를 나타내는 흔한 공공기관 스타일들"
   ]
  },
  {
   "cell_type": "markdown",
   "metadata": {},
   "source": [
    "- 1-2. 분석 관련"
   ]
  },
  {
   "cell_type": "markdown",
   "metadata": {},
   "source": [
    "        - http://sg.sbiz.or.kr/main.sg#/main  ( 상권정보 사이트 )"
   ]
  },
  {
   "cell_type": "markdown",
   "metadata": {},
   "source": [
    "            - 상권데이터에 관해현황 뿐만 아니라 상권 분석,경쟁 분석,입지분석,수익분석,sns 분석,동향지표 분석 등등 빅데이터의 분석결과를 보여주는 사이트"
   ]
  },
  {
   "cell_type": "markdown",
   "metadata": {},
   "source": [
    "        - https://www.wiseapp.co.kr/"
   ]
  },
  {
   "cell_type": "markdown",
   "metadata": {},
   "source": [
    "            - 앱에 관한 정보를 보여주는 사이트, 단순히 랭킹을 보여줘서 아쉽"
   ]
  },
  {
   "cell_type": "markdown",
   "metadata": {},
   "source": [
    "        - http://www.riss.kr/search/detail/DetailView.do?p_mat_type=be54d9b8bc7cdb09&control_no=0d43bec6df192040ffe0bdc3ef48d419\n",
    "        "
   ]
  },
  {
   "cell_type": "markdown",
   "metadata": {},
   "source": [
    "            - 음식물 쓰레기 발생 현황에 관한 논문\n",
    "              대부분 음식물 쓰레기를 재활용,인식,화학적인 논문이라 쓸만한것이 없었음\n",
    "             "
   ]
  },
  {
   "cell_type": "markdown",
   "metadata": {},
   "source": [
    "#### 2.pycharm 파일 완성"
   ]
  },
  {
   "cell_type": "markdown",
   "metadata": {},
   "source": [
    "#### 3. 어떤 데이터를 가져올 것인가"
   ]
  },
  {
   "cell_type": "markdown",
   "metadata": {},
   "source": [
    "- 3-1 음식물 쓰레기 관련"
   ]
  },
  {
   "cell_type": "markdown",
   "metadata": {},
   "source": [
    "        - https://www.data.go.kr/dataset/3045421/fileData.do\n",
    "        - https://www.data.go.kr/dataset/3045421/openapi.do\n",
    "        - https://www.data.go.kr/dataset/3073792/openapi.do\n",
    "        \n",
    "            -음식물 관련 공공데이터 포탈"
   ]
  },
  {
   "cell_type": "markdown",
   "metadata": {},
   "source": [
    "- 3-2 연관된 데이터 관련"
   ]
  },
  {
   "cell_type": "markdown",
   "metadata": {},
   "source": [
    "        -https://www.data.go.kr/dataset/15012005/openapi.do\n",
    "            - 상권정보도 상관 있을듯"
   ]
  },
  {
   "cell_type": "markdown",
   "metadata": {},
   "source": [
    "        -https://www.data.go.kr/dataset/15000496/openapi.do\n",
    "            - 관광객이 많아도?"
   ]
  },
  {
   "cell_type": "markdown",
   "metadata": {},
   "source": [
    "        -https://www.data.go.kr/dataset/15000495/openapi.do\n",
    "            -날씨가 더워도?\n",
    "            "
   ]
  },
  {
   "cell_type": "markdown",
   "metadata": {},
   "source": [
    "        -https://www.data.go.kr/dataset/15028249/openapi.do\n",
    "            -인구에 관해?\n",
    "            "
   ]
  },
  {
   "cell_type": "code",
   "execution_count": null,
   "metadata": {},
   "outputs": [],
   "source": []
  }
 ],
 "metadata": {
  "kernelspec": {
   "display_name": "Python 3",
   "language": "python",
   "name": "python3"
  },
  "language_info": {
   "codemirror_mode": {
    "name": "ipython",
    "version": 3
   },
   "file_extension": ".py",
   "mimetype": "text/x-python",
   "name": "python",
   "nbconvert_exporter": "python",
   "pygments_lexer": "ipython3",
   "version": "3.6.5"
  }
 },
 "nbformat": 4,
 "nbformat_minor": 2
}
