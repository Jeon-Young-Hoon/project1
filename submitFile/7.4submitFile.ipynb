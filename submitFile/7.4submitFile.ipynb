{
 "cells": [
  {
   "cell_type": "markdown",
   "metadata": {},
   "source": [
    "# 7.4submitFile 전영훈"
   ]
  },
  {
   "cell_type": "markdown",
   "metadata": {},
   "source": [
    "- Q.61"
   ]
  },
  {
   "cell_type": "code",
   "execution_count": 2,
   "metadata": {},
   "outputs": [
    {
     "name": "stdout",
     "output_type": "stream",
     "text": [
      "start\n",
      "num : 0\n",
      "no input!\n",
      "num : 0\n",
      "no input!\n",
      "num : 1\n",
      "num : 2\n",
      "num : 3\n",
      "num : 0\n",
      "2.0\n"
     ]
    }
   ],
   "source": [
    "import numpy as np\n",
    "def Average():\n",
    "    print(\"start\")\n",
    "    num_list=[]\n",
    "    \n",
    "    while True:\n",
    "        n=input('num : ')\n",
    "        \n",
    "        if n=='0':\n",
    "            if len(num_list)==0:\n",
    "                print(\"no input!\")\n",
    "                continue\n",
    "            else:\n",
    "                break\n",
    "        \n",
    "        try:\n",
    "            num=int(n)\n",
    "        except:\n",
    "            print(\"input (num)\")\n",
    "            continue\n",
    "        num_list.append(num)\n",
    "    print('average : ',np.average(num_list))\n",
    "def main():\n",
    "    Average()\n",
    "main()"
   ]
  },
  {
   "cell_type": "markdown",
   "metadata": {},
   "source": [
    "- Q.63"
   ]
  },
  {
   "cell_type": "code",
   "execution_count": 6,
   "metadata": {},
   "outputs": [
    {
     "name": "stdout",
     "output_type": "stream",
     "text": [
      "convert table\n",
      "F = C * 1.8 + 32\n",
      "C :  0  -> F :  32.0\n",
      "C :  10  -> F :  50.0\n",
      "C :  20  -> F :  68.0\n",
      "C :  30  -> F :  86.0\n",
      "C :  40  -> F :  104.0\n",
      "C :  50  -> F :  122.0\n",
      "C :  60  -> F :  140.0\n",
      "C :  70  -> F :  158.0\n",
      "C :  80  -> F :  176.0\n",
      "C :  90  -> F :  194.0\n",
      "C :  100  -> F :  212.0\n"
     ]
    }
   ],
   "source": [
    "def display():\n",
    "    print('convert table\\nF = C * 1.8 + 32')\n",
    "    for i in range(0,101,10):\n",
    "        print('C : ',i,' -> F : ',convert(i))\n",
    "def convert(Cel):\n",
    "    return Cel*1.8+32\n",
    "def main():\n",
    "    display()\n",
    "main()"
   ]
  },
  {
   "cell_type": "markdown",
   "metadata": {},
   "source": [
    "- Q.66"
   ]
  },
  {
   "cell_type": "code",
   "execution_count": 11,
   "metadata": {},
   "outputs": [
    {
     "name": "stdout",
     "output_type": "stream",
     "text": [
      "input grade(quit:blank) :A\n",
      "input grade(quit:blank) :c+\n",
      "input grade(quit:blank) :B\n",
      "input grade(quit:blank) :\n",
      "\n",
      "Grade average: 3.1\n"
     ]
    }
   ],
   "source": [
    "import numpy as np\n",
    "def compute():\n",
    "    grade_list=[]\n",
    "    \n",
    "    while True:\n",
    "        n=input('input grade(quit:blank) :')\n",
    "        if n == '':\n",
    "            break\n",
    "        \n",
    "        \n",
    "        if n == 'a+' or n == 'A+':\n",
    "            grade_list.append(4.0)\n",
    "        elif n == 'a' or n == 'A':\n",
    "            grade_list.append(4.0)\n",
    "        elif n == 'a-' or n == 'A-':\n",
    "            grade_list.append(3.7)\n",
    "            \n",
    "        elif n == 'b+' or n == 'B+':\n",
    "            grade_list.append(3.3)\n",
    "        elif n == 'b' or n == 'B':\n",
    "            grade_list.append(3.0)\n",
    "        elif n == 'b-' or n == 'B-':\n",
    "            grade_list.append(2.7)\n",
    "            \n",
    "        elif n == 'c+' or n == 'C+':\n",
    "            grade_list.append(2.3)\n",
    "        elif n == 'c' or n == 'C':\n",
    "            grade_list.append(2.0)\n",
    "        elif n == 'c-' or n == 'C-':\n",
    "            grade_list.append(2.0)\n",
    "            \n",
    "        elif n == 'd+' or n == 'D+':\n",
    "            grade_list.append(1.7)\n",
    "        elif n == 'd' or n == 'D':\n",
    "            grade_list.append(1.3)\n",
    "        elif n == 'd-' or n == 'D-':\n",
    "            grade_list.append(1.0)\n",
    "        elif n == 'f' or n == 'F':\n",
    "            grade_list.append(0)\n",
    "    print('\\nGrade average:',np.average(grade_list))\n",
    "#     print('Result :',res)\n",
    "def main():\n",
    "    compute()\n",
    "main()"
   ]
  },
  {
   "cell_type": "markdown",
   "metadata": {},
   "source": [
    "- Q.67"
   ]
  },
  {
   "cell_type": "code",
   "execution_count": 4,
   "metadata": {},
   "outputs": [
    {
     "name": "stdout",
     "output_type": "stream",
     "text": [
      "line 1 , age? :1\n",
      "line 2 , age? :2\n",
      "line 1 , age? :5\n",
      "line 2 , age? :10\n",
      "line 1 , age? :66\n",
      "line 2 , age? :\n",
      "line 1 , age? :\n",
      "[1, 1, 0, 1]\n",
      "[1, 1, 0, 0]\n",
      "[ 0. 28.  0. 18.]\n",
      "total price :  46.0\n"
     ]
    }
   ],
   "source": [
    "import numpy as np\n",
    "def what_age(num):\n",
    "    if 0<=num<3:\n",
    "        return 0\n",
    "    elif num<13:\n",
    "        return 1\n",
    "    elif num<65:\n",
    "        return 2\n",
    "    else:\n",
    "        return 3\n",
    "        \n",
    "def compute_Price():\n",
    "    f=[False,False]\n",
    "    Price=[0,14.00,23.00,18.00]\n",
    "    line_1=[0,0,0,0]\n",
    "    line_2=[0,0,0,0]\n",
    "    while not(f[0] and f[1]):\n",
    "        if not f[0]:\n",
    "            n=input('line 1 , age? :')\n",
    "            \n",
    "            if n == '':\n",
    "                f[0]=True\n",
    "            else:    \n",
    "                try:\n",
    "                    age=int(n)\n",
    "                except:\n",
    "                    print('input integer')\n",
    "                line_1[what_age(age)]+=1\n",
    "            \n",
    "        if not f[1]:\n",
    "            n=input('line 2 , age? :')\n",
    "            \n",
    "            if n == '':\n",
    "                f[1]=True\n",
    "                \n",
    "            else:    \n",
    "                try:\n",
    "                    age=int(n)\n",
    "                except:\n",
    "                    print('input integer')\n",
    "                line_2[what_age(age)]+=1\n",
    "#     print(line_1)\n",
    "#     print(line_2)\n",
    "    \n",
    "    res=(np.array(line_1)+np.array(line_2))*np.array(Price)\n",
    "#     print(res)\n",
    "    print('total price : ', sum(res),'$')\n",
    "    \n",
    "def main():\n",
    "    compute_Price()\n",
    "main()"
   ]
  },
  {
   "cell_type": "markdown",
   "metadata": {},
   "source": [
    "- Q.72"
   ]
  },
  {
   "cell_type": "code",
   "execution_count": 24,
   "metadata": {},
   "outputs": [
    {
     "name": "stdout",
     "output_type": "stream",
     "text": [
      "input sentence : notamdfs\n",
      "not Palindrome..\n"
     ]
    }
   ],
   "source": [
    "def is_Pal(arr):\n",
    "    mid=int(len(arr)/2)\n",
    "    front=arr[0:mid]\n",
    "    back=arr[-1:mid*(-1)-1:-1]\n",
    "    if front == back:\n",
    "        print('Palindrome!')\n",
    "    else:\n",
    "        print('not Palindrome..')\n",
    "def main():\n",
    "    s=input('input sentence : ')\n",
    "    is_Pal(s)\n",
    "main()"
   ]
  },
  {
   "cell_type": "markdown",
   "metadata": {},
   "source": [
    "- Q.74"
   ]
  },
  {
   "cell_type": "code",
   "execution_count": 30,
   "metadata": {},
   "outputs": [
    {
     "name": "stdout",
     "output_type": "stream",
     "text": [
      "\t1\t2\t3\t4\t5\t6\t7\t8\t9\t10\t1\t1 \t2 \t3 \t4 \t5 \t6 \t7 \t8 \t9 \t10 \t\n",
      "2\t2 \t4 \t6 \t8 \t10 \t12 \t14 \t16 \t18 \t20 \t\n",
      "3\t3 \t6 \t9 \t12 \t15 \t18 \t21 \t24 \t27 \t30 \t\n",
      "4\t4 \t8 \t12 \t16 \t20 \t24 \t28 \t32 \t36 \t40 \t\n",
      "5\t5 \t10 \t15 \t20 \t25 \t30 \t35 \t40 \t45 \t50 \t\n",
      "6\t6 \t12 \t18 \t24 \t30 \t36 \t42 \t48 \t54 \t60 \t\n",
      "7\t7 \t14 \t21 \t28 \t35 \t42 \t49 \t56 \t63 \t70 \t\n",
      "8\t8 \t16 \t24 \t32 \t40 \t48 \t56 \t64 \t72 \t80 \t\n",
      "9\t9 \t18 \t27 \t36 \t45 \t54 \t63 \t72 \t81 \t90 \t\n",
      "10\t10 \t20 \t30 \t40 \t50 \t60 \t70 \t80 \t90 \t100 \t\n"
     ]
    }
   ],
   "source": [
    "def display_table():\n",
    "    import numpy as np\n",
    "    \n",
    "    arr=['',1,2,3,4,5,6,7,8,9,10]\n",
    "    \n",
    "    for j in arr:\n",
    "        print(j,end='\\t')\n",
    "    for i in range(1,11):\n",
    "        print(arr[i],end='\\t')\n",
    "        for j in range(1,11):\n",
    "            print(i*j,'\\t',end='')\n",
    "        print()\n",
    "    \n",
    "def main():\n",
    "    display_table()\n",
    "main()\n"
   ]
  },
  {
   "cell_type": "markdown",
   "metadata": {},
   "source": [
    "- Q.75"
   ]
  },
  {
   "cell_type": "code",
   "execution_count": 62,
   "metadata": {},
   "outputs": [
    {
     "name": "stdout",
     "output_type": "stream",
     "text": [
      "n : 6\n",
      "m :4\n",
      "2\n"
     ]
    }
   ],
   "source": [
    "def gcd(n,m):\n",
    "    d = min(n,m)\n",
    "    while n%d !=0 or m%d !=0:\n",
    "        d-=1\n",
    "    print(d)\n",
    "\n",
    "def gcd2(n,m):\n",
    "    import math\n",
    "    print('gcd : ',math.gcd(n,m))\n",
    "\n",
    "def main():\n",
    "    n,m=int(input('n : ')),int(input('m :'))\n",
    "    gcd(n,m)\n",
    "main()"
   ]
  },
  {
   "cell_type": "markdown",
   "metadata": {},
   "source": [
    "- Q.77"
   ]
  },
  {
   "cell_type": "code",
   "execution_count": 57,
   "metadata": {},
   "outputs": [
    {
     "name": "stdout",
     "output_type": "stream",
     "text": [
      "n(binary) : 1111\n",
      "15\n"
     ]
    }
   ],
   "source": [
    "def bi2de(num):\n",
    "    n=list(num)\n",
    "    n.reverse()\n",
    "    a=1\n",
    "    res=0\n",
    "    for i in n:\n",
    "        res+=(a*int(i))\n",
    "        a*=2\n",
    "    print(res)\n",
    "    \n",
    "def main():\n",
    "    n=input('n(binary) : ')\n",
    "    bi2de(n)\n",
    "main()\n"
   ]
  },
  {
   "cell_type": "markdown",
   "metadata": {},
   "source": [
    "- Q.78"
   ]
  },
  {
   "cell_type": "code",
   "execution_count": 52,
   "metadata": {},
   "outputs": [
    {
     "name": "stdout",
     "output_type": "stream",
     "text": [
      "n : 16\n",
      "10000"
     ]
    }
   ],
   "source": [
    "def de2bi(num):\n",
    "    res=''\n",
    "    q=num\n",
    "    while True:\n",
    "        if q==1:\n",
    "            res+='1'\n",
    "            break\n",
    "        r=q%2\n",
    "        res+=str(r)\n",
    "        q=int(q/2)\n",
    "    \n",
    "    output=list(res)\n",
    "    output.reverse()\n",
    "    for i in output:\n",
    "        print(i,end='')\n",
    "    \n",
    "def main():\n",
    "    n=int(input('n : '))\n",
    "    de2bi(n)\n",
    "main()\n"
   ]
  },
  {
   "cell_type": "markdown",
   "metadata": {},
   "source": [
    "- Q.61"
   ]
  }
 ],
 "metadata": {
  "kernelspec": {
   "display_name": "Python 3",
   "language": "python",
   "name": "python3"
  }
 },
 "nbformat": 4,
 "nbformat_minor": 2
}
