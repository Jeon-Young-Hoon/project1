{
 "cells": [
  {
   "cell_type": "markdown",
   "metadata": {},
   "source": [
    "# 7.9submitFile 전영훈\n"
   ]
  },
  {
   "cell_type": "markdown",
   "metadata": {},
   "source": [
    "- 129"
   ]
  },
  {
   "cell_type": "code",
   "execution_count": 39,
   "metadata": {},
   "outputs": [
    {
     "name": "stdout",
     "output_type": "stream",
     "text": [
      "7\n",
      "     Total Simulated   Expeced\n",
      "             Percent   Percent\n",
      "         2      2.50      2.78\n",
      "         3      5.60      5.56\n",
      "         4      8.70      8.33\n",
      "         5     11.90     11.11\n",
      "         6     13.80     13.89\n",
      "         7     17.00     16.67\n",
      "         8     13.90     13.89\n",
      "         9     10.30     11.11\n",
      "        10      7.50      8.33\n",
      "        11      6.00      5.56\n",
      "        12      2.80      2.78\n"
     ]
    }
   ],
   "source": [
    "def simulation():\n",
    "    import random as rd\n",
    "    \n",
    "    dice=[rd.randint(1,6),rd.randint(1,6)]\n",
    "    #print(dice)\n",
    "    return sum(dice)\n",
    "def main():\n",
    "    print(simulation())\n",
    "    count=[0,0,0,0,0,0,0,0,0,0,0]\n",
    "    pre=[1,2,3,4,5,6,5,4,3,2,1]\n",
    "    for i in range(1000):\n",
    "        count[simulation()-2]+=1\n",
    "    \n",
    "    \n",
    "    print('%10s%10s%10s'%('Total','Simulated','Expeced') )\n",
    "    print('%10s%10s%10s'%('','Percent','Percent') )\n",
    "    for i in range(len(count)):\n",
    "        print('%10d%10.2f%10.2f'%(i+2,count[i]/10,pre[i]*100/36))\n",
    "main()"
   ]
  },
  {
   "cell_type": "markdown",
   "metadata": {},
   "source": [
    "- 130"
   ]
  },
  {
   "cell_type": "code",
   "execution_count": 101,
   "metadata": {},
   "outputs": [
    {
     "name": "stdout",
     "output_type": "stream",
     "text": [
      "input : 4433555555666110966677755531111\n",
      "HELLO, WORLD!"
     ]
    }
   ],
   "source": [
    "a=dict()\n",
    "a[1]= ['.',',','?','!',':']\n",
    "a[2]= ['A','B','C'] \n",
    "a[3]= ['D','E','F'] \n",
    "a[4]= ['G','H','I']\n",
    "a[5]= ['J','K','L'] \n",
    "a[6]= ['M','N','O'] \n",
    "a[7]= ['P','Q','R','S'] \n",
    "a[8]= ['T','U','V'] \n",
    "a[9]= ['W','X','Y','Z'] \n",
    "a[0]= [' ']\n",
    "\n",
    "s=input('input : ')\n",
    "\n",
    "output=[]\n",
    "cnt=0\n",
    "f=False\n",
    "\n",
    "\n",
    "last=-1\n",
    "\n",
    "for i in s:\n",
    "    cur = int(i)\n",
    "    if last == cur:\n",
    "        output[-1][1]+=1\n",
    "        \n",
    "    else:\n",
    "        output.append([cur,1])\n",
    "        last=cur\n",
    "        \n",
    "    \n",
    "    \n",
    "for i,j in output:\n",
    "    for k in range(int((j-1)/len(a[i]))):\n",
    "        print(a[i][-1],end='')\n",
    "    print(a[i][(j-1)%len(a[i])],end='')"
   ]
  },
  {
   "cell_type": "markdown",
   "metadata": {},
   "source": [
    "- 131"
   ]
  },
  {
   "cell_type": "code",
   "execution_count": 70,
   "metadata": {},
   "outputs": [
    {
     "name": "stdout",
     "output_type": "stream",
     "text": [
      "morse : .... . .-.. .-.. --- .-- --- .-. .-.. -..\n",
      "H\n",
      "E\n",
      "L\n",
      "L\n",
      "O\n",
      "W\n",
      "O\n",
      "R\n",
      "L\n",
      "D\n"
     ]
    }
   ],
   "source": [
    "s = input('morse : ')\n",
    "b=s.split()\n",
    "\n",
    "a = dict()\n",
    "a['.-']='A' \n",
    "a['.---']='J'\n",
    "a['...']='S'\n",
    "a['.---']='1'\n",
    "a['-...']='B'\n",
    "a['-.-']='K'  \n",
    "a['-']='T'\n",
    "a['..--']='2' \n",
    "a['-.-.']='C' \n",
    "a['.-..']='L' \n",
    "a['..-']='U'  \n",
    "a['...-']='3' \n",
    "a['-..']='D'  \n",
    "a['--']='M'  \n",
    "a['...-']='V'  \n",
    "a['....']='4' \n",
    "a['.']='E'  \n",
    "a['-.']='N'  \n",
    "a['.--']='W' \n",
    "a['.....']='5' \n",
    "a['..-.']='F'  \n",
    "a['---']='O'  \n",
    "a['-..-']='X'  \n",
    "a['-....']='6'  \n",
    "a['--.']='G'  \n",
    "a['.--.']='P'  \n",
    "a['-.--']='Y'  \n",
    "a['--...']='7'  \n",
    "a['....']='H'  \n",
    "a['--.-']='Q'  \n",
    "a['--..']='Z'  \n",
    "a['---..']='8'  \n",
    "a['..']='I'  \n",
    "a['.-.']='R'  \n",
    "a['-----']='0'  \n",
    "a['----.']='9'\n",
    "\n",
    "for i in b:\n",
    "    print(a[i])"
   ]
  },
  {
   "cell_type": "code",
   "execution_count": 76,
   "metadata": {},
   "outputs": [
    {
     "name": "stdout",
     "output_type": "stream",
     "text": [
      "postal : T2N\n",
      "urban address in Alberta\n"
     ]
    }
   ],
   "source": [
    "a=dict()\n",
    "a['A']='Newfoundland'\n",
    "a['B']= 'Nova Scotia' \n",
    "a['C']='Prince Edward Island' \n",
    "a['E']='New Brunswick' \n",
    "a['G']= 'Quebec'\n",
    "a['H']='Quebec'\n",
    "a['J']='Quebec'\n",
    "a['K']= 'Ontario'\n",
    "a['L']= 'Ontario'\n",
    "a['M']= 'Ontario'\n",
    "a['N']= 'Ontario'\n",
    "a['P']= 'Ontario'\n",
    "a['R']= 'Manitoba' \n",
    "a['S']= 'Saskatchewan' \n",
    "a['T']= 'Alberta' \n",
    "a['V']= 'British Columbia' \n",
    "a['X']= 'Nunavut or Northwest Territories' \n",
    "a['Y']= 'Yukon'\n",
    "\n",
    "s = input('postal : ')\n",
    "try:\n",
    "    str1=a[s[0]]\n",
    "    str2='rural' if s[1]=='0' else 'urban'\n",
    "    \n",
    "except:\n",
    "    print('error')\n",
    "else:\n",
    "    print(str2+' address in '+str1)\n",
    "\n",
    "\n"
   ]
  },
  {
   "cell_type": "code",
   "execution_count": null,
   "metadata": {},
   "outputs": [],
   "source": []
  }
 ],
 "metadata": {
  "kernelspec": {
   "display_name": "Python 3",
   "language": "python",
   "name": "python3"
  },
  "language_info": {
   "codemirror_mode": {
    "name": "ipython",
    "version": 3
   },
   "file_extension": ".py",
   "mimetype": "text/x-python",
   "name": "python",
   "nbconvert_exporter": "python",
   "pygments_lexer": "ipython3",
   "version": "3.6.5"
  }
 },
 "nbformat": 4,
 "nbformat_minor": 2
}
