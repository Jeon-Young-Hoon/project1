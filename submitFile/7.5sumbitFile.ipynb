{
 "cells": [
  {
   "cell_type": "markdown",
   "metadata": {},
   "source": [
    "# 7.5submitFile 전영훈"
   ]
  },
  {
   "cell_type": "markdown",
   "metadata": {},
   "source": [
    "### B : Blue R : Red Question"
   ]
  },
  {
   "cell_type": "markdown",
   "metadata": {},
   "source": [
    "- B.82"
   ]
  },
  {
   "cell_type": "code",
   "execution_count": 1,
   "metadata": {},
   "outputs": [
    {
     "name": "stdout",
     "output_type": "stream",
     "text": [
      "kilomiter? : 0.14\n",
      "Taxi fare :  4.25 $\n"
     ]
    }
   ],
   "source": [
    "def Fare(dis):\n",
    "    import math\n",
    "    d = int((dis * 1000)/140)\n",
    "    res=4.0\n",
    "    dan=0.25\n",
    "    res+=d * dan\n",
    "    return res\n",
    "def main():\n",
    "    n=float(input('kilomiter? : '))\n",
    "    print('Taxi fare : ',Fare(n) ,'$')\n",
    "main()"
   ]
  },
  {
   "cell_type": "markdown",
   "metadata": {},
   "source": [
    "- B.84"
   ]
  },
  {
   "cell_type": "code",
   "execution_count": 2,
   "metadata": {},
   "outputs": [
    {
     "name": "stdout",
     "output_type": "stream",
     "text": [
      "N1 : 1\n",
      "N2 : 3\n",
      "N3 :5\n",
      "Median :  [3.0]\n"
     ]
    }
   ],
   "source": [
    "def median(a,b,c):\n",
    "    ma,mi = max(a,b,c),min(a,b,c),\n",
    "    \n",
    "    return [x for x in [a,b,c] if x != ma and x != mi]\n",
    "    \n",
    "def main():\n",
    "    N1,N2,N3 = float(input('N1 : ')),float(input('N2 : ')),float(input('N3 :'))\n",
    "    print( 'Median : ', median(N1,N2,N3) )\n",
    "main()"
   ]
  },
  {
   "cell_type": "markdown",
   "metadata": {},
   "source": [
    "- B.86"
   ]
  },
  {
   "cell_type": "code",
   "execution_count": 3,
   "metadata": {},
   "outputs": [
    {
     "name": "stdout",
     "output_type": "stream",
     "text": [
      "in2ord\n",
      "[(1, 'first'), (2, 'second'), (3, 'third'), (4, 'fourth'), (5, 'fifth'), (6, 'sixth'), (7, 'seventh'), (8, 'eighth'), (9, 'ninth'), (10, 'tenth'), (11, 'eleventh'), (12, 'twelfth')]\n"
     ]
    }
   ],
   "source": [
    "num_string={0:'',1:'first',2:'second',3:'third',4:'fourth',5:'fifth',6:'sixth',\n",
    "            7:'seventh',8:'eighth',9:'ninth',10:'tenth',11:'eleventh',12:'twelfth'}\n",
    "\n",
    "def in2ord(inte):\n",
    "    try:\n",
    "        return num_string[inte]\n",
    "    except:\n",
    "        return num_string[0]\n",
    "    return res\n",
    "def main():\n",
    "    print('in2ord')\n",
    "    ord_list=[]\n",
    "    \n",
    "    for i in range(1,13):\n",
    "        ord_list.append((i,in2ord(i)))\n",
    "    \n",
    "    print(ord_list)\n",
    "main()"
   ]
  },
  {
   "cell_type": "markdown",
   "metadata": {},
   "source": [
    "- B.88"
   ]
  },
  {
   "cell_type": "code",
   "execution_count": 4,
   "metadata": {},
   "outputs": [
    {
     "name": "stdout",
     "output_type": "stream",
     "text": [
      "a : 3\n",
      "b : 4\n",
      "c : 5\n",
      "Res :  True\n"
     ]
    }
   ],
   "source": [
    "def is_val_Tri(a,b,c):\n",
    "    ma,mi=max(a,b,c),min(a,b,c)\n",
    "    me = [x for x in [a,b,c] if x != ma and x != mi][0]\n",
    "#     print(ma**2,me**2,mi**2)\n",
    "    return ma**2 <=( me**2 + mi**2)\n",
    "def main():\n",
    "    a,b,c = float(input('a : ')),float(input('b : ')),float(input('c : '))\n",
    "    \n",
    "    print('Res : ',is_val_Tri(a,b,c))\n",
    "main()"
   ]
  },
  {
   "cell_type": "markdown",
   "metadata": {},
   "source": [
    "- B.92"
   ]
  },
  {
   "cell_type": "code",
   "execution_count": 5,
   "metadata": {},
   "outputs": [
    {
     "name": "stdout",
     "output_type": "stream",
     "text": [
      "num : 7\n",
      "7 is Prime? :  True\n"
     ]
    }
   ],
   "source": [
    "def isPrime(num):\n",
    "    cnt=0\n",
    "    for i in range(2,int(num/2)+1):\n",
    "        if num % i == 0:\n",
    "            cnt+=1\n",
    "    return cnt == 0\n",
    "def main():\n",
    "    n=int(input('num : '))\n",
    "    \n",
    "    print(n,'is Prime? : ',isPrime(n))\n",
    "main()"
   ]
  },
  {
   "cell_type": "markdown",
   "metadata": {},
   "source": [
    "- R.86"
   ]
  },
  {
   "cell_type": "code",
   "execution_count": 88,
   "metadata": {},
   "outputs": [
    {
     "name": "stdout",
     "output_type": "stream",
     "text": [
      "num? : 1\n",
      "On the first day of Christmas \n",
      "my true love sent to me:\n",
      "a partridge in a pear tree,\n",
      "\n"
     ]
    }
   ],
   "source": [
    "s=\"eleven pipers piping, ten lords a-leaping, nine ladies dancing, eight maids a-milking, seven swans a- swimming, six geese a-laying, five golden rings, four calling birds, three French hens, two turtle doves, a partridge in a pear tree\"\n",
    "a=s.split(', ')\n",
    "# a.reverse()\n",
    "num_string={0:'',1:'first',2:'second',3:'third',4:'fourth',5:'fifth',6:'sixth',\n",
    "            7:'seventh',8:'eighth',9:'ninth',10:'tenth',11:'eleventh',12:'twelfth'}\n",
    "\n",
    "def in2ord(inte):\n",
    "    try:\n",
    "        return num_string[inte]\n",
    "    except:\n",
    "        return num_string[0]\n",
    "    return res\n",
    "\n",
    "def song(n):\n",
    "    res='On the '+ num_string[n] +' day of Christmas \\nmy true love sent to me:\\n'\n",
    "    for i in range(len(a)-n,len(a)):\n",
    "        \n",
    "        if n>1 and  i == 10:\n",
    "            res=res+'And '+a[i]+',\\n'\n",
    "            \n",
    "        else:\n",
    "            res=res+a[i]+',\\n'\n",
    "        \n",
    "    return res\n",
    "def main():\n",
    "    n=int(input('num? : '))\n",
    "    print(song(n))\n",
    "main()"
   ]
  },
  {
   "cell_type": "markdown",
   "metadata": {},
   "source": [
    "- R.89"
   ]
  },
  {
   "cell_type": "code",
   "execution_count": 37,
   "metadata": {},
   "outputs": [
    {
     "name": "stdout",
     "output_type": "stream",
     "text": [
      "<class 'str'>\n",
      "sentence : “what time do i have to be there? what’s the address?\n",
      "convert  : “What time do i have to be there? What’s the address?\n",
      "a\n"
     ]
    }
   ],
   "source": [
    "def convert(s):\n",
    "    f=True\n",
    "    res=s\n",
    "    for i,c in enumerate(s):\n",
    "        if f  :\n",
    "            if c.islower():\n",
    "                res=res[:i]+res[i].capitalize()+res[i+1:]\n",
    "                f=False\n",
    "        elif c == '?' or c == ',' or c == '!':\n",
    "            f=True\n",
    "    return res\n",
    "def main():\n",
    "    s=input('sentence : ')\n",
    "    \n",
    "    print('convert  :',convert(s))\n",
    "\n",
    "main()\n"
   ]
  },
  {
   "cell_type": "markdown",
   "metadata": {},
   "source": [
    "- R.90"
   ]
  },
  {
   "cell_type": "code",
   "execution_count": 41,
   "metadata": {},
   "outputs": [
    {
     "name": "stdout",
     "output_type": "stream",
     "text": [
      "input+3\n",
      "is _int? :  True\n"
     ]
    }
   ],
   "source": [
    "def is_int(num):\n",
    "    try:\n",
    "        int(num)\n",
    "    except:\n",
    "        return False\n",
    "    else:\n",
    "        return True\n",
    "def main():\n",
    "    n=input('input')\n",
    "    \n",
    "    print('is _int? : ',is_int(n))\n",
    "main()"
   ]
  },
  {
   "cell_type": "markdown",
   "metadata": {},
   "source": [
    "- R.93\n"
   ]
  },
  {
   "cell_type": "code",
   "execution_count": 45,
   "metadata": {},
   "outputs": [
    {
     "name": "stdout",
     "output_type": "stream",
     "text": [
      "input5\n",
      "nextPrime is  :  7\n"
     ]
    }
   ],
   "source": [
    "def isPrime(num):\n",
    "    cnt=0\n",
    "    for i in range(2,int(num/2)+1):\n",
    "        if num % i == 0:\n",
    "            cnt+=1\n",
    "    return cnt == 0\n",
    "def nextPrime(n):\n",
    "    cur=n+1\n",
    "    while isPrime(cur) == False:\n",
    "        cur+=1\n",
    "        \n",
    "    return cur\n",
    "def main():\n",
    "    n=int(input('input'))\n",
    "    \n",
    "    print('nextPrime is  : ',nextPrime(n))\n",
    "main()"
   ]
  },
  {
   "cell_type": "code",
   "execution_count": 55,
   "metadata": {},
   "outputs": [
    {
     "name": "stdout",
     "output_type": "stream",
     "text": [
      "inputABCabc123\n",
      "is good? :  True\n"
     ]
    }
   ],
   "source": [
    "def is_good(s):\n",
    "    if len(s)<8:\n",
    "        \n",
    "        return False\n",
    "    f=[False,False,False]\n",
    "    \n",
    "    for c in s:\n",
    "        if c.isupper():\n",
    "            f[0]=True\n",
    "        elif c.islower():\n",
    "            f[1]=True\n",
    "        elif '0' <= c <= '9':\n",
    "            f[2]=True\n",
    "        else:\n",
    "            continue\n",
    "        if f[0] and f[1] and f[2]:\n",
    "            return True\n",
    "    \n",
    "    return False\n",
    "def main():\n",
    "    s=input('input')\n",
    "    \n",
    "    print('is good? : ',is_good(s))\n",
    "main()"
   ]
  }
 ],
 "metadata": {
  "kernelspec": {
   "display_name": "Python 3",
   "language": "python",
   "name": "python3"
  },
  "language_info": {
   "codemirror_mode": {
    "name": "ipython",
    "version": 3
   },
   "file_extension": ".py",
   "mimetype": "text/x-python",
   "name": "python",
   "nbconvert_exporter": "python",
   "pygments_lexer": "ipython3",
   "version": "3.6.5"
  }
 },
 "nbformat": 4,
 "nbformat_minor": 2
}
