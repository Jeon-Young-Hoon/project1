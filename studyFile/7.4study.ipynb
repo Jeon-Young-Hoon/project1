{
 "cells": [
  {
   "cell_type": "markdown",
   "metadata": {},
   "source": [
    "# Git "
   ]
  },
  {
   "cell_type": "markdown",
   "metadata": {},
   "source": [
    "- 형상 관리 도구 / 버전 관리 도구"
   ]
  },
  {
   "cell_type": "markdown",
   "metadata": {},
   "source": [
    "### 필요성"
   ]
  },
  {
   "cell_type": "markdown",
   "metadata": {},
   "source": [
    "- 사용자가 제일 많으므로 서로 코드에 대해 의논이 가능하다"
   ]
  },
  {
   "cell_type": "markdown",
   "metadata": {},
   "source": [
    "- 개발자들이 서로 다른 버전의 코드를 이용하여 작업을 할경우 충돌 발생\n",
    " 따라서 원활한 협동을 위해 버전관리가 필요하다"
   ]
  },
  {
   "cell_type": "markdown",
   "metadata": {},
   "source": [
    "    - 중앙 집중식"
   ]
  },
  {
   "cell_type": "markdown",
   "metadata": {},
   "source": [
    "- 과거로 버전을 돌려여 하는 경우도 있다.(백업의 역할)"
   ]
  },
  {
   "cell_type": "markdown",
   "metadata": {},
   "source": [
    "- 작업자들의 기여도 또한 평가 가능"
   ]
  },
  {
   "cell_type": "markdown",
   "metadata": {},
   "source": [
    "- 하나의 서버만 사용할 경우 h/w가 망가지면 치명적"
   ]
  },
  {
   "cell_type": "markdown",
   "metadata": {},
   "source": [
    "    => 따라서 분산 버전 관리 필요\n",
    "           "
   ]
  },
  {
   "cell_type": "markdown",
   "metadata": {},
   "source": [
    "### 장점"
   ]
  },
  {
   "cell_type": "markdown",
   "metadata": {},
   "source": [
    " - 장점은 svn보다 빠르다"
   ]
  },
  {
   "cell_type": "markdown",
   "metadata": {},
   "source": [
    "    - svn은 변경사항만 저장하므로 처음부터 읽고 변경사항들을 적용시키는 방식\n"
   ]
  },
  {
   "cell_type": "markdown",
   "metadata": {},
   "source": [
    "    - git은 파일을 저장\n",
    "    "
   ]
  },
  {
   "cell_type": "markdown",
   "metadata": {},
   "source": [
    "### 명령어"
   ]
  },
  {
   "cell_type": "markdown",
   "metadata": {},
   "source": [
    "- git init : 시작"
   ]
  },
  {
   "cell_type": "markdown",
   "metadata": {},
   "source": [
    "- git config : login과 같은 기능?\n"
   ]
  },
  {
   "cell_type": "markdown",
   "metadata": {},
   "source": [
    "        --global user.name=\"id\" user.email=\"email\"     : 무조건 설정해야 가능"
   ]
  },
  {
   "cell_type": "markdown",
   "metadata": {},
   "source": [
    "    -system 다른계정으로 로그인 -local 현제 디렉토리 내애서만 로그인 -global 디렉토리든 가능 로컬이 없다면 글로벌이 사용됨"
   ]
  },
  {
   "cell_type": "markdown",
   "metadata": {},
   "source": [
    "    list : 현재 설정된 리스트"
   ]
  },
  {
   "cell_type": "markdown",
   "metadata": {},
   "source": [
    "- git status : 현재 상태 출력"
   ]
  },
  {
   "cell_type": "markdown",
   "metadata": {},
   "source": [
    "    -modified = 수정된 파일"
   ]
  },
  {
   "cell_type": "markdown",
   "metadata": {},
   "source": [
    "- git add [파일 이름] : 새로운 파일 추가"
   ]
  },
  {
   "cell_type": "markdown",
   "metadata": {},
   "source": [
    "- git commit : 제출 ( 반영 ) 명령"
   ]
  },
  {
   "cell_type": "markdown",
   "metadata": {},
   "source": [
    "    - git을 보는 사용자들에게 버전이 어떻게 달라졌는지 내용을 보여줄수 있는 편집기 "
   ]
  },
  {
   "cell_type": "markdown",
   "metadata": {},
   "source": [
    "- git log : 현재까지 작업한 기록(로그) 출력"
   ]
  },
  {
   "cell_type": "markdown",
   "metadata": {},
   "source": [
    "- git diff : 변경 세부사항 출력"
   ]
  },
  {
   "cell_type": "markdown",
   "metadata": {},
   "source": [
    "- git reset : 이전 버전으로 돌아간다 로그기록이 사라져 다시 최신으로 돌릴수 없으니 주의"
   ]
  },
  {
   "cell_type": "markdown",
   "metadata": {},
   "source": [
    "    - git commit -a : git add 와 git commit을 한번에 사용 가능하다"
   ]
  },
  {
   "cell_type": "markdown",
   "metadata": {},
   "source": [
    "    - git commit -m : 편집기 스킵"
   ]
  },
  {
   "cell_type": "markdown",
   "metadata": {},
   "source": [
    "- gitignore라는 파일을 생성하여 .ipynb_checkpoints 같이 git에서 관리할 필요가 없다라는 것을 명시"
   ]
  },
  {
   "cell_type": "markdown",
   "metadata": {},
   "source": [
    "    - !는 관리를 다시 하겠다라는 의미"
   ]
  },
  {
   "cell_type": "markdown",
   "metadata": {},
   "source": [
    "- git show [log] : commit 의 내용을 보고싶다 "
   ]
  },
  {
   "cell_type": "markdown",
   "metadata": {},
   "source": [
    "    -앞 숫자 몇자리만 입력하던가 commit 내용 이름의 tag를 달아 주는 방식으로 이용하면 간편"
   ]
  },
  {
   "cell_type": "markdown",
   "metadata": {},
   "source": [
    "- git tag [name] [log] : tag 달기"
   ]
  },
  {
   "cell_type": "markdown",
   "metadata": {},
   "source": [
    "    -"
   ]
  },
  {
   "cell_type": "markdown",
   "metadata": {},
   "source": [
    "#####  옵션"
   ]
  },
  {
   "cell_type": "markdown",
   "metadata": {},
   "source": [
    "    -(단,관리하겠다고 선언한 파일만 한다 즉 새롭게 만든 파일은 되지 않는다)"
   ]
  },
  {
   "cell_type": "markdown",
   "metadata": {},
   "source": [
    "    -git reset --hard [log] : 파일까지 초기화 시킨다 ( 제거도 된다 )"
   ]
  },
  {
   "cell_type": "markdown",
   "metadata": {},
   "source": [
    "    -git reset --mixed [log] : 파일은 그대로 있고 변경 사항을 이대로 "
   ]
  },
  {
   "cell_type": "markdown",
   "metadata": {},
   "source": [
    "    -git reset --soft [log] : commit 부분을 초기화 한다"
   ]
  },
  {
   "cell_type": "markdown",
   "metadata": {},
   "source": [
    "    -git commit --amend : 커밋 로그 내용 수정\n",
    "   "
   ]
  },
  {
   "cell_type": "markdown",
   "metadata": {},
   "source": [
    "    -git diff -stated : staged 단계에서 변경사항 확인"
   ]
  },
  {
   "cell_type": "markdown",
   "metadata": {},
   "source": [
    "## 여기까지가 local 영역"
   ]
  },
  {
   "cell_type": "markdown",
   "metadata": {},
   "source": [
    "## online까지 이용하는 것이 github"
   ]
  },
  {
   "cell_type": "markdown",
   "metadata": {},
   "source": [
    "- git remote add origin http:~~~ : 파일과 인터넷을 연결"
   ]
  },
  {
   "cell_type": "markdown",
   "metadata": {},
   "source": [
    "- git push -u origin master : master라는 이름을 가져서 데이터를 전송"
   ]
  },
  {
   "cell_type": "markdown",
   "metadata": {},
   "source": [
    "    - commit을 한상태로 보내야 업데이트가 된다"
   ]
  },
  {
   "cell_type": "markdown",
   "metadata": {},
   "source": [
    " - git clone [address] : 원격에 있는 file 들을 download"
   ]
  },
  {
   "cell_type": "markdown",
   "metadata": {},
   "source": [
    "- git pull : 온라인상에 있는 repository에서 변경된 것을 가져올수 있다."
   ]
  },
  {
   "cell_type": "markdown",
   "metadata": {},
   "source": [
    "- 원격과 로컬의 내용이 충돌할 경우 발생가능 -> push 불가 [rejected]"
   ]
  },
  {
   "cell_type": "markdown",
   "metadata": {},
   "source": [
    "    -이때 pull하면 충돌이 일어난 부분을 알 수 있다."
   ]
  },
  {
   "cell_type": "markdown",
   "metadata": {},
   "source": [
    "- 충돌이 발생할 경우 해결방법"
   ]
  },
  {
   "cell_type": "markdown",
   "metadata": {},
   "source": [
    "    -merge, branch ㅏㅂㅇ식"
   ]
  },
  {
   "cell_type": "markdown",
   "metadata": {},
   "source": [
    "- git branch [name] : 분기 만들기 "
   ]
  },
  {
   "cell_type": "markdown",
   "metadata": {},
   "source": [
    "    - -d옵션 : delete"
   ]
  },
  {
   "cell_type": "markdown",
   "metadata": {},
   "source": [
    "- git checkout [name] : 분기 이동"
   ]
  },
  {
   "cell_type": "markdown",
   "metadata": {},
   "source": [
    "- git mergetool : 4가지 창 1 = 마스터 3 : 충돌부분 4 : 수정을 할부분"
   ]
  },
  {
   "cell_type": "markdown",
   "metadata": {},
   "source": [
    "- fork는 깃허브에 있는 기능\n"
   ]
  },
  {
   "cell_type": "markdown",
   "metadata": {},
   "source": [
    "    - 어떤 repository를 수정할 권한을 달라고 요청하거나 ( pull request ) \n",
    "    - fork를 이용하여 자신의 repository를 만들어 사용하기( 나만의 코드 ) "
   ]
  },
  {
   "cell_type": "markdown",
   "metadata": {},
   "source": [
    "- gitlab은 좀더 기업을 위해 보안,형상관리가 적합?"
   ]
  },
  {
   "cell_type": "markdown",
   "metadata": {},
   "source": [
    "    - 일정관리기능도 있고 그룹도 있고(깃도 잇지만)ㅎ\n",
    "   "
   ]
  },
  {
   "cell_type": "markdown",
   "metadata": {},
   "source": []
  },
  {
   "cell_type": "markdown",
   "metadata": {},
   "source": []
  },
  {
   "cell_type": "markdown",
   "metadata": {},
   "source": []
  },
  {
   "cell_type": "markdown",
   "metadata": {},
   "source": []
  },
  {
   "cell_type": "markdown",
   "metadata": {},
   "source": []
  },
  {
   "cell_type": "code",
   "execution_count": null,
   "metadata": {},
   "outputs": [],
   "source": [
    "a=28\n"
   ]
  }
 ],
 "metadata": {
  "kernelspec": {
   "display_name": "Python 3",
   "language": "python",
   "name": "python3"
  },
  "language_info": {
   "codemirror_mode": {
    "name": "ipython",
    "version": 3
   },
   "file_extension": ".py",
   "mimetype": "text/x-python",
   "name": "python",
   "nbconvert_exporter": "python",
   "pygments_lexer": "ipython3",
   "version": "3.6.5"
  }
 },
 "nbformat": 4,
 "nbformat_minor": 2
}
