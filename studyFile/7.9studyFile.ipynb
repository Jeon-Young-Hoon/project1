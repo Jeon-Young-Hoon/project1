{
 "cells": [
  {
   "cell_type": "markdown",
   "metadata": {},
   "source": [
    "# 이번주 : 데이터 처리"
   ]
  },
  {
   "cell_type": "markdown",
   "metadata": {},
   "source": [
    "### DB에 대하여"
   ]
  },
  {
   "cell_type": "markdown",
   "metadata": {},
   "source": [
    "sql 구문\n",
    "\n",
    "문 , 절 , 식 , 술어 \n",
    "\n",
    "update cluase \n",
    "set clause\n",
    "where clause"
   ]
  },
  {
   "cell_type": "markdown",
   "metadata": {},
   "source": [
    "data type ; boolean. character exact numeric , approximate numeric , datetime"
   ]
  },
  {
   "cell_type": "markdown",
   "metadata": {},
   "source": [
    "- varchar 는 가변형 길이기 때문에 주로 사용한다."
   ]
  },
  {
   "cell_type": "markdown",
   "metadata": {},
   "source": [
    "char : 길이가 1인 char, char(n) : 길이가 n인 char"
   ]
  },
  {
   "cell_type": "code",
   "execution_count": 2,
   "metadata": {},
   "outputs": [],
   "source": [
    "import sqlite3"
   ]
  },
  {
   "cell_type": "code",
   "execution_count": 5,
   "metadata": {},
   "outputs": [
    {
     "data": {
      "text/plain": [
       "(2, 6, 0)"
      ]
     },
     "execution_count": 5,
     "metadata": {},
     "output_type": "execute_result"
    }
   ],
   "source": [
    "sqlite3.version_"
   ]
  },
  {
   "cell_type": "code",
   "execution_count": 9,
   "metadata": {},
   "outputs": [],
   "source": [
    "s = sqlite3"
   ]
  },
  {
   "cell_type": "code",
   "execution_count": 10,
   "metadata": {},
   "outputs": [
    {
     "data": {
      "text/plain": [
       "(3, 21, 0)"
      ]
     },
     "execution_count": 10,
     "metadata": {},
     "output_type": "execute_result"
    }
   ],
   "source": [
    "s.sqlite_version_info"
   ]
  },
  {
   "cell_type": "code",
   "execution_count": 11,
   "metadata": {},
   "outputs": [],
   "source": [
    "conn = sqlite3.connect(':memory:')"
   ]
  },
  {
   "cell_type": "markdown",
   "metadata": {},
   "source": [
    "conn는 단순히 접속을 위한것"
   ]
  },
  {
   "cell_type": "code",
   "execution_count": 12,
   "metadata": {},
   "outputs": [],
   "source": [
    "cur = conn.cursor()"
   ]
  },
  {
   "cell_type": "markdown",
   "metadata": {},
   "source": [
    "커서가 sql문을 전송"
   ]
  },
  {
   "cell_type": "code",
   "execution_count": 13,
   "metadata": {},
   "outputs": [
    {
     "data": {
      "text/plain": [
       "sqlite3.Cursor"
      ]
     },
     "execution_count": 13,
     "metadata": {},
     "output_type": "execute_result"
    }
   ],
   "source": [
    "type(cur)"
   ]
  },
  {
   "cell_type": "code",
   "execution_count": 14,
   "metadata": {},
   "outputs": [
    {
     "data": {
      "text/plain": [
       "['__class__',\n",
       " '__delattr__',\n",
       " '__dir__',\n",
       " '__doc__',\n",
       " '__eq__',\n",
       " '__format__',\n",
       " '__ge__',\n",
       " '__getattribute__',\n",
       " '__gt__',\n",
       " '__hash__',\n",
       " '__init__',\n",
       " '__init_subclass__',\n",
       " '__iter__',\n",
       " '__le__',\n",
       " '__lt__',\n",
       " '__ne__',\n",
       " '__new__',\n",
       " '__next__',\n",
       " '__reduce__',\n",
       " '__reduce_ex__',\n",
       " '__repr__',\n",
       " '__setattr__',\n",
       " '__sizeof__',\n",
       " '__str__',\n",
       " '__subclasshook__',\n",
       " 'arraysize',\n",
       " 'close',\n",
       " 'connection',\n",
       " 'description',\n",
       " 'execute',\n",
       " 'executemany',\n",
       " 'executescript',\n",
       " 'fetchall',\n",
       " 'fetchmany',\n",
       " 'fetchone',\n",
       " 'lastrowid',\n",
       " 'row_factory',\n",
       " 'rowcount',\n",
       " 'setinputsizes',\n",
       " 'setoutputsize']"
      ]
     },
     "execution_count": 14,
     "metadata": {},
     "output_type": "execute_result"
    }
   ],
   "source": [
    "dir(cur)"
   ]
  },
  {
   "cell_type": "code",
   "execution_count": 16,
   "metadata": {},
   "outputs": [
    {
     "data": {
      "text/plain": [
       "<sqlite3.Cursor at 0x25ab3cd5420>"
      ]
     },
     "execution_count": 16,
     "metadata": {},
     "output_type": "execute_result"
    }
   ],
   "source": [
    "cur.execute(\"create table people (name_last,age)\")"
   ]
  },
  {
   "cell_type": "code",
   "execution_count": 46,
   "metadata": {},
   "outputs": [
    {
     "data": {
      "text/plain": [
       "<sqlite3.Cursor at 0x25ab3cd5420>"
      ]
     },
     "execution_count": 46,
     "metadata": {},
     "output_type": "execute_result"
    }
   ],
   "source": [
    "who = \"yeltain\"\n",
    "age = 72 \n",
    "\n",
    "cur.execute(\"insert into people values (?,?)\" , (who,age))"
   ]
  },
  {
   "cell_type": "code",
   "execution_count": 47,
   "metadata": {},
   "outputs": [
    {
     "data": {
      "text/plain": [
       "<sqlite3.Cursor at 0x25ab3cd5420>"
      ]
     },
     "execution_count": 47,
     "metadata": {},
     "output_type": "execute_result"
    }
   ],
   "source": [
    "cur.execute(\"select * from people\")"
   ]
  },
  {
   "cell_type": "code",
   "execution_count": 51,
   "metadata": {},
   "outputs": [],
   "source": [
    "cur.fetchone()"
   ]
  },
  {
   "cell_type": "code",
   "execution_count": 90,
   "metadata": {},
   "outputs": [],
   "source": [
    "sql = \"insert into people values (?, ?)\"\n",
    "curData = [('A',1),('B',2),('C',3)]"
   ]
  },
  {
   "cell_type": "code",
   "execution_count": 91,
   "metadata": {},
   "outputs": [
    {
     "data": {
      "text/plain": [
       "<sqlite3.Cursor at 0x25ab3cd5420>"
      ]
     },
     "execution_count": 91,
     "metadata": {},
     "output_type": "execute_result"
    }
   ],
   "source": [
    "cur.executemany(sql,curData)\n",
    "cur.execute(\"select * from people\")"
   ]
  },
  {
   "cell_type": "code",
   "execution_count": 67,
   "metadata": {},
   "outputs": [
    {
     "data": {
      "text/plain": [
       "[('yeltain', 72), ('A', 1), ('B', 2), ('C', 3), ('A', 1)]"
      ]
     },
     "execution_count": 67,
     "metadata": {},
     "output_type": "execute_result"
    }
   ],
   "source": [
    "cur.fetchmany(5)"
   ]
  },
  {
   "cell_type": "code",
   "execution_count": 78,
   "metadata": {},
   "outputs": [
    {
     "data": {
      "text/plain": [
       "<sqlite3.Cursor at 0x25ab3cd5420>"
      ]
     },
     "execution_count": 78,
     "metadata": {},
     "output_type": "execute_result"
    }
   ],
   "source": [
    "cur.execute(\"delete  from people \")"
   ]
  },
  {
   "cell_type": "code",
   "execution_count": 79,
   "metadata": {},
   "outputs": [
    {
     "data": {
      "text/plain": [
       "[]"
      ]
     },
     "execution_count": 79,
     "metadata": {},
     "output_type": "execute_result"
    }
   ],
   "source": [
    "cur.fetchall()"
   ]
  },
  {
   "cell_type": "code",
   "execution_count": 80,
   "metadata": {},
   "outputs": [
    {
     "data": {
      "text/plain": [
       "<sqlite3.Cursor at 0x25ab3cd5420>"
      ]
     },
     "execution_count": 80,
     "metadata": {},
     "output_type": "execute_result"
    }
   ],
   "source": [
    "cur.executescript(\n",
    "\"\"\"\n",
    "    create table person (\n",
    "        first_name text primary key,\n",
    "        last_name text not null\n",
    "    );\n",
    "    \n",
    "    insert into person values('name','kim')\n",
    "\"\"\"\n",
    ")"
   ]
  },
  {
   "cell_type": "code",
   "execution_count": 81,
   "metadata": {},
   "outputs": [
    {
     "data": {
      "text/plain": [
       "<sqlite3.Cursor at 0x25ab3cd5420>"
      ]
     },
     "execution_count": 81,
     "metadata": {},
     "output_type": "execute_result"
    }
   ],
   "source": [
    "cur.execute(\"select * from person\")"
   ]
  },
  {
   "cell_type": "code",
   "execution_count": 82,
   "metadata": {},
   "outputs": [
    {
     "data": {
      "text/plain": [
       "[('name', 'kim')]"
      ]
     },
     "execution_count": 82,
     "metadata": {},
     "output_type": "execute_result"
    }
   ],
   "source": [
    "cur.fetchall()"
   ]
  },
  {
   "cell_type": "code",
   "execution_count": 100,
   "metadata": {},
   "outputs": [],
   "source": [
    "cur = conn.cursor()\n",
    "def select_all(table_name):\n",
    "    cur.execute(\"select * from \"+ table_name)\n",
    "    print(cur.fetchall())"
   ]
  },
  {
   "cell_type": "code",
   "execution_count": 92,
   "metadata": {},
   "outputs": [
    {
     "name": "stdout",
     "output_type": "stream",
     "text": [
      "[('A', 1), ('B', 2), ('C', 3)]\n"
     ]
    }
   ],
   "source": [
    "select_all('people')"
   ]
  },
  {
   "cell_type": "code",
   "execution_count": 93,
   "metadata": {},
   "outputs": [],
   "source": [
    "conn.close()"
   ]
  },
  {
   "cell_type": "code",
   "execution_count": 94,
   "metadata": {},
   "outputs": [],
   "source": [
    "conn = sqlite3.connect('create.db')"
   ]
  },
  {
   "cell_type": "code",
   "execution_count": 95,
   "metadata": {},
   "outputs": [
    {
     "name": "stdout",
     "output_type": "stream",
     "text": [
      "Table created successfully\n"
     ]
    }
   ],
   "source": [
    "conn.execute('''\n",
    "    CREATE TABLE COMPANY(\n",
    "        ID INT PRIMARY KEY NOT NULL,\n",
    "        NAME TEXT NOT NULL,\n",
    "        AGE INT NOT NULL,\n",
    "        ADDRESS CHAR(50),\n",
    "        SALARY REAL);\n",
    "    ''')\n",
    "print(\"Table created successfully\")\n",
    "\n"
   ]
  },
  {
   "cell_type": "code",
   "execution_count": 96,
   "metadata": {},
   "outputs": [
    {
     "data": {
      "text/plain": [
       "<sqlite3.Cursor at 0x25ab3d8b030>"
      ]
     },
     "execution_count": 96,
     "metadata": {},
     "output_type": "execute_result"
    }
   ],
   "source": [
    "conn.execute(\"insert into company (id,name,age,address,salary) \\\n",
    "                values (1,'Paul',32,'California',20000.00)\")"
   ]
  },
  {
   "cell_type": "code",
   "execution_count": 97,
   "metadata": {},
   "outputs": [
    {
     "data": {
      "text/plain": [
       "<sqlite3.Cursor at 0x25ab3d8b570>"
      ]
     },
     "execution_count": 97,
     "metadata": {},
     "output_type": "execute_result"
    }
   ],
   "source": [
    "conn.execute(\"insert into company (id,name,age,address,salary) \\\n",
    "                values (:id,:name,:age,:address,:salary)\",\n",
    "            {'id':2,'name':'Allen','age':25,'address':'Texas','salary':15000.00})"
   ]
  },
  {
   "cell_type": "code",
   "execution_count": 107,
   "metadata": {},
   "outputs": [],
   "source": [
    "data = [(3,'teddy',23,'Norway',200000.00),\n",
    "        (4,'Mark',25,'Rich-Mond',65000.00)]\n",
    "conn.executemany(\"insert into company (id,name,age,address,salary) \\\n",
    "                values (?,?,?,?,?)\",data);"
   ]
  },
  {
   "cell_type": "code",
   "execution_count": 112,
   "metadata": {},
   "outputs": [],
   "source": [
    "conn.executescript(\"\"\"\n",
    "    insert into company (id,name,age,address,salary) \\\n",
    "                values (5,'Mark1',25,'Rich-mond',65000.00);\n",
    "    insert into company (id,name,age,address,salary) \\\n",
    "                values (6,'Mark2',25,'Rich-mond',65000.00);\n",
    "\"\"\");"
   ]
  },
  {
   "cell_type": "code",
   "execution_count": 113,
   "metadata": {},
   "outputs": [
    {
     "name": "stdout",
     "output_type": "stream",
     "text": [
      "rescord created successfully\n"
     ]
    }
   ],
   "source": [
    "conn.commit()\n",
    "print(\"rescord created successfully\")"
   ]
  },
  {
   "cell_type": "code",
   "execution_count": 115,
   "metadata": {},
   "outputs": [
    {
     "name": "stdout",
     "output_type": "stream",
     "text": [
      "[(1, 'Paul', 32, 'California', 20000.0), (2, 'Allen', 25, 'Texas', 15000.0), (3, 'teddy', 23, 'Norway', 200000.0), (4, 'Mark', 25, 'Rich-Mond', 65000.0), (5, 'Mark1', 25, 'Rich-mond', 65000.0), (6, 'Mark2', 25, 'Rich-mond', 65000.0)]\n"
     ]
    }
   ],
   "source": [
    "res = select_all('company')\n",
    "\n",
    "    "
   ]
  },
  {
   "cell_type": "code",
   "execution_count": 130,
   "metadata": {},
   "outputs": [],
   "source": [
    "tmp = conn.execute(\"select * from company\")"
   ]
  },
  {
   "cell_type": "code",
   "execution_count": 131,
   "metadata": {},
   "outputs": [
    {
     "name": "stdout",
     "output_type": "stream",
     "text": [
      "(1, 'Paul', 32, 'California', 20000.0)\n",
      "(2, 'Allen', 25, 'Texas', 15000.0)\n",
      "(3, 'teddy', 23, 'Norway', 400.0)\n",
      "(4, 'Mark', 25, 'Rich-Mond', 65000.0)\n",
      "(5, 'Mark1', 25, 'Rich-mond', 65000.0)\n",
      "(6, 'Mark2', 25, 'Rich-mond', 65000.0)\n"
     ]
    }
   ],
   "source": [
    "for row in tmp:\n",
    "    print(row)"
   ]
  },
  {
   "cell_type": "code",
   "execution_count": 129,
   "metadata": {},
   "outputs": [
    {
     "data": {
      "text/plain": [
       "<sqlite3.Cursor at 0x25ab3d8bd50>"
      ]
     },
     "execution_count": 129,
     "metadata": {},
     "output_type": "execute_result"
    }
   ],
   "source": [
    "conn.execute(\"update company set salary = 400.00 where id = 3\")"
   ]
  },
  {
   "cell_type": "code",
   "execution_count": 132,
   "metadata": {},
   "outputs": [],
   "source": [
    "conn.commit()"
   ]
  },
  {
   "cell_type": "code",
   "execution_count": 133,
   "metadata": {},
   "outputs": [],
   "source": [
    "import sqlite3 as sql\n",
    "\n",
    "con = None\n"
   ]
  },
  {
   "cell_type": "code",
   "execution_count": 134,
   "metadata": {},
   "outputs": [
    {
     "name": "stdout",
     "output_type": "stream",
     "text": [
      "sqlite version:  ('3.21.0',)\n"
     ]
    }
   ],
   "source": [
    "try:\n",
    "    con = sql.connect('test.db')\n",
    "    cur = con.cursor()\n",
    "    cur.execute('select SQLITE_VERSION()')\n",
    "    data = cur.fetchone()\n",
    "    print(\"sqlite version: \" , data)\n",
    "except Exception as e:\n",
    "    print(\"error: \",e)\n",
    "finally:\n",
    "    if con:\n",
    "        con.close()"
   ]
  },
  {
   "cell_type": "code",
   "execution_count": 159,
   "metadata": {},
   "outputs": [],
   "source": [
    "con = sql.connect('test.db')\n",
    "\n",
    "with con:\n",
    "    cur = con.cursor()\n",
    "    #cur.execute('create table cars(id int primary key,name text,price int)')\n"
   ]
  },
  {
   "cell_type": "code",
   "execution_count": 164,
   "metadata": {},
   "outputs": [
    {
     "name": "stdout",
     "output_type": "stream",
     "text": [
      "error: 'sqlite3.Cursor' object has no attribute 'commit'\n"
     ]
    }
   ],
   "source": [
    "try:\n",
    "    cars = [\n",
    "        (1,'audi',52642),\n",
    "        (2,'Mercedes',57127),\n",
    "        (3,'Skoda',9000),\n",
    "        (4,'Volvo',29000),\n",
    "        (5,'Bentley',350000),\n",
    "        (6,'Hummer',41400),\n",
    "        (7,'Volkswagen',21600),\n",
    "    ]\n",
    "    cur.executemany(\"insert into cars values(?,?,?)\",cars)\n",
    "    cur.commit()\n",
    "except Exception as e:\n",
    "    if con:\n",
    "        con.rollback()\n",
    "    print(\"error:\",e)\n",
    "finally:\n",
    "    if con:\n",
    "        con.close()"
   ]
  },
  {
   "cell_type": "code",
   "execution_count": 165,
   "metadata": {},
   "outputs": [
    {
     "name": "stdout",
     "output_type": "stream",
     "text": [
      "[]\n"
     ]
    }
   ],
   "source": [
    "con = sql.connect('test.db')\n",
    "\n",
    "with con:\n",
    "    cur = con.cursor()\n",
    "cur.execute('select * from cars')\n",
    "print(cur.fetchall())"
   ]
  },
  {
   "cell_type": "code",
   "execution_count": 140,
   "metadata": {},
   "outputs": [
    {
     "data": {
      "text/plain": [
       "[(1, 'audi', 52642),\n",
       " (2, 'Mercedes', 57127),\n",
       " (3, 'Skoda', 9000),\n",
       " (4, 'Volvo', 29000),\n",
       " (5, 'Bentley', 350000),\n",
       " (6, 'Hummer', 41400)]"
      ]
     },
     "execution_count": 140,
     "metadata": {},
     "output_type": "execute_result"
    }
   ],
   "source": [
    "cur.fetchall()"
   ]
  },
  {
   "cell_type": "code",
   "execution_count": 149,
   "metadata": {},
   "outputs": [
    {
     "name": "stdout",
     "output_type": "stream",
     "text": [
      "The last Id of the inserted row is 4\n"
     ]
    }
   ],
   "source": [
    "con = sql.connect(':memory:')\n",
    "\n",
    "with con:\n",
    "    cur= con.cursor()\n",
    "    cur.execute(\"create table Friends(id integer primary key,name text);\")\n",
    "    cur.execute(\"insert into friends(name) values('Tom');\")\n",
    "    cur.execute(\"insert into friends(name) values('Rebecca');\")\n",
    "    cur.execute(\"insert into friends(name) values('Jim');\")\n",
    "    cur.execute(\"insert into friends(name) values('Robert');\")\n",
    "    \n",
    "    lid = cur.lastrowid\n",
    "    print(\"The last Id of the inserted row is\",lid)"
   ]
  },
  {
   "cell_type": "code",
   "execution_count": 150,
   "metadata": {},
   "outputs": [
    {
     "name": "stdout",
     "output_type": "stream",
     "text": [
      "[(1, 'Tom'), (2, 'Rebecca'), (3, 'Jim'), (4, 'Robert')]\n"
     ]
    }
   ],
   "source": [
    "cur.execute('select * from friends')\n",
    "print(cur.fetchall())"
   ]
  },
  {
   "cell_type": "code",
   "execution_count": 154,
   "metadata": {},
   "outputs": [],
   "source": [
    "\n",
    "con = sql.connect('test.db')\n",
    "con.commit()\n",
    "with con:\n",
    "    cur = con.cursor()\n",
    "    cur.execute('select * from cars')\n",
    "    \n",
    "    while True:\n",
    "        row = cur.fetchone()\n",
    "        \n",
    "        if row == None:\n",
    "            break\n",
    "            \n",
    "        print(row[0],row[1],row[2])"
   ]
  },
  {
   "cell_type": "code",
   "execution_count": 166,
   "metadata": {},
   "outputs": [],
   "source": [
    "import sqlite3\n",
    "\n",
    "con = sqlite3.connect('exising_db.db')\n",
    "with open('dump.sql','w') as f:\n",
    "    for line in con.iterdump():\n",
    "        f.write('%s\\n' % line)"
   ]
  },
  {
   "cell_type": "code",
   "execution_count": 167,
   "metadata": {},
   "outputs": [
    {
     "data": {
      "text/plain": [
       "<generator object _iterdump at 0x0000025AB3E04360>"
      ]
     },
     "execution_count": 167,
     "metadata": {},
     "output_type": "execute_result"
    }
   ],
   "source": []
  },
  {
   "cell_type": "code",
   "execution_count": null,
   "metadata": {},
   "outputs": [],
   "source": []
  }
 ],
 "metadata": {
  "kernelspec": {
   "display_name": "Python 3",
   "language": "python",
   "name": "python3"
  },
  "language_info": {
   "codemirror_mode": {
    "name": "ipython",
    "version": 3
   },
   "file_extension": ".py",
   "mimetype": "text/x-python",
   "name": "python",
   "nbconvert_exporter": "python",
   "pygments_lexer": "ipython3",
   "version": "3.6.5"
  }
 },
 "nbformat": 4,
 "nbformat_minor": 2
}
