{
 "cells": [
  {
   "cell_type": "markdown",
   "metadata": {},
   "source": [
    "# 7.13 studyFile"
   ]
  },
  {
   "cell_type": "markdown",
   "metadata": {},
   "source": [
    "###  json\n"
   ]
  },
  {
   "cell_type": "markdown",
   "metadata": {},
   "source": [
    "- json 사용 이유 : 구조화된 데이터를 주고 받는데 편리  "
   ]
  },
  {
   "cell_type": "markdown",
   "metadata": {},
   "source": [
    "{\n",
    "    \"ex1\" : \"ex1\"\n",
    "    \"ex2\" : [\"ex21\",\"ex22\"]\n",
    "}"
   ]
  },
  {
   "cell_type": "code",
   "execution_count": 4,
   "metadata": {},
   "outputs": [],
   "source": [
    "import json"
   ]
  },
  {
   "cell_type": "code",
   "execution_count": 8,
   "metadata": {},
   "outputs": [
    {
     "data": {
      "text/plain": [
       "<function json.dump(obj, fp, *, skipkeys=False, ensure_ascii=True, check_circular=True, allow_nan=True, cls=None, indent=None, separators=None, default=None, sort_keys=False, **kw)>"
      ]
     },
     "execution_count": 8,
     "metadata": {},
     "output_type": "execute_result"
    }
   ],
   "source": [
    "json.encoder\n",
    "json.decoder\n",
    "json.dump()#파일\n",
    "json.dumps()#메모리"
   ]
  },
  {
   "cell_type": "code",
   "execution_count": 9,
   "metadata": {},
   "outputs": [
    {
     "ename": "SyntaxError",
     "evalue": "invalid syntax (<ipython-input-9-4fedee195602>, line 1)",
     "output_type": "error",
     "traceback": [
      "\u001b[1;36m  File \u001b[1;32m\"<ipython-input-9-4fedee195602>\"\u001b[1;36m, line \u001b[1;32m1\u001b[0m\n\u001b[1;33m    name = }\u001b[0m\n\u001b[1;37m           ^\u001b[0m\n\u001b[1;31mSyntaxError\u001b[0m\u001b[1;31m:\u001b[0m invalid syntax\n"
     ]
    }
   ],
   "source": [
    "name = }"
   ]
  },
  {
   "cell_type": "code",
   "execution_count": 13,
   "metadata": {},
   "outputs": [],
   "source": [
    "name = (\"kim\",\"lee\",\"park\")"
   ]
  },
  {
   "cell_type": "code",
   "execution_count": 15,
   "metadata": {},
   "outputs": [],
   "source": [
    "age = [28,32,25]"
   ]
  },
  {
   "cell_type": "code",
   "execution_count": 17,
   "metadata": {},
   "outputs": [],
   "source": [
    "person = {\"name\":\"kim\",\"age\":28,\"car\":False}"
   ]
  },
  {
   "cell_type": "code",
   "execution_count": 22,
   "metadata": {},
   "outputs": [],
   "source": [
    "nameStr = json.dumps(name)\n",
    "ageStr = json.dumps(age)\n",
    "personStr = json.dumps(person, indent=\"    \")"
   ]
  },
  {
   "cell_type": "code",
   "execution_count": 23,
   "metadata": {},
   "outputs": [
    {
     "name": "stdout",
     "output_type": "stream",
     "text": [
      "{\n",
      "    \"name\": \"kim\",\n",
      "    \"age\": 28,\n",
      "    \"car\": false\n",
      "}\n"
     ]
    }
   ],
   "source": [
    "print(personStr)"
   ]
  },
  {
   "cell_type": "code",
   "execution_count": 30,
   "metadata": {},
   "outputs": [
    {
     "name": "stdout",
     "output_type": "stream",
     "text": [
      "[\"\\uae40\", \"\\uc774\", \"\\ubc15\"]\n",
      "[\"\\uae40\", \"\\uc774\", \"\\ubc15\"]\n"
     ]
    }
   ],
   "source": [
    "kname = (\"김\",\"이\",\"박\")\n",
    "knameStr = json.dumps(kname)\n",
    "print(knameStr)\n",
    "\n",
    "knameStr = json.dumps(kname)\n",
    "print(knameStr)"
   ]
  },
  {
   "cell_type": "code",
   "execution_count": 34,
   "metadata": {},
   "outputs": [
    {
     "data": {
      "text/plain": [
       "True"
      ]
     },
     "execution_count": 34,
     "metadata": {},
     "output_type": "execute_result"
    }
   ],
   "source": [
    "personObj = json.loads(personStr)\n",
    "person == personObj"
   ]
  },
  {
   "cell_type": "code",
   "execution_count": 35,
   "metadata": {},
   "outputs": [
    {
     "data": {
      "text/plain": [
       "'kim'"
      ]
     },
     "execution_count": 35,
     "metadata": {},
     "output_type": "execute_result"
    }
   ],
   "source": [
    "personObj[\"name\"]"
   ]
  },
  {
   "cell_type": "code",
   "execution_count": 37,
   "metadata": {},
   "outputs": [],
   "source": [
    "personObj[\"car\"]= [\"레이\",\"모닝\"]"
   ]
  },
  {
   "cell_type": "code",
   "execution_count": 38,
   "metadata": {},
   "outputs": [
    {
     "data": {
      "text/plain": [
       "{'name': 'kim', 'age': 28, 'car': ['레이', '모닝']}"
      ]
     },
     "execution_count": 38,
     "metadata": {},
     "output_type": "execute_result"
    }
   ],
   "source": [
    "personObj"
   ]
  },
  {
   "cell_type": "code",
   "execution_count": 39,
   "metadata": {},
   "outputs": [],
   "source": [
    "with open(\"test.json\",'w') as fp:\n",
    "    json.dump(personObj,fp)"
   ]
  },
  {
   "cell_type": "code",
   "execution_count": 43,
   "metadata": {},
   "outputs": [],
   "source": [
    "with open('test.json','r') as fp:\n",
    "    loadObj = json.load(fp)"
   ]
  },
  {
   "cell_type": "code",
   "execution_count": 44,
   "metadata": {},
   "outputs": [
    {
     "data": {
      "text/plain": [
       "{'name': 'kim', 'age': 28, 'car': ['레이', '모닝']}"
      ]
     },
     "execution_count": 44,
     "metadata": {},
     "output_type": "execute_result"
    }
   ],
   "source": [
    "loadObj"
   ]
  },
  {
   "cell_type": "code",
   "execution_count": 45,
   "metadata": {},
   "outputs": [
    {
     "data": {
      "text/plain": [
       "True"
      ]
     },
     "execution_count": 45,
     "metadata": {},
     "output_type": "execute_result"
    }
   ],
   "source": [
    "personObj == loadObj"
   ]
  },
  {
   "cell_type": "code",
   "execution_count": 59,
   "metadata": {},
   "outputs": [],
   "source": [
    "import json\n",
    "import urllib.request"
   ]
  },
  {
   "cell_type": "code",
   "execution_count": 77,
   "metadata": {},
   "outputs": [],
   "source": [
    "resp = urllib.request.urlopen(url = \"http://openapi.airkorea.or.kr/openapi/services/rest/ArpltnInforInqireSvc/getCtprvnRltmMesureDnsty?serviceKey=Y5DSBJBS%2Fm1IIAcO37lFFbJttSm%2Bh494BebepLaLUhMwcJMfgQQ4%2BbKj3Udxi4489gGTXXlzMNoi4CQzAmxZ6g%3D%3D&numOfRows=10&pageSize=10&pageNo=1&startPage=1&sidoName=%EC%9D%B8%EC%B2%9C&ver=1.3\")\n"
   ]
  },
  {
   "cell_type": "code",
   "execution_count": 78,
   "metadata": {},
   "outputs": [],
   "source": [
    "text = resp.read()"
   ]
  },
  {
   "cell_type": "code",
   "execution_count": 79,
   "metadata": {},
   "outputs": [
    {
     "data": {
      "text/plain": [
       "bytes"
      ]
     },
     "execution_count": 79,
     "metadata": {},
     "output_type": "execute_result"
    }
   ],
   "source": [
    "type(text)"
   ]
  },
  {
   "cell_type": "code",
   "execution_count": 80,
   "metadata": {},
   "outputs": [],
   "source": [
    "textStr = text.decode(\"utf-8\")"
   ]
  },
  {
   "cell_type": "code",
   "execution_count": 83,
   "metadata": {},
   "outputs": [
    {
     "data": {
      "text/plain": [
       "'<?xml version=\"1.0\" encoding=\"UTF-8\"?>\\r\\n\\r\\n\\r\\n\\r\\n\\r\\n<response>\\r\\n\\t<header>\\r\\n\\t\\t<resultCode>00</resultCode>\\r\\n\\t\\t<resultMsg>NORMAL SERVICE.</resultMsg>\\r\\n\\t</header>\\r\\n\\t<body>\\r\\n\\t\\t<items>\\r\\n\\t\\t\\t\\r\\n\\t\\t\\t\\t<item>\\r\\n\\t\\t\\t\\t\\t<stationName>신흥</stationName>\\r\\n\\t\\t\\t\\t\\t\\r\\n                        <mangName>도시대기</mangName>\\r\\n                    \\r\\n\\t\\t\\t\\t\\t<dataTime>2018-07-13 14:00</dataTime>\\r\\n\\t\\t\\t\\t\\t<so2Value>0.003</so2Value>\\r\\n\\t\\t\\t\\t\\t<coValue>0.3</coValue>\\r\\n\\t\\t\\t\\t\\t<o3Value>0.009</o3Value>\\r\\n\\t\\t\\t\\t\\t<no2Value>0.024</no2Value>\\r\\n\\t\\t\\t\\t\\t<pm10Value>-</pm10Value>\\r\\n\\t\\t\\t\\t\\t\\r\\n                        <pm10Value24>-</pm10Value24>\\r\\n                    \\r\\n\\t\\t\\t\\t\\t\\r\\n\\t\\t\\t\\t        <pm25Value>-</pm25Value>\\r\\n\\t\\t\\t\\t    \\r\\n\\t\\t\\t\\t    \\r\\n                        <pm25Value24>-</pm25Value24>\\r\\n                    \\r\\n\\t\\t\\t\\t\\t<khaiValue>-</khaiValue>\\r\\n\\t\\t\\t\\t\\t<khaiGrade></khaiGrade>\\r\\n\\t\\t\\t\\t\\t<so2Grade>1</so2Grade>\\r\\n\\t\\t\\t\\t\\t<coGrade>1</coGrade>\\r\\n\\t\\t\\t\\t\\t<o3Grade>1</o3Grade>\\r\\n\\t\\t\\t\\t\\t<no2Grade>1</no2Grade>\\r\\n\\t\\t\\t\\t\\t<pm10Grade></pm10Grade>\\r\\n\\t\\t\\t\\t\\t\\r\\n\\t\\t\\t\\t        <pm25Grade></pm25Grade>\\r\\n\\t\\t\\t\\t    \\r\\n\\t\\t\\t\\t    \\r\\n                        <pm10Grade1h></pm10Grade1h>\\r\\n                        <pm25Grade1h></pm25Grade1h>\\r\\n                    \\r\\n\\t\\t\\t\\t</item>\\r\\n\\t\\t\\t\\r\\n\\t\\t\\t\\t<item>\\r\\n\\t\\t\\t\\t\\t<stationName>송림</stationName>\\r\\n\\t\\t\\t\\t\\t\\r\\n                        <mangName>도시대기</mangName>\\r\\n                    \\r\\n\\t\\t\\t\\t\\t<dataTime>2018-07-13 14:00</dataTime>\\r\\n\\t\\t\\t\\t\\t<so2Value>0.008</so2Value>\\r\\n\\t\\t\\t\\t\\t<coValue>0.5</coValue>\\r\\n\\t\\t\\t\\t\\t<o3Value>0.018</o3Value>\\r\\n\\t\\t\\t\\t\\t<no2Value>0.020</no2Value>\\r\\n\\t\\t\\t\\t\\t<pm10Value>31</pm10Value>\\r\\n\\t\\t\\t\\t\\t\\r\\n                        <pm10Value24>29</pm10Value24>\\r\\n                    \\r\\n\\t\\t\\t\\t\\t\\r\\n\\t\\t\\t\\t        <pm25Value>16</pm25Value>\\r\\n\\t\\t\\t\\t    \\r\\n\\t\\t\\t\\t    \\r\\n                        <pm25Value24>12</pm25Value24>\\r\\n                    \\r\\n\\t\\t\\t\\t\\t<khaiValue>48</khaiValue>\\r\\n\\t\\t\\t\\t\\t<khaiGrade>1</khaiGrade>\\r\\n\\t\\t\\t\\t\\t<so2Grade>1</so2Grade>\\r\\n\\t\\t\\t\\t\\t<coGrade>1</coGrade>\\r\\n\\t\\t\\t\\t\\t<o3Grade>1</o3Grade>\\r\\n\\t\\t\\t\\t\\t<no2Grade>1</no2Grade>\\r\\n\\t\\t\\t\\t\\t<pm10Grade>1</pm10Grade>\\r\\n\\t\\t\\t\\t\\t\\r\\n\\t\\t\\t\\t        <pm25Grade>1</pm25Grade>\\r\\n\\t\\t\\t\\t    \\r\\n\\t\\t\\t\\t    \\r\\n                        <pm10Grade1h>2</pm10Grade1h>\\r\\n                        <pm25Grade1h>2</pm25Grade1h>\\r\\n                    \\r\\n\\t\\t\\t\\t</item>\\r\\n\\t\\t\\t\\r\\n\\t\\t\\t\\t<item>\\r\\n\\t\\t\\t\\t\\t<stationName>구월동</stationName>\\r\\n\\t\\t\\t\\t\\t\\r\\n                        <mangName>도시대기</mangName>\\r\\n                    \\r\\n\\t\\t\\t\\t\\t<dataTime>2018-07-13 14:00</dataTime>\\r\\n\\t\\t\\t\\t\\t<so2Value>0.004</so2Value>\\r\\n\\t\\t\\t\\t\\t<coValue>0.8</coValue>\\r\\n\\t\\t\\t\\t\\t<o3Value>0.029</o3Value>\\r\\n\\t\\t\\t\\t\\t<no2Value>0.009</no2Value>\\r\\n\\t\\t\\t\\t\\t<pm10Value>19</pm10Value>\\r\\n\\t\\t\\t\\t\\t\\r\\n                        <pm10Value24>20</pm10Value24>\\r\\n                    \\r\\n\\t\\t\\t\\t\\t\\r\\n\\t\\t\\t\\t        <pm25Value>7</pm25Value>\\r\\n\\t\\t\\t\\t    \\r\\n\\t\\t\\t\\t    \\r\\n                        <pm25Value24>11</pm25Value24>\\r\\n                    \\r\\n\\t\\t\\t\\t\\t<khaiValue>48</khaiValue>\\r\\n\\t\\t\\t\\t\\t<khaiGrade>1</khaiGrade>\\r\\n\\t\\t\\t\\t\\t<so2Grade>1</so2Grade>\\r\\n\\t\\t\\t\\t\\t<coGrade>1</coGrade>\\r\\n\\t\\t\\t\\t\\t<o3Grade>1</o3Grade>\\r\\n\\t\\t\\t\\t\\t<no2Grade>1</no2Grade>\\r\\n\\t\\t\\t\\t\\t<pm10Grade>1</pm10Grade>\\r\\n\\t\\t\\t\\t\\t\\r\\n\\t\\t\\t\\t        <pm25Grade>1</pm25Grade>\\r\\n\\t\\t\\t\\t    \\r\\n\\t\\t\\t\\t    \\r\\n                        <pm10Grade1h>1</pm10Grade1h>\\r\\n                        <pm25Grade1h>1</pm25Grade1h>\\r\\n                    \\r\\n\\t\\t\\t\\t</item>\\r\\n\\t\\t\\t\\r\\n\\t\\t\\t\\t<item>\\r\\n\\t\\t\\t\\t\\t<stationName>숭의</stationName>\\r\\n\\t\\t\\t\\t\\t\\r\\n                        <mangName>도시대기</mangName>\\r\\n                    \\r\\n\\t\\t\\t\\t\\t<dataTime>2018-07-13 14:00</dataTime>\\r\\n\\t\\t\\t\\t\\t<so2Value>0.004</so2Value>\\r\\n\\t\\t\\t\\t\\t<coValue>0.4</coValue>\\r\\n\\t\\t\\t\\t\\t<o3Value>0.029</o3Value>\\r\\n\\t\\t\\t\\t\\t<no2Value>0.014</no2Value>\\r\\n\\t\\t\\t\\t\\t<pm10Value>23</pm10Value>\\r\\n\\t\\t\\t\\t\\t\\r\\n                        <pm10Value24>20</pm10Value24>\\r\\n                    \\r\\n\\t\\t\\t\\t\\t\\r\\n\\t\\t\\t\\t        <pm25Value>12</pm25Value>\\r\\n\\t\\t\\t\\t    \\r\\n\\t\\t\\t\\t    \\r\\n                        <pm25Value24>13</pm25Value24>\\r\\n                    \\r\\n\\t\\t\\t\\t\\t<khaiValue>48</khaiValue>\\r\\n\\t\\t\\t\\t\\t<khaiGrade>1</khaiGrade>\\r\\n\\t\\t\\t\\t\\t<so2Grade>1</so2Grade>\\r\\n\\t\\t\\t\\t\\t<coGrade>1</coGrade>\\r\\n\\t\\t\\t\\t\\t<o3Grade>1</o3Grade>\\r\\n\\t\\t\\t\\t\\t<no2Grade>1</no2Grade>\\r\\n\\t\\t\\t\\t\\t<pm10Grade>1</pm10Grade>\\r\\n\\t\\t\\t\\t\\t\\r\\n\\t\\t\\t\\t        <pm25Grade>1</pm25Grade>\\r\\n\\t\\t\\t\\t    \\r\\n\\t\\t\\t\\t    \\r\\n                        <pm10Grade1h>1</pm10Grade1h>\\r\\n                        <pm25Grade1h>1</pm25Grade1h>\\r\\n                    \\r\\n\\t\\t\\t\\t</item>\\r\\n\\t\\t\\t\\r\\n\\t\\t\\t\\t<item>\\r\\n\\t\\t\\t\\t\\t<stationName>석바위</stationName>\\r\\n\\t\\t\\t\\t\\t\\r\\n                        <mangName>도로변대기</mangName>\\r\\n                    \\r\\n\\t\\t\\t\\t\\t<dataTime>2018-07-13 14:00</dataTime>\\r\\n\\t\\t\\t\\t\\t<so2Value>-</so2Value>\\r\\n\\t\\t\\t\\t\\t<coValue>-</coValue>\\r\\n\\t\\t\\t\\t\\t<o3Value>-</o3Value>\\r\\n\\t\\t\\t\\t\\t<no2Value>-</no2Value>\\r\\n\\t\\t\\t\\t\\t<pm10Value>-</pm10Value>\\r\\n\\t\\t\\t\\t\\t\\r\\n                        <pm10Value24>13</pm10Value24>\\r\\n                    \\r\\n\\t\\t\\t\\t\\t\\r\\n\\t\\t\\t\\t        <pm25Value>-</pm25Value>\\r\\n\\t\\t\\t\\t    \\r\\n\\t\\t\\t\\t    \\r\\n                        <pm25Value24>9</pm25Value24>\\r\\n                    \\r\\n\\t\\t\\t\\t\\t<khaiValue>-</khaiValue>\\r\\n\\t\\t\\t\\t\\t<khaiGrade></khaiGrade>\\r\\n\\t\\t\\t\\t\\t<so2Grade></so2Grade>\\r\\n\\t\\t\\t\\t\\t<coGrade></coGrade>\\r\\n\\t\\t\\t\\t\\t<o3Grade></o3Grade>\\r\\n\\t\\t\\t\\t\\t<no2Grade></no2Grade>\\r\\n\\t\\t\\t\\t\\t<pm10Grade>1</pm10Grade>\\r\\n\\t\\t\\t\\t\\t\\r\\n\\t\\t\\t\\t        <pm25Grade>1</pm25Grade>\\r\\n\\t\\t\\t\\t    \\r\\n\\t\\t\\t\\t    \\r\\n                        <pm10Grade1h></pm10Grade1h>\\r\\n                        <pm25Grade1h></pm25Grade1h>\\r\\n                    \\r\\n\\t\\t\\t\\t</item>\\r\\n\\t\\t\\t\\r\\n\\t\\t\\t\\t<item>\\r\\n\\t\\t\\t\\t\\t<stationName>부평역</stationName>\\r\\n\\t\\t\\t\\t\\t\\r\\n                        <mangName>도로변대기</mangName>\\r\\n                    \\r\\n\\t\\t\\t\\t\\t<dataTime>2018-07-13 14:00</dataTime>\\r\\n\\t\\t\\t\\t\\t<so2Value>0.006</so2Value>\\r\\n\\t\\t\\t\\t\\t<coValue>0.4</coValue>\\r\\n\\t\\t\\t\\t\\t<o3Value>0.008</o3Value>\\r\\n\\t\\t\\t\\t\\t<no2Value>0.015</no2Value>\\r\\n\\t\\t\\t\\t\\t<pm10Value>-</pm10Value>\\r\\n\\t\\t\\t\\t\\t\\r\\n                        <pm10Value24>-</pm10Value24>\\r\\n                    \\r\\n\\t\\t\\t\\t\\t\\r\\n\\t\\t\\t\\t        <pm25Value>-</pm25Value>\\r\\n\\t\\t\\t\\t    \\r\\n\\t\\t\\t\\t    \\r\\n                        <pm25Value24>-</pm25Value24>\\r\\n                    \\r\\n\\t\\t\\t\\t\\t<khaiValue>-</khaiValue>\\r\\n\\t\\t\\t\\t\\t<khaiGrade></khaiGrade>\\r\\n\\t\\t\\t\\t\\t<so2Grade>1</so2Grade>\\r\\n\\t\\t\\t\\t\\t<coGrade>1</coGrade>\\r\\n\\t\\t\\t\\t\\t<o3Grade>1</o3Grade>\\r\\n\\t\\t\\t\\t\\t<no2Grade>1</no2Grade>\\r\\n\\t\\t\\t\\t\\t<pm10Grade></pm10Grade>\\r\\n\\t\\t\\t\\t\\t\\r\\n\\t\\t\\t\\t        <pm25Grade></pm25Grade>\\r\\n\\t\\t\\t\\t    \\r\\n\\t\\t\\t\\t    \\r\\n                        <pm10Grade1h></pm10Grade1h>\\r\\n                        <pm25Grade1h></pm25Grade1h>\\r\\n                    \\r\\n\\t\\t\\t\\t</item>\\r\\n\\t\\t\\t\\r\\n\\t\\t\\t\\t<item>\\r\\n\\t\\t\\t\\t\\t<stationName>부평</stationName>\\r\\n\\t\\t\\t\\t\\t\\r\\n                        <mangName>도시대기</mangName>\\r\\n                    \\r\\n\\t\\t\\t\\t\\t<dataTime>2018-07-13 14:00</dataTime>\\r\\n\\t\\t\\t\\t\\t<so2Value>0.004</so2Value>\\r\\n\\t\\t\\t\\t\\t<coValue>0.3</coValue>\\r\\n\\t\\t\\t\\t\\t<o3Value>0.024</o3Value>\\r\\n\\t\\t\\t\\t\\t<no2Value>0.016</no2Value>\\r\\n\\t\\t\\t\\t\\t<pm10Value>12</pm10Value>\\r\\n\\t\\t\\t\\t\\t\\r\\n                        <pm10Value24>16</pm10Value24>\\r\\n                    \\r\\n\\t\\t\\t\\t\\t\\r\\n\\t\\t\\t\\t        <pm25Value>5</pm25Value>\\r\\n\\t\\t\\t\\t    \\r\\n\\t\\t\\t\\t    \\r\\n                        <pm25Value24>7</pm25Value24>\\r\\n                    \\r\\n\\t\\t\\t\\t\\t<khaiValue>40</khaiValue>\\r\\n\\t\\t\\t\\t\\t<khaiGrade>1</khaiGrade>\\r\\n\\t\\t\\t\\t\\t<so2Grade>1</so2Grade>\\r\\n\\t\\t\\t\\t\\t<coGrade>1</coGrade>\\r\\n\\t\\t\\t\\t\\t<o3Grade>1</o3Grade>\\r\\n\\t\\t\\t\\t\\t<no2Grade>1</no2Grade>\\r\\n\\t\\t\\t\\t\\t<pm10Grade>1</pm10Grade>\\r\\n\\t\\t\\t\\t\\t\\r\\n\\t\\t\\t\\t        <pm25Grade>1</pm25Grade>\\r\\n\\t\\t\\t\\t    \\r\\n\\t\\t\\t\\t    \\r\\n                        <pm10Grade1h>1</pm10Grade1h>\\r\\n                        <pm25Grade1h>1</pm25Grade1h>\\r\\n                    \\r\\n\\t\\t\\t\\t</item>\\r\\n\\t\\t\\t\\r\\n\\t\\t\\t\\t<item>\\r\\n\\t\\t\\t\\t\\t<stationName>연희</stationName>\\r\\n\\t\\t\\t\\t\\t\\r\\n                        <mangName>도시대기</mangName>\\r\\n                    \\r\\n\\t\\t\\t\\t\\t<dataTime>2018-07-13 14:00</dataTime>\\r\\n\\t\\t\\t\\t\\t<so2Value>0.006</so2Value>\\r\\n\\t\\t\\t\\t\\t<coValue>0.4</coValue>\\r\\n\\t\\t\\t\\t\\t<o3Value>0.029</o3Value>\\r\\n\\t\\t\\t\\t\\t<no2Value>0.011</no2Value>\\r\\n\\t\\t\\t\\t\\t<pm10Value>23</pm10Value>\\r\\n\\t\\t\\t\\t\\t\\r\\n                        <pm10Value24>25</pm10Value24>\\r\\n                    \\r\\n\\t\\t\\t\\t\\t\\r\\n\\t\\t\\t\\t        <pm25Value>16</pm25Value>\\r\\n\\t\\t\\t\\t    \\r\\n\\t\\t\\t\\t    \\r\\n                        <pm25Value24>15</pm25Value24>\\r\\n                    \\r\\n\\t\\t\\t\\t\\t<khaiValue>50</khaiValue>\\r\\n\\t\\t\\t\\t\\t<khaiGrade>1</khaiGrade>\\r\\n\\t\\t\\t\\t\\t<so2Grade>1</so2Grade>\\r\\n\\t\\t\\t\\t\\t<coGrade>1</coGrade>\\r\\n\\t\\t\\t\\t\\t<o3Grade>1</o3Grade>\\r\\n\\t\\t\\t\\t\\t<no2Grade>1</no2Grade>\\r\\n\\t\\t\\t\\t\\t<pm10Grade>1</pm10Grade>\\r\\n\\t\\t\\t\\t\\t\\r\\n\\t\\t\\t\\t        <pm25Grade>1</pm25Grade>\\r\\n\\t\\t\\t\\t    \\r\\n\\t\\t\\t\\t    \\r\\n                        <pm10Grade1h>1</pm10Grade1h>\\r\\n                        <pm25Grade1h>2</pm25Grade1h>\\r\\n                    \\r\\n\\t\\t\\t\\t</item>\\r\\n\\t\\t\\t\\r\\n\\t\\t\\t\\t<item>\\r\\n\\t\\t\\t\\t\\t<stationName>검단</stationName>\\r\\n\\t\\t\\t\\t\\t\\r\\n                        <mangName>도시대기</mangName>\\r\\n                    \\r\\n\\t\\t\\t\\t\\t<dataTime>2018-07-13 14:00</dataTime>\\r\\n\\t\\t\\t\\t\\t<so2Value>0.009</so2Value>\\r\\n\\t\\t\\t\\t\\t<coValue>0.3</coValue>\\r\\n\\t\\t\\t\\t\\t<o3Value>0.011</o3Value>\\r\\n\\t\\t\\t\\t\\t<no2Value>0.025</no2Value>\\r\\n\\t\\t\\t\\t\\t<pm10Value>26</pm10Value>\\r\\n\\t\\t\\t\\t\\t\\r\\n                        <pm10Value24>25</pm10Value24>\\r\\n                    \\r\\n\\t\\t\\t\\t\\t\\r\\n\\t\\t\\t\\t        <pm25Value>15</pm25Value>\\r\\n\\t\\t\\t\\t    \\r\\n\\t\\t\\t\\t    \\r\\n                        <pm25Value24>15</pm25Value24>\\r\\n                    \\r\\n\\t\\t\\t\\t\\t<khaiValue>50</khaiValue>\\r\\n\\t\\t\\t\\t\\t<khaiGrade>1</khaiGrade>\\r\\n\\t\\t\\t\\t\\t<so2Grade>1</so2Grade>\\r\\n\\t\\t\\t\\t\\t<coGrade>1</coGrade>\\r\\n\\t\\t\\t\\t\\t<o3Grade>1</o3Grade>\\r\\n\\t\\t\\t\\t\\t<no2Grade>1</no2Grade>\\r\\n\\t\\t\\t\\t\\t<pm10Grade>1</pm10Grade>\\r\\n\\t\\t\\t\\t\\t\\r\\n\\t\\t\\t\\t        <pm25Grade>1</pm25Grade>\\r\\n\\t\\t\\t\\t    \\r\\n\\t\\t\\t\\t    \\r\\n                        <pm10Grade1h>1</pm10Grade1h>\\r\\n                        <pm25Grade1h>1</pm25Grade1h>\\r\\n                    \\r\\n\\t\\t\\t\\t</item>\\r\\n\\t\\t\\t\\r\\n\\t\\t\\t\\t<item>\\r\\n\\t\\t\\t\\t\\t<stationName>계산</stationName>\\r\\n\\t\\t\\t\\t\\t\\r\\n                        <mangName>도시대기</mangName>\\r\\n                    \\r\\n\\t\\t\\t\\t\\t<dataTime>2018-07-13 14:00</dataTime>\\r\\n\\t\\t\\t\\t\\t<so2Value>0.004</so2Value>\\r\\n\\t\\t\\t\\t\\t<coValue>0.7</coValue>\\r\\n\\t\\t\\t\\t\\t<o3Value>0.017</o3Value>\\r\\n\\t\\t\\t\\t\\t<no2Value>0.020</no2Value>\\r\\n\\t\\t\\t\\t\\t<pm10Value>19</pm10Value>\\r\\n\\t\\t\\t\\t\\t\\r\\n                        <pm10Value24>19</pm10Value24>\\r\\n                    \\r\\n\\t\\t\\t\\t\\t\\r\\n\\t\\t\\t\\t        <pm25Value>11</pm25Value>\\r\\n\\t\\t\\t\\t    \\r\\n\\t\\t\\t\\t    \\r\\n                        <pm25Value24>13</pm25Value24>\\r\\n                    \\r\\n\\t\\t\\t\\t\\t<khaiValue>43</khaiValue>\\r\\n\\t\\t\\t\\t\\t<khaiGrade>1</khaiGrade>\\r\\n\\t\\t\\t\\t\\t<so2Grade>1</so2Grade>\\r\\n\\t\\t\\t\\t\\t<coGrade>1</coGrade>\\r\\n\\t\\t\\t\\t\\t<o3Grade>1</o3Grade>\\r\\n\\t\\t\\t\\t\\t<no2Grade>1</no2Grade>\\r\\n\\t\\t\\t\\t\\t<pm10Grade>1</pm10Grade>\\r\\n\\t\\t\\t\\t\\t\\r\\n\\t\\t\\t\\t        <pm25Grade>1</pm25Grade>\\r\\n\\t\\t\\t\\t    \\r\\n\\t\\t\\t\\t    \\r\\n                        <pm10Grade1h>1</pm10Grade1h>\\r\\n                        <pm25Grade1h>1</pm25Grade1h>\\r\\n                    \\r\\n\\t\\t\\t\\t</item>\\r\\n\\t\\t\\t\\r\\n\\t\\t</items>\\r\\n\\t\\t\\t<numOfRows>10</numOfRows>\\r\\n\\t\\t\\t<pageNo>1</pageNo>\\r\\n\\t\\t\\t<totalCount>23</totalCount>\\r\\n\\t</body>\\r\\n</response>\\r\\n'"
      ]
     },
     "execution_count": 83,
     "metadata": {},
     "output_type": "execute_result"
    }
   ],
   "source": [
    "type(textStr)\n",
    "textStr"
   ]
  },
  {
   "cell_type": "code",
   "execution_count": 84,
   "metadata": {},
   "outputs": [
    {
     "ename": "JSONDecodeError",
     "evalue": "Expecting value: line 1 column 1 (char 0)",
     "output_type": "error",
     "traceback": [
      "\u001b[1;31m---------------------------------------------------------------------------\u001b[0m",
      "\u001b[1;31mJSONDecodeError\u001b[0m                           Traceback (most recent call last)",
      "\u001b[1;32m<ipython-input-84-b979c3b44ea0>\u001b[0m in \u001b[0;36m<module>\u001b[1;34m()\u001b[0m\n\u001b[1;32m----> 1\u001b[1;33m \u001b[0mrespObj\u001b[0m \u001b[1;33m=\u001b[0m \u001b[0mjson\u001b[0m\u001b[1;33m.\u001b[0m\u001b[0mloads\u001b[0m\u001b[1;33m(\u001b[0m\u001b[0mtextStr\u001b[0m\u001b[1;33m)\u001b[0m\u001b[1;33m\u001b[0m\u001b[0m\n\u001b[0m",
      "\u001b[1;32m~\\Anaconda3\\lib\\json\\__init__.py\u001b[0m in \u001b[0;36mloads\u001b[1;34m(s, encoding, cls, object_hook, parse_float, parse_int, parse_constant, object_pairs_hook, **kw)\u001b[0m\n\u001b[0;32m    352\u001b[0m             \u001b[0mparse_int\u001b[0m \u001b[1;32mis\u001b[0m \u001b[1;32mNone\u001b[0m \u001b[1;32mand\u001b[0m \u001b[0mparse_float\u001b[0m \u001b[1;32mis\u001b[0m \u001b[1;32mNone\u001b[0m \u001b[1;32mand\u001b[0m\u001b[1;33m\u001b[0m\u001b[0m\n\u001b[0;32m    353\u001b[0m             parse_constant is None and object_pairs_hook is None and not kw):\n\u001b[1;32m--> 354\u001b[1;33m         \u001b[1;32mreturn\u001b[0m \u001b[0m_default_decoder\u001b[0m\u001b[1;33m.\u001b[0m\u001b[0mdecode\u001b[0m\u001b[1;33m(\u001b[0m\u001b[0ms\u001b[0m\u001b[1;33m)\u001b[0m\u001b[1;33m\u001b[0m\u001b[0m\n\u001b[0m\u001b[0;32m    355\u001b[0m     \u001b[1;32mif\u001b[0m \u001b[0mcls\u001b[0m \u001b[1;32mis\u001b[0m \u001b[1;32mNone\u001b[0m\u001b[1;33m:\u001b[0m\u001b[1;33m\u001b[0m\u001b[0m\n\u001b[0;32m    356\u001b[0m         \u001b[0mcls\u001b[0m \u001b[1;33m=\u001b[0m \u001b[0mJSONDecoder\u001b[0m\u001b[1;33m\u001b[0m\u001b[0m\n",
      "\u001b[1;32m~\\Anaconda3\\lib\\json\\decoder.py\u001b[0m in \u001b[0;36mdecode\u001b[1;34m(self, s, _w)\u001b[0m\n\u001b[0;32m    337\u001b[0m \u001b[1;33m\u001b[0m\u001b[0m\n\u001b[0;32m    338\u001b[0m         \"\"\"\n\u001b[1;32m--> 339\u001b[1;33m         \u001b[0mobj\u001b[0m\u001b[1;33m,\u001b[0m \u001b[0mend\u001b[0m \u001b[1;33m=\u001b[0m \u001b[0mself\u001b[0m\u001b[1;33m.\u001b[0m\u001b[0mraw_decode\u001b[0m\u001b[1;33m(\u001b[0m\u001b[0ms\u001b[0m\u001b[1;33m,\u001b[0m \u001b[0midx\u001b[0m\u001b[1;33m=\u001b[0m\u001b[0m_w\u001b[0m\u001b[1;33m(\u001b[0m\u001b[0ms\u001b[0m\u001b[1;33m,\u001b[0m \u001b[1;36m0\u001b[0m\u001b[1;33m)\u001b[0m\u001b[1;33m.\u001b[0m\u001b[0mend\u001b[0m\u001b[1;33m(\u001b[0m\u001b[1;33m)\u001b[0m\u001b[1;33m)\u001b[0m\u001b[1;33m\u001b[0m\u001b[0m\n\u001b[0m\u001b[0;32m    340\u001b[0m         \u001b[0mend\u001b[0m \u001b[1;33m=\u001b[0m \u001b[0m_w\u001b[0m\u001b[1;33m(\u001b[0m\u001b[0ms\u001b[0m\u001b[1;33m,\u001b[0m \u001b[0mend\u001b[0m\u001b[1;33m)\u001b[0m\u001b[1;33m.\u001b[0m\u001b[0mend\u001b[0m\u001b[1;33m(\u001b[0m\u001b[1;33m)\u001b[0m\u001b[1;33m\u001b[0m\u001b[0m\n\u001b[0;32m    341\u001b[0m         \u001b[1;32mif\u001b[0m \u001b[0mend\u001b[0m \u001b[1;33m!=\u001b[0m \u001b[0mlen\u001b[0m\u001b[1;33m(\u001b[0m\u001b[0ms\u001b[0m\u001b[1;33m)\u001b[0m\u001b[1;33m:\u001b[0m\u001b[1;33m\u001b[0m\u001b[0m\n",
      "\u001b[1;32m~\\Anaconda3\\lib\\json\\decoder.py\u001b[0m in \u001b[0;36mraw_decode\u001b[1;34m(self, s, idx)\u001b[0m\n\u001b[0;32m    355\u001b[0m             \u001b[0mobj\u001b[0m\u001b[1;33m,\u001b[0m \u001b[0mend\u001b[0m \u001b[1;33m=\u001b[0m \u001b[0mself\u001b[0m\u001b[1;33m.\u001b[0m\u001b[0mscan_once\u001b[0m\u001b[1;33m(\u001b[0m\u001b[0ms\u001b[0m\u001b[1;33m,\u001b[0m \u001b[0midx\u001b[0m\u001b[1;33m)\u001b[0m\u001b[1;33m\u001b[0m\u001b[0m\n\u001b[0;32m    356\u001b[0m         \u001b[1;32mexcept\u001b[0m \u001b[0mStopIteration\u001b[0m \u001b[1;32mas\u001b[0m \u001b[0merr\u001b[0m\u001b[1;33m:\u001b[0m\u001b[1;33m\u001b[0m\u001b[0m\n\u001b[1;32m--> 357\u001b[1;33m             \u001b[1;32mraise\u001b[0m \u001b[0mJSONDecodeError\u001b[0m\u001b[1;33m(\u001b[0m\u001b[1;34m\"Expecting value\"\u001b[0m\u001b[1;33m,\u001b[0m \u001b[0ms\u001b[0m\u001b[1;33m,\u001b[0m \u001b[0merr\u001b[0m\u001b[1;33m.\u001b[0m\u001b[0mvalue\u001b[0m\u001b[1;33m)\u001b[0m \u001b[1;32mfrom\u001b[0m \u001b[1;32mNone\u001b[0m\u001b[1;33m\u001b[0m\u001b[0m\n\u001b[0m\u001b[0;32m    358\u001b[0m         \u001b[1;32mreturn\u001b[0m \u001b[0mobj\u001b[0m\u001b[1;33m,\u001b[0m \u001b[0mend\u001b[0m\u001b[1;33m\u001b[0m\u001b[0m\n",
      "\u001b[1;31mJSONDecodeError\u001b[0m: Expecting value: line 1 column 1 (char 0)"
     ]
    }
   ],
   "source": [
    "respObj = json.loads(textStr)"
   ]
  },
  {
   "cell_type": "code",
   "execution_count": 70,
   "metadata": {},
   "outputs": [
    {
     "name": "stdout",
     "output_type": "stream",
     "text": [
      "userId 1\n",
      "id 1\n",
      "title sunt aut facere repellat provident occaecati excepturi optio reprehenderit\n",
      "body quia et suscipit\n",
      "suscipit recusandae consequuntur expedita et cum\n",
      "reprehenderit molestiae ut ut quas totam\n",
      "nostrum rerum est autem sunt rem eveniet architecto\n"
     ]
    }
   ],
   "source": [
    "for k,v in respObj.items():\n",
    "    print(k,v)"
   ]
  },
  {
   "cell_type": "code",
   "execution_count": null,
   "metadata": {},
   "outputs": [],
   "source": []
  },
  {
   "cell_type": "code",
   "execution_count": null,
   "metadata": {},
   "outputs": [],
   "source": [
    "url = 'http://openapi.airkorea.or.kr/openapi/services/rest/ArpltnInforInqireSvc/getCtprvnMesureSidoLIst'\n",
    "queryParams = '?' + urlencode({ quote_plus('ServiceKey') : '서비스키', quote_plus('numOfRows') : '10', quote_plus('pageNo') : '1', quote_plus('sidoName') : '서울', quote_plus('searchCondition') : 'DAILY' })"
   ]
  },
  {
   "cell_type": "code",
   "execution_count": 76,
   "metadata": {},
   "outputs": [],
   "source": [
    "my_key = 'Y5DSBJBS%2Fm1IIAcO37lFFbJttSm%2Bh494BebepLaLUhMwcJMfgQQ4%2BbKj3Udxi4489gGTXXlzMNoi4CQzAmxZ6g%3D%3D'"
   ]
  },
  {
   "cell_type": "code",
   "execution_count": 85,
   "metadata": {},
   "outputs": [
    {
     "ename": "IndentationError",
     "evalue": "unexpected indent (<ipython-input-85-75589515b0ed>, line 2)",
     "output_type": "error",
     "traceback": [
      "\u001b[1;36m  File \u001b[1;32m\"<ipython-input-85-75589515b0ed>\"\u001b[1;36m, line \u001b[1;32m2\u001b[0m\n\u001b[1;33m    serviceKey=Y5DSBJBS%2Fm1IIAcO37lFFbJttSm%2Bh494BebepLaLUhMwcJMfgQQ4%2BbKj3Udxi4489gGTXXlzMNoi4CQzAmxZ6g%3D%3D\u001b[0m\n\u001b[1;37m    ^\u001b[0m\n\u001b[1;31mIndentationError\u001b[0m\u001b[1;31m:\u001b[0m unexpected indent\n"
     ]
    }
   ],
   "source": [
    "http://openapi.airkorea.or.kr/openapi/services/rest/ArpltnInforInqireSvc/getCtprvnRltmMesureDnsty?\n",
    "    serviceKey=Y5DSBJBS%2Fm1IIAcO37lFFbJttSm%2Bh494BebepLaLUhMwcJMfgQQ4%2BbKj3Udxi4489gGTXXlzMNoi4CQzAmxZ6g%3D%3D\n",
    "    &numOfRows=10\n",
    "    &pageSize=10\n",
    "    &pageNo=1\n",
    "    &startPage=1\n",
    "    &sidoName=%EC%9D%B8%EC%B2%9C\n",
    "    &ver=1.3\n",
    "    &_returnType=json\n",
    "    \n",
    "    "
   ]
  },
  {
   "cell_type": "code",
   "execution_count": 174,
   "metadata": {},
   "outputs": [],
   "source": [
    "params = {\n",
    "    \"serviceKey\":\"Y5DSBJBS%2Fm1IIAcO37lFFbJttSm%2Bh494BebepLaLUhMwcJMfgQQ4%2BbKj3Udxi4489gGTXXlzMNoi4CQzAmxZ6g%3D%3D\",\n",
    "    \"numOfRows\":10,\n",
    "    \"pageNo\":1,\n",
    "    \"sidoName\":None,\n",
    "    \"searchCondition\" : \"DAILY\",\n",
    "    \"ver\":\"1.3\",\n",
    "    \"_returnType\":\"json\",\n",
    "}\n",
    "# params = {\n",
    "#     \"serviceKey\":\"Y5DSBJBS%2Fm1IIAcO37lFFbJttSm%2Bh494BebepLaLUhMwcJMfgQQ4%2BbKj3Udxi4489gGTXXlzMNoi4CQzAmxZ6g%3D%3D\",\n",
    "#     \"numOfRows\":10,\n",
    "#     \"pageNo\":1,\n",
    "#     \"sidoName\":None,\n",
    "#     \"ver\":\"1.3\",\n",
    "#     \"_returnType\":\"json\",\n",
    "    \n",
    "# }"
   ]
  },
  {
   "cell_type": "code",
   "execution_count": 175,
   "metadata": {},
   "outputs": [],
   "source": [
    "params[\"sidoName\"]=\"서울\"\n",
    "params[\"serviceKey\"] = urllib.parse.unquote(params[\"serviceKey\"])"
   ]
  },
  {
   "cell_type": "code",
   "execution_count": 176,
   "metadata": {},
   "outputs": [],
   "source": [
    "url = \"http://openapi.airkorea.or.kr/openapi/services/rest/ArpltnInforInqireSvc/getCtprvnMesureSidoLIst\"\n",
    "#url = \"http://openapi.airkorea.or.kr/openapi/services/rest/ArpltnInforInqireSvc/getCtprvnRltmMesureDnsty\""
   ]
  },
  {
   "cell_type": "code",
   "execution_count": 177,
   "metadata": {},
   "outputs": [],
   "source": [
    "from urllib import parse"
   ]
  },
  {
   "cell_type": "code",
   "execution_count": 178,
   "metadata": {},
   "outputs": [],
   "source": [
    "paramUrl = parse.urlencode(params)"
   ]
  },
  {
   "cell_type": "code",
   "execution_count": 179,
   "metadata": {},
   "outputs": [],
   "source": [
    "paramBytes = paramUrl.encode(\"utf-8\")"
   ]
  },
  {
   "cell_type": "code",
   "execution_count": 180,
   "metadata": {},
   "outputs": [
    {
     "data": {
      "text/plain": [
       "bytes"
      ]
     },
     "execution_count": 180,
     "metadata": {},
     "output_type": "execute_result"
    }
   ],
   "source": [
    "type(paramBytes)"
   ]
  },
  {
   "cell_type": "code",
   "execution_count": 181,
   "metadata": {},
   "outputs": [
    {
     "name": "stdout",
     "output_type": "stream",
     "text": [
      "b'serviceKey=Y5DSBJBS%2Fm1IIAcO37lFFbJttSm%2Bh494BebepLaLUhMwcJMfgQQ4%2BbKj3Udxi4489gGTXXlzMNoi4CQzAmxZ6g%3D%3D&numOfRows=10&pageNo=1&sidoName=%EC%84%9C%EC%9A%B8&searchCondition=DAILY&ver=1.3&_returnType=json'\n"
     ]
    }
   ],
   "source": [
    "print(paramBytes)"
   ]
  },
  {
   "cell_type": "code",
   "execution_count": 182,
   "metadata": {},
   "outputs": [],
   "source": [
    "req = urllib.request.Request(url,data=paramBytes)"
   ]
  },
  {
   "cell_type": "code",
   "execution_count": 183,
   "metadata": {},
   "outputs": [],
   "source": [
    "res = urllib.request.urlopen(req)"
   ]
  },
  {
   "cell_type": "code",
   "execution_count": 184,
   "metadata": {},
   "outputs": [],
   "source": [
    "resStr = res.read()"
   ]
  },
  {
   "cell_type": "code",
   "execution_count": 185,
   "metadata": {},
   "outputs": [
    {
     "data": {
      "text/plain": [
       "b'{\"list\":[{\"_returnType\":\"json\",\"cityName\":\"\\xea\\xb0\\x95\\xeb\\x82\\xa8\\xea\\xb5\\xac\",\"cityNameEng\":\"Gangnam-gu\",\"coValue\":\"0.3\",\"dataGubun\":\"\",\"dataTime\":\"2018-07-13 15:00\",\"districtCode\":\"02\",\"districtNumSeq\":\"001\",\"itemCode\":\"\",\"khaiValue\":\"\",\"no2Value\":\"0.016\",\"numOfRows\":\"10\",\"o3Value\":\"0.022\",\"pageNo\":\"1\",\"pm10Value\":\"15\",\"pm25Value\":\"8\",\"resultCode\":\"\",\"resultMsg\":\"\",\"searchCondition\":\"\",\"serviceKey\":\"\",\"sidoName\":\"\\xec\\x84\\x9c\\xec\\x9a\\xb8\",\"so2Value\":\"0.005\",\"totalCount\":\"\"},{\"_returnType\":\"json\",\"cityName\":\"\\xea\\xb0\\x95\\xeb\\x8f\\x99\\xea\\xb5\\xac\",\"cityNameEng\":\"Gangdong-gu\",\"coValue\":\"0.3\",\"dataGubun\":\"\",\"dataTime\":\"2018-07-13 15:00\",\"districtCode\":\"02\",\"districtNumSeq\":\"002\",\"itemCode\":\"\",\"khaiValue\":\"\",\"no2Value\":\"0.014\",\"numOfRows\":\"10\",\"o3Value\":\"0.021\",\"pageNo\":\"1\",\"pm10Value\":\"17\",\"pm25Value\":\"12\",\"resultCode\":\"\",\"resultMsg\":\"\",\"searchCondition\":\"\",\"serviceKey\":\"\",\"sidoName\":\"\\xec\\x84\\x9c\\xec\\x9a\\xb8\",\"so2Value\":\"0.004\",\"totalCount\":\"\"},{\"_returnType\":\"json\",\"cityName\":\"\\xea\\xb0\\x95\\xeb\\xb6\\x81\\xea\\xb5\\xac\",\"cityNameEng\":\"Gangbuk-gu\",\"coValue\":\"0.2\",\"dataGubun\":\"\",\"dataTime\":\"2018-07-13 15:00\",\"districtCode\":\"02\",\"districtNumSeq\":\"003\",\"itemCode\":\"\",\"khaiValue\":\"\",\"no2Value\":\"0.010\",\"numOfRows\":\"10\",\"o3Value\":\"0.028\",\"pageNo\":\"1\",\"pm10Value\":\"19\",\"pm25Value\":\"13\",\"resultCode\":\"\",\"resultMsg\":\"\",\"searchCondition\":\"\",\"serviceKey\":\"\",\"sidoName\":\"\\xec\\x84\\x9c\\xec\\x9a\\xb8\",\"so2Value\":\"0.003\",\"totalCount\":\"\"},{\"_returnType\":\"json\",\"cityName\":\"\\xea\\xb0\\x95\\xec\\x84\\x9c\\xea\\xb5\\xac\",\"cityNameEng\":\"Gangseo-gu\",\"coValue\":\"0.2\",\"dataGubun\":\"\",\"dataTime\":\"2018-07-13 15:00\",\"districtCode\":\"02\",\"districtNumSeq\":\"004\",\"itemCode\":\"\",\"khaiValue\":\"\",\"no2Value\":\"0.014\",\"numOfRows\":\"10\",\"o3Value\":\"0.025\",\"pageNo\":\"1\",\"pm10Value\":\"19\",\"pm25Value\":\"7\",\"resultCode\":\"\",\"resultMsg\":\"\",\"searchCondition\":\"\",\"serviceKey\":\"\",\"sidoName\":\"\\xec\\x84\\x9c\\xec\\x9a\\xb8\",\"so2Value\":\"0.002\",\"totalCount\":\"\"},{\"_returnType\":\"json\",\"cityName\":\"\\xea\\xb4\\x80\\xec\\x95\\x85\\xea\\xb5\\xac\",\"cityNameEng\":\"Gwanak-gu\",\"coValue\":\"0.2\",\"dataGubun\":\"\",\"dataTime\":\"2018-07-13 15:00\",\"districtCode\":\"02\",\"districtNumSeq\":\"005\",\"itemCode\":\"\",\"khaiValue\":\"\",\"no2Value\":\"0.011\",\"numOfRows\":\"10\",\"o3Value\":\"0.037\",\"pageNo\":\"1\",\"pm10Value\":\"20\",\"pm25Value\":\"9\",\"resultCode\":\"\",\"resultMsg\":\"\",\"searchCondition\":\"\",\"serviceKey\":\"\",\"sidoName\":\"\\xec\\x84\\x9c\\xec\\x9a\\xb8\",\"so2Value\":\"0.003\",\"totalCount\":\"\"},{\"_returnType\":\"json\",\"cityName\":\"\\xea\\xb4\\x91\\xec\\xa7\\x84\\xea\\xb5\\xac\",\"cityNameEng\":\"Gwangjin-gu\",\"coValue\":\"0.5\",\"dataGubun\":\"\",\"dataTime\":\"2018-07-13 15:00\",\"districtCode\":\"02\",\"districtNumSeq\":\"006\",\"itemCode\":\"\",\"khaiValue\":\"\",\"no2Value\":\"0.010\",\"numOfRows\":\"10\",\"o3Value\":\"0.026\",\"pageNo\":\"1\",\"pm10Value\":\"16\",\"pm25Value\":\"5\",\"resultCode\":\"\",\"resultMsg\":\"\",\"searchCondition\":\"\",\"serviceKey\":\"\",\"sidoName\":\"\\xec\\x84\\x9c\\xec\\x9a\\xb8\",\"so2Value\":\"0.006\",\"totalCount\":\"\"},{\"_returnType\":\"json\",\"cityName\":\"\\xea\\xb5\\xac\\xeb\\xa1\\x9c\\xea\\xb5\\xac\",\"cityNameEng\":\"Guro-gu\",\"coValue\":\"\",\"dataGubun\":\"\",\"dataTime\":\"2018-07-13 15:00\",\"districtCode\":\"02\",\"districtNumSeq\":\"007\",\"itemCode\":\"\",\"khaiValue\":\"\",\"no2Value\":\"\",\"numOfRows\":\"10\",\"o3Value\":\"\",\"pageNo\":\"1\",\"pm10Value\":\"15\",\"pm25Value\":\"8\",\"resultCode\":\"\",\"resultMsg\":\"\",\"searchCondition\":\"\",\"serviceKey\":\"\",\"sidoName\":\"\\xec\\x84\\x9c\\xec\\x9a\\xb8\",\"so2Value\":\"\",\"totalCount\":\"\"},{\"_returnType\":\"json\",\"cityName\":\"\\xea\\xb8\\x88\\xec\\xb2\\x9c\\xea\\xb5\\xac\",\"cityNameEng\":\"Geumcheon-gu\",\"coValue\":\"0.2\",\"dataGubun\":\"\",\"dataTime\":\"2018-07-13 15:00\",\"districtCode\":\"02\",\"districtNumSeq\":\"008\",\"itemCode\":\"\",\"khaiValue\":\"\",\"no2Value\":\"0.014\",\"numOfRows\":\"10\",\"o3Value\":\"0.036\",\"pageNo\":\"1\",\"pm10Value\":\"20\",\"pm25Value\":\"15\",\"resultCode\":\"\",\"resultMsg\":\"\",\"searchCondition\":\"\",\"serviceKey\":\"\",\"sidoName\":\"\\xec\\x84\\x9c\\xec\\x9a\\xb8\",\"so2Value\":\"0.004\",\"totalCount\":\"\"},{\"_returnType\":\"json\",\"cityName\":\"\\xeb\\x85\\xb8\\xec\\x9b\\x90\\xea\\xb5\\xac\",\"cityNameEng\":\"Nowon-gu\",\"coValue\":\"0.3\",\"dataGubun\":\"\",\"dataTime\":\"2018-07-13 15:00\",\"districtCode\":\"02\",\"districtNumSeq\":\"009\",\"itemCode\":\"\",\"khaiValue\":\"\",\"no2Value\":\"0.011\",\"numOfRows\":\"10\",\"o3Value\":\"0.026\",\"pageNo\":\"1\",\"pm10Value\":\"22\",\"pm25Value\":\"16\",\"resultCode\":\"\",\"resultMsg\":\"\",\"searchCondition\":\"\",\"serviceKey\":\"\",\"sidoName\":\"\\xec\\x84\\x9c\\xec\\x9a\\xb8\",\"so2Value\":\"0.005\",\"totalCount\":\"\"},{\"_returnType\":\"json\",\"cityName\":\"\\xeb\\x8f\\x84\\xeb\\xb4\\x89\\xea\\xb5\\xac\",\"cityNameEng\":\"Dobong-gu\",\"coValue\":\"0.6\",\"dataGubun\":\"\",\"dataTime\":\"2018-07-13 15:00\",\"districtCode\":\"02\",\"districtNumSeq\":\"010\",\"itemCode\":\"\",\"khaiValue\":\"\",\"no2Value\":\"0.011\",\"numOfRows\":\"10\",\"o3Value\":\"0.027\",\"pageNo\":\"1\",\"pm10Value\":\"21\",\"pm25Value\":\"12\",\"resultCode\":\"\",\"resultMsg\":\"\",\"searchCondition\":\"\",\"serviceKey\":\"\",\"sidoName\":\"\\xec\\x84\\x9c\\xec\\x9a\\xb8\",\"so2Value\":\"0.004\",\"totalCount\":\"\"}],\"parm\":{\"_returnType\":\"json\",\"cityName\":\"\",\"cityNameEng\":\"\",\"coValue\":\"\",\"dataGubun\":\"\",\"dataTime\":\"\",\"districtCode\":\"\",\"districtNumSeq\":\"\",\"itemCode\":\"\",\"khaiValue\":\"\",\"no2Value\":\"\",\"numOfRows\":\"10\",\"o3Value\":\"\",\"pageNo\":\"1\",\"pm10Value\":\"\",\"pm25Value\":\"\",\"resultCode\":\"\",\"resultMsg\":\"\",\"searchCondition\":\"DAILY\",\"serviceKey\":\"Y5DSBJBS/m1IIAcO37lFFbJttSm+h494BebepLaLUhMwcJMfgQQ4+bKj3Udxi4489gGTXXlzMNoi4CQzAmxZ6g==\",\"sidoName\":\"\\xec\\x84\\x9c\\xec\\x9a\\xb8\",\"so2Value\":\"\",\"totalCount\":\"\"},\"CtprvnMesureLIstVo2\":{\"_returnType\":\"json\",\"cityName\":\"\",\"cityNameEng\":\"\",\"coValue\":\"\",\"dataGubun\":\"\",\"dataTime\":\"\",\"districtCode\":\"\",\"districtNumSeq\":\"\",\"itemCode\":\"\",\"khaiValue\":\"\",\"no2Value\":\"\",\"numOfRows\":\"10\",\"o3Value\":\"\",\"pageNo\":\"1\",\"pm10Value\":\"\",\"pm25Value\":\"\",\"resultCode\":\"\",\"resultMsg\":\"\",\"searchCondition\":\"DAILY\",\"serviceKey\":\"Y5DSBJBS/m1IIAcO37lFFbJttSm+h494BebepLaLUhMwcJMfgQQ4+bKj3Udxi4489gGTXXlzMNoi4CQzAmxZ6g==\",\"sidoName\":\"\\xec\\x84\\x9c\\xec\\x9a\\xb8\",\"so2Value\":\"\",\"totalCount\":\"\"},\"totalCount\":625}'"
      ]
     },
     "execution_count": 185,
     "metadata": {},
     "output_type": "execute_result"
    }
   ],
   "source": [
    "resStr"
   ]
  },
  {
   "cell_type": "code",
   "execution_count": 186,
   "metadata": {},
   "outputs": [],
   "source": [
    "resultStr = resStr.decode(\"utf-8\")\n",
    "resObj = json.loads(resStr)"
   ]
  },
  {
   "cell_type": "code",
   "execution_count": 187,
   "metadata": {},
   "outputs": [],
   "source": [
    "resultObj = json.loads(resultStr)\n"
   ]
  },
  {
   "cell_type": "code",
   "execution_count": 188,
   "metadata": {},
   "outputs": [
    {
     "name": "stdout",
     "output_type": "stream",
     "text": [
      "{\n",
      "    \"list\": [\n",
      "        {\n",
      "            \"_returnType\": \"json\",\n",
      "            \"cityName\": \"\\uac15\\ub0a8\\uad6c\",\n",
      "            \"cityNameEng\": \"Gangnam-gu\",\n",
      "            \"coValue\": \"0.3\",\n",
      "            \"dataGubun\": \"\",\n",
      "            \"dataTime\": \"2018-07-13 15:00\",\n",
      "            \"districtCode\": \"02\",\n",
      "            \"districtNumSeq\": \"001\",\n",
      "            \"itemCode\": \"\",\n",
      "            \"khaiValue\": \"\",\n",
      "            \"no2Value\": \"0.016\",\n",
      "            \"numOfRows\": \"10\",\n",
      "            \"o3Value\": \"0.022\",\n",
      "            \"pageNo\": \"1\",\n",
      "            \"pm10Value\": \"15\",\n",
      "            \"pm25Value\": \"8\",\n",
      "            \"resultCode\": \"\",\n",
      "            \"resultMsg\": \"\",\n",
      "            \"searchCondition\": \"\",\n",
      "            \"serviceKey\": \"\",\n",
      "            \"sidoName\": \"\\uc11c\\uc6b8\",\n",
      "            \"so2Value\": \"0.005\",\n",
      "            \"totalCount\": \"\"\n",
      "        },\n",
      "        {\n",
      "            \"_returnType\": \"json\",\n",
      "            \"cityName\": \"\\uac15\\ub3d9\\uad6c\",\n",
      "            \"cityNameEng\": \"Gangdong-gu\",\n",
      "            \"coValue\": \"0.3\",\n",
      "            \"dataGubun\": \"\",\n",
      "            \"dataTime\": \"2018-07-13 15:00\",\n",
      "            \"districtCode\": \"02\",\n",
      "            \"districtNumSeq\": \"002\",\n",
      "            \"itemCode\": \"\",\n",
      "            \"khaiValue\": \"\",\n",
      "            \"no2Value\": \"0.014\",\n",
      "            \"numOfRows\": \"10\",\n",
      "            \"o3Value\": \"0.021\",\n",
      "            \"pageNo\": \"1\",\n",
      "            \"pm10Value\": \"17\",\n",
      "            \"pm25Value\": \"12\",\n",
      "            \"resultCode\": \"\",\n",
      "            \"resultMsg\": \"\",\n",
      "            \"searchCondition\": \"\",\n",
      "            \"serviceKey\": \"\",\n",
      "            \"sidoName\": \"\\uc11c\\uc6b8\",\n",
      "            \"so2Value\": \"0.004\",\n",
      "            \"totalCount\": \"\"\n",
      "        },\n",
      "        {\n",
      "            \"_returnType\": \"json\",\n",
      "            \"cityName\": \"\\uac15\\ubd81\\uad6c\",\n",
      "            \"cityNameEng\": \"Gangbuk-gu\",\n",
      "            \"coValue\": \"0.2\",\n",
      "            \"dataGubun\": \"\",\n",
      "            \"dataTime\": \"2018-07-13 15:00\",\n",
      "            \"districtCode\": \"02\",\n",
      "            \"districtNumSeq\": \"003\",\n",
      "            \"itemCode\": \"\",\n",
      "            \"khaiValue\": \"\",\n",
      "            \"no2Value\": \"0.010\",\n",
      "            \"numOfRows\": \"10\",\n",
      "            \"o3Value\": \"0.028\",\n",
      "            \"pageNo\": \"1\",\n",
      "            \"pm10Value\": \"19\",\n",
      "            \"pm25Value\": \"13\",\n",
      "            \"resultCode\": \"\",\n",
      "            \"resultMsg\": \"\",\n",
      "            \"searchCondition\": \"\",\n",
      "            \"serviceKey\": \"\",\n",
      "            \"sidoName\": \"\\uc11c\\uc6b8\",\n",
      "            \"so2Value\": \"0.003\",\n",
      "            \"totalCount\": \"\"\n",
      "        },\n",
      "        {\n",
      "            \"_returnType\": \"json\",\n",
      "            \"cityName\": \"\\uac15\\uc11c\\uad6c\",\n",
      "            \"cityNameEng\": \"Gangseo-gu\",\n",
      "            \"coValue\": \"0.2\",\n",
      "            \"dataGubun\": \"\",\n",
      "            \"dataTime\": \"2018-07-13 15:00\",\n",
      "            \"districtCode\": \"02\",\n",
      "            \"districtNumSeq\": \"004\",\n",
      "            \"itemCode\": \"\",\n",
      "            \"khaiValue\": \"\",\n",
      "            \"no2Value\": \"0.014\",\n",
      "            \"numOfRows\": \"10\",\n",
      "            \"o3Value\": \"0.025\",\n",
      "            \"pageNo\": \"1\",\n",
      "            \"pm10Value\": \"19\",\n",
      "            \"pm25Value\": \"7\",\n",
      "            \"resultCode\": \"\",\n",
      "            \"resultMsg\": \"\",\n",
      "            \"searchCondition\": \"\",\n",
      "            \"serviceKey\": \"\",\n",
      "            \"sidoName\": \"\\uc11c\\uc6b8\",\n",
      "            \"so2Value\": \"0.002\",\n",
      "            \"totalCount\": \"\"\n",
      "        },\n",
      "        {\n",
      "            \"_returnType\": \"json\",\n",
      "            \"cityName\": \"\\uad00\\uc545\\uad6c\",\n",
      "            \"cityNameEng\": \"Gwanak-gu\",\n",
      "            \"coValue\": \"0.2\",\n",
      "            \"dataGubun\": \"\",\n",
      "            \"dataTime\": \"2018-07-13 15:00\",\n",
      "            \"districtCode\": \"02\",\n",
      "            \"districtNumSeq\": \"005\",\n",
      "            \"itemCode\": \"\",\n",
      "            \"khaiValue\": \"\",\n",
      "            \"no2Value\": \"0.011\",\n",
      "            \"numOfRows\": \"10\",\n",
      "            \"o3Value\": \"0.037\",\n",
      "            \"pageNo\": \"1\",\n",
      "            \"pm10Value\": \"20\",\n",
      "            \"pm25Value\": \"9\",\n",
      "            \"resultCode\": \"\",\n",
      "            \"resultMsg\": \"\",\n",
      "            \"searchCondition\": \"\",\n",
      "            \"serviceKey\": \"\",\n",
      "            \"sidoName\": \"\\uc11c\\uc6b8\",\n",
      "            \"so2Value\": \"0.003\",\n",
      "            \"totalCount\": \"\"\n",
      "        },\n",
      "        {\n",
      "            \"_returnType\": \"json\",\n",
      "            \"cityName\": \"\\uad11\\uc9c4\\uad6c\",\n",
      "            \"cityNameEng\": \"Gwangjin-gu\",\n",
      "            \"coValue\": \"0.5\",\n",
      "            \"dataGubun\": \"\",\n",
      "            \"dataTime\": \"2018-07-13 15:00\",\n",
      "            \"districtCode\": \"02\",\n",
      "            \"districtNumSeq\": \"006\",\n",
      "            \"itemCode\": \"\",\n",
      "            \"khaiValue\": \"\",\n",
      "            \"no2Value\": \"0.010\",\n",
      "            \"numOfRows\": \"10\",\n",
      "            \"o3Value\": \"0.026\",\n",
      "            \"pageNo\": \"1\",\n",
      "            \"pm10Value\": \"16\",\n",
      "            \"pm25Value\": \"5\",\n",
      "            \"resultCode\": \"\",\n",
      "            \"resultMsg\": \"\",\n",
      "            \"searchCondition\": \"\",\n",
      "            \"serviceKey\": \"\",\n",
      "            \"sidoName\": \"\\uc11c\\uc6b8\",\n",
      "            \"so2Value\": \"0.006\",\n",
      "            \"totalCount\": \"\"\n",
      "        },\n",
      "        {\n",
      "            \"_returnType\": \"json\",\n",
      "            \"cityName\": \"\\uad6c\\ub85c\\uad6c\",\n",
      "            \"cityNameEng\": \"Guro-gu\",\n",
      "            \"coValue\": \"\",\n",
      "            \"dataGubun\": \"\",\n",
      "            \"dataTime\": \"2018-07-13 15:00\",\n",
      "            \"districtCode\": \"02\",\n",
      "            \"districtNumSeq\": \"007\",\n",
      "            \"itemCode\": \"\",\n",
      "            \"khaiValue\": \"\",\n",
      "            \"no2Value\": \"\",\n",
      "            \"numOfRows\": \"10\",\n",
      "            \"o3Value\": \"\",\n",
      "            \"pageNo\": \"1\",\n",
      "            \"pm10Value\": \"15\",\n",
      "            \"pm25Value\": \"8\",\n",
      "            \"resultCode\": \"\",\n",
      "            \"resultMsg\": \"\",\n",
      "            \"searchCondition\": \"\",\n",
      "            \"serviceKey\": \"\",\n",
      "            \"sidoName\": \"\\uc11c\\uc6b8\",\n",
      "            \"so2Value\": \"\",\n",
      "            \"totalCount\": \"\"\n",
      "        },\n",
      "        {\n",
      "            \"_returnType\": \"json\",\n",
      "            \"cityName\": \"\\uae08\\ucc9c\\uad6c\",\n",
      "            \"cityNameEng\": \"Geumcheon-gu\",\n",
      "            \"coValue\": \"0.2\",\n",
      "            \"dataGubun\": \"\",\n",
      "            \"dataTime\": \"2018-07-13 15:00\",\n",
      "            \"districtCode\": \"02\",\n",
      "            \"districtNumSeq\": \"008\",\n",
      "            \"itemCode\": \"\",\n",
      "            \"khaiValue\": \"\",\n",
      "            \"no2Value\": \"0.014\",\n",
      "            \"numOfRows\": \"10\",\n",
      "            \"o3Value\": \"0.036\",\n",
      "            \"pageNo\": \"1\",\n",
      "            \"pm10Value\": \"20\",\n",
      "            \"pm25Value\": \"15\",\n",
      "            \"resultCode\": \"\",\n",
      "            \"resultMsg\": \"\",\n",
      "            \"searchCondition\": \"\",\n",
      "            \"serviceKey\": \"\",\n",
      "            \"sidoName\": \"\\uc11c\\uc6b8\",\n",
      "            \"so2Value\": \"0.004\",\n",
      "            \"totalCount\": \"\"\n",
      "        },\n",
      "        {\n",
      "            \"_returnType\": \"json\",\n",
      "            \"cityName\": \"\\ub178\\uc6d0\\uad6c\",\n",
      "            \"cityNameEng\": \"Nowon-gu\",\n",
      "            \"coValue\": \"0.3\",\n",
      "            \"dataGubun\": \"\",\n",
      "            \"dataTime\": \"2018-07-13 15:00\",\n",
      "            \"districtCode\": \"02\",\n",
      "            \"districtNumSeq\": \"009\",\n",
      "            \"itemCode\": \"\",\n",
      "            \"khaiValue\": \"\",\n",
      "            \"no2Value\": \"0.011\",\n",
      "            \"numOfRows\": \"10\",\n",
      "            \"o3Value\": \"0.026\",\n",
      "            \"pageNo\": \"1\",\n",
      "            \"pm10Value\": \"22\",\n",
      "            \"pm25Value\": \"16\",\n",
      "            \"resultCode\": \"\",\n",
      "            \"resultMsg\": \"\",\n",
      "            \"searchCondition\": \"\",\n",
      "            \"serviceKey\": \"\",\n",
      "            \"sidoName\": \"\\uc11c\\uc6b8\",\n",
      "            \"so2Value\": \"0.005\",\n",
      "            \"totalCount\": \"\"\n",
      "        },\n",
      "        {\n",
      "            \"_returnType\": \"json\",\n",
      "            \"cityName\": \"\\ub3c4\\ubd09\\uad6c\",\n",
      "            \"cityNameEng\": \"Dobong-gu\",\n",
      "            \"coValue\": \"0.6\",\n",
      "            \"dataGubun\": \"\",\n",
      "            \"dataTime\": \"2018-07-13 15:00\",\n",
      "            \"districtCode\": \"02\",\n",
      "            \"districtNumSeq\": \"010\",\n",
      "            \"itemCode\": \"\",\n",
      "            \"khaiValue\": \"\",\n",
      "            \"no2Value\": \"0.011\",\n",
      "            \"numOfRows\": \"10\",\n",
      "            \"o3Value\": \"0.027\",\n",
      "            \"pageNo\": \"1\",\n",
      "            \"pm10Value\": \"21\",\n",
      "            \"pm25Value\": \"12\",\n",
      "            \"resultCode\": \"\",\n",
      "            \"resultMsg\": \"\",\n",
      "            \"searchCondition\": \"\",\n",
      "            \"serviceKey\": \"\",\n",
      "            \"sidoName\": \"\\uc11c\\uc6b8\",\n",
      "            \"so2Value\": \"0.004\",\n",
      "            \"totalCount\": \"\"\n",
      "        }\n",
      "    ],\n",
      "    \"parm\": {\n",
      "        \"_returnType\": \"json\",\n",
      "        \"cityName\": \"\",\n",
      "        \"cityNameEng\": \"\",\n",
      "        \"coValue\": \"\",\n",
      "        \"dataGubun\": \"\",\n",
      "        \"dataTime\": \"\",\n",
      "        \"districtCode\": \"\",\n",
      "        \"districtNumSeq\": \"\",\n",
      "        \"itemCode\": \"\",\n",
      "        \"khaiValue\": \"\",\n",
      "        \"no2Value\": \"\",\n",
      "        \"numOfRows\": \"10\",\n",
      "        \"o3Value\": \"\",\n",
      "        \"pageNo\": \"1\",\n",
      "        \"pm10Value\": \"\",\n",
      "        \"pm25Value\": \"\",\n",
      "        \"resultCode\": \"\",\n",
      "        \"resultMsg\": \"\",\n",
      "        \"searchCondition\": \"DAILY\",\n",
      "        \"serviceKey\": \"Y5DSBJBS/m1IIAcO37lFFbJttSm+h494BebepLaLUhMwcJMfgQQ4+bKj3Udxi4489gGTXXlzMNoi4CQzAmxZ6g==\",\n",
      "        \"sidoName\": \"\\uc11c\\uc6b8\",\n",
      "        \"so2Value\": \"\",\n",
      "        \"totalCount\": \"\"\n",
      "    },\n",
      "    \"CtprvnMesureLIstVo2\": {\n",
      "        \"_returnType\": \"json\",\n",
      "        \"cityName\": \"\",\n",
      "        \"cityNameEng\": \"\",\n",
      "        \"coValue\": \"\",\n",
      "        \"dataGubun\": \"\",\n",
      "        \"dataTime\": \"\",\n",
      "        \"districtCode\": \"\",\n",
      "        \"districtNumSeq\": \"\",\n",
      "        \"itemCode\": \"\",\n",
      "        \"khaiValue\": \"\",\n",
      "        \"no2Value\": \"\",\n",
      "        \"numOfRows\": \"10\",\n",
      "        \"o3Value\": \"\",\n",
      "        \"pageNo\": \"1\",\n",
      "        \"pm10Value\": \"\",\n",
      "        \"pm25Value\": \"\",\n",
      "        \"resultCode\": \"\",\n",
      "        \"resultMsg\": \"\",\n",
      "        \"searchCondition\": \"DAILY\",\n",
      "        \"serviceKey\": \"Y5DSBJBS/m1IIAcO37lFFbJttSm+h494BebepLaLUhMwcJMfgQQ4+bKj3Udxi4489gGTXXlzMNoi4CQzAmxZ6g==\",\n",
      "        \"sidoName\": \"\\uc11c\\uc6b8\",\n",
      "        \"so2Value\": \"\",\n",
      "        \"totalCount\": \"\"\n",
      "    },\n",
      "    \"totalCount\": 625\n",
      "}\n"
     ]
    }
   ],
   "source": [
    "resJSON = json.dumps(resObj,indent=\"    \")\n",
    "print(resJSON)"
   ]
  },
  {
   "cell_type": "code",
   "execution_count": null,
   "metadata": {},
   "outputs": [],
   "source": [
    "resJSON."
   ]
  }
 ],
 "metadata": {
  "kernelspec": {
   "display_name": "Python 3",
   "language": "python",
   "name": "python3"
  },
  "language_info": {
   "codemirror_mode": {
    "name": "ipython",
    "version": 3
   },
   "file_extension": ".py",
   "mimetype": "text/x-python",
   "name": "python",
   "nbconvert_exporter": "python",
   "pygments_lexer": "ipython3",
   "version": "3.6.5"
  }
 },
 "nbformat": 4,
 "nbformat_minor": 2
}
