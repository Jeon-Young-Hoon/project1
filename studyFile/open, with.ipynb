{
 "cells": [
  {
   "cell_type": "markdown",
   "metadata": {},
   "source": [
    "# Persistant"
   ]
  },
  {
   "cell_type": "markdown",
   "metadata": {},
   "source": [
    "## flat file "
   ]
  },
  {
   "cell_type": "markdown",
   "metadata": {},
   "source": [
    "data files that contain records with no structured relationships between the records and there's also no structure for indexing. (txt, csv, tsv)\n",
    "- text\n",
    "  - the new line character (\\n) is default EOL terminator.\n",
    "- binary\n",
    "  - no EOL character"
   ]
  },
  {
   "cell_type": "markdown",
   "metadata": {},
   "source": [
    "## open(file, mode='r', buffering=-1, encoding=None, errors=None, newline=None, closefd=True, opener=None) "
   ]
  },
  {
   "cell_type": "code",
   "execution_count": 20,
   "metadata": {},
   "outputs": [],
   "source": [
    "file = open('hello.txt', 'w')    \n",
    "file.write('Hello, world!')\n",
    "file.write('Hello, 문근영!')\n",
    "file.close()               "
   ]
  },
  {
   "cell_type": "code",
   "execution_count": 21,
   "metadata": {},
   "outputs": [
    {
     "data": {
      "text/plain": [
       "'Hello, world!Hello, 문근영!'"
      ]
     },
     "execution_count": 21,
     "metadata": {},
     "output_type": "execute_result"
    }
   ],
   "source": [
    "file2 = open(\"hello.txt\",'r')\n",
    "\n",
    "#dir(file2) # enter와 exit가 있다면 with 사용 가능,iter,next가 있다면 iterable\n",
    "next(file2)"
   ]
  },
  {
   "cell_type": "code",
   "execution_count": 19,
   "metadata": {},
   "outputs": [
    {
     "name": "stdout",
     "output_type": "stream",
     "text": [
      "cp949\n",
      "UTF-8\n"
     ]
    }
   ],
   "source": [
    "import sys\n",
    "print(sys.stdin.encoding)\n",
    "print(sys.stdout.encoding)"
   ]
  },
  {
   "cell_type": "code",
   "execution_count": 25,
   "metadata": {},
   "outputs": [],
   "source": [
    " file3 = open('hello.txt','r')"
   ]
  },
  {
   "cell_type": "code",
   "execution_count": 26,
   "metadata": {},
   "outputs": [
    {
     "name": "stdout",
     "output_type": "stream",
     "text": [
      "Hello, world!Hello, 문근영!\n"
     ]
    }
   ],
   "source": [
    "for i in file3:\n",
    "    print(i)"
   ]
  },
  {
   "cell_type": "code",
   "execution_count": 55,
   "metadata": {},
   "outputs": [],
   "source": [
    "url = \"http://www.aistudy.co.kr//\"\n",
    "import requests\n"
   ]
  },
  {
   "cell_type": "code",
   "execution_count": 73,
   "metadata": {},
   "outputs": [],
   "source": [
    "data = requests.get(url)"
   ]
  },
  {
   "cell_type": "code",
   "execution_count": 76,
   "metadata": {},
   "outputs": [
    {
     "data": {
      "text/plain": [
       "'<html>\\r\\n<head>\\r\\n<meta http-equiv=\"content-type\" content=\"text/html; charset=euc-kr\">\\r\\n<meta name=\"viewport\" content=\"width=device-width,initial-scale=1\">\\r\\n<title>AI Study</title>\\r\\n<meta name=\"generator\" content=\"Namo WebEditor\">\\r\\n<style><!--\\r\\n.leading200 { line-height:200%; }\\r\\n.leading180 { line-height:180%; }\\r\\n.leading150 { line-height:150%; }\\r\\n.leading100 { line-height:100%; }\\r\\na:link { text-decoration:none; }\\r\\na:hover { color:red; }\\r\\na:visited { text-decoration:none; }\\r\\na:active { text-decoration:none; }\\r\\n-->\\r\\n</style>\\r\\n\\r\\n<meta name=\"namo_guide\" content=\"h456\">\\r\\n</head>\\r\\n\\r\\n<body bgcolor=\"#FFFFDF\" text=\"black\" link=\"blue\" vlink=\"purple\" alink=\"red\">\\r\\n<p style=\"line-height:150%;\"><font\\r\\n             face=\"Times New Roman\"><b><span style=\"font-size:12pt;\">&nbsp;&nbsp;&nbsp;&nbsp;&nbsp;&nbsp;&nbsp;&nbsp;&nbsp;&nbsp;&nbsp;&nbsp;&nbsp;&nbsp;&nbsp;&nbsp;&nbsp;&nbsp;&nbsp;&nbsp;&nbsp;&nbsp;&nbsp;&nbsp;&nbsp;&nbsp;&nbsp;&nbsp;&nbsp;&nbsp;&nbsp;&nbsp;&nbsp;&nbsp;&nbsp;&nbsp;&nbsp;&nbsp;&nbsp;</span></b></font><span style=\"font-size:12pt;\"><b><font face=\"Times New Roman\">&nbsp;&nbsp;</font></b></span><a href=\"http://www.aistudy.com\"><b><span style=\"font-size:12pt;\"><img src=\"images/STUDY.gif\" width=\"342\"\\r\\nheight=\"65\" border=\"0\" align=\"texttop\"></span></b></a><span style=\"font-size:12pt;\"><b><font face=\"Times New Roman\"><a href=\"about.htm\">about</a> \\r\\n&nbsp;</font></b></span></p>\\r\\n<p style=\"line-height:150%;\" align=\"left\"><b><span style=\"font-size:12pt; letter-spacing:-0.38pt;\"><font face=\"Times New Roman\">AI \\r\\n공부를 위해서는 </font></span><font face=\"Times New Roman\"><a href=\"math/mathematics.htm\"><span style=\"font-size:12pt;\">수학</span></a></font><span style=\"font-size:12pt; letter-spacing:-0.38pt;\"><font face=\"Times New Roman\">, \\r\\n특히 </font></span><a href=\"logic/logic.htm\"><font face=\"Times New Roman\"><span style=\"font-size:12pt;\">수리논리학</span></font></a><span style=\"font-size:12pt; letter-spacing:-0.38pt;\"><font face=\"Times New Roman\">&nbsp;에 \\r\\n대한 깊이있는 지식이 필요하다. &nbsp;과학 공부는 많이 할수록 좋은데 &nbsp;특히 생물학적 &nbsp;접근을위해 </font></span><a href=\"psychology/psychology.htm\"><span style=\"font-size:12pt; letter-spacing:-0.38pt;\"><font face=\"Times New Roman\">심리학</font></span></a><span style=\"font-size:12pt; letter-spacing:-0.38pt;\"><font face=\"Times New Roman\">&nbsp;과 \\r\\n신경계통의 </font></span><a href=\"physiology/physiology.htm\"><span style=\"font-size:12pt; letter-spacing:-0.38pt;\"><font face=\"Times New Roman\">생리학</font></span></a><span style=\"font-size:12pt; letter-spacing:-0.38pt;\"><font face=\"Times New Roman\">&nbsp;이 \\r\\n공부되어야 한다. &nbsp;최소한<a href=\"program/c.htm\"> C</a>, <a href=\"program/lisp/lisp.htm\">Lisp</a>, <a href=\"program/prolog/prolog.htm\">Prolog</a> \\r\\n와 기본적인 기계어를 배워야 하며, 최근에는 <a href=\"program/cpp.htm\">C++</a>, <a href=\"program/java.htm\">Java</a> 를 포함시켜야 할것이다. \\r\\n( <a href=\"pioneer/McCarthy.J.htm\">존 매카시</a>)</font></span></b></p>\\r\\n<p align=\"left\" style=\"line-height:150%;\"><B><FONT \\r\\nface=\"Times New Roman\"><span style=\"font-size:12pt;\">Mission \\r\\n&nbsp;&nbsp;&nbsp;&nbsp;&nbsp;&nbsp;&nbsp;</span></font></b><a href=\"ai/ai.htm\"><b><font face=\"Times New Roman\"><span style=\"font-size:12pt;\">&nbsp;&nbsp;&nbsp;&nbsp;AI 란 \\r\\n            무엇인가</span></font></b></a><b><a href=\"terms/glossary.htm\"><font face=\"Times New Roman\"><span style=\"font-size:12pt;\">&nbsp;&nbsp;&nbsp;&nbsp;&nbsp;&nbsp;&nbsp;</span></font><span style=\"font-size:12pt;\"><font face=\"Times New Roman\" color=\"red\">Glossary(용어)</font></span><font face=\"Times New Roman\"><span style=\"font-size:12pt;\">\\r\\n            </span></font></a><FONT \\r\\nface=\"Times New Roman\"><span style=\"font-size:12pt;\"> &nbsp;&nbsp;&nbsp;&nbsp;&nbsp;</span></font></b><a href=\"history/history.htm\"><b><font face=\"Times New Roman\"><span style=\"font-size:12pt;\">&nbsp;history</span></font></b></a><b><font face=\"Times New Roman\"><a href=\"인공지능의%20역사.htm\"><span style=\"font-size:12pt;\"> </span></a><span style=\"font-size:12pt;\">&nbsp;&nbsp;&nbsp;&nbsp;&nbsp;&nbsp;&nbsp;</span></font></b><a href=\"pioneer/pioneers.htm\"><b><font face=\"Times New Roman\"><span style=\"font-size:12pt;\">pioneer(world</span></font></b></a><B><FONT\\r\\n\\r\\nface=\"Times New Roman\"><span style=\"font-size:12pt;\">            , &nbsp;&nbsp; </span><a href=\"pioneer/pioneers_kor.htm\"><span style=\"font-size:12pt;\">korea)</span></a><span style=\"font-size:12pt;\"> &nbsp;&nbsp;&nbsp;&nbsp;&nbsp;</span></font></b>&nbsp;&nbsp;<font\\r\\n             face=\"Times New Roman\"><b><a href=\"lab/lab.htm\"><span style=\"font-size:12pt;\">lab</span></a><span style=\"font-size:12pt;\"> &nbsp;&nbsp;&nbsp;&nbsp;</span><a href=\"life/life.htm\"><span style=\"font-size:12pt;\">&nbsp;life</span></a><span style=\"font-size:12pt;\"> &nbsp;&nbsp;</span><a href=\"ai/branch.htm\"><span style=\"font-size:12pt;\">&nbsp;&nbsp;branch</span></a><span style=\"font-size:12pt;\"> &nbsp;&nbsp;</span></b></font><B><FONT \\r\\nface=\"Times New Roman\"><span style=\"font-size:12pt;\"> &nbsp;&nbsp;</span></font></b><font\\r\\n             face=\"Times New Roman\"><b><a href=\"demo/demo.htm\"><span style=\"font-size:12pt;\">&nbsp;&nbsp;demo</span></a><span style=\"font-size:12pt;\"> &nbsp;&nbsp;</span></b></font><font\\r\\n             face=\"Times New Roman\"><b><span style=\"font-size:12pt;\"> &nbsp;&nbsp;&nbsp;</span></b></font><b><span style=\"font-size:12pt;\"><font face=\"Times New Roman\"><a href=\"default_e.htm\">English</a></font></span></b></p>\\r\\n<p align=\"left\" style=\"line-height:150%;\"><B><FONT \\r\\nface=\"Times New Roman\"><span style=\"font-size:12pt;\">Key word &nbsp;</span></font></b><font\\r\\n             face=\"Times New Roman\"><b><a href=\"philosophy/philosophy.htm\"><span style=\"font-size:12pt;\"> &nbsp;&nbsp;&nbsp;&nbsp;&nbsp;&nbsp;철학</span></a><span style=\"font-size:12pt;\">&nbsp;&nbsp;&nbsp;</span></b></font><a href=\"linguistics/linguistics.htm\"><b><font face=\"Times New Roman\"><span style=\"font-size:12pt;\">언어학</span></font></b></a><B><FONT \\r\\nface=\"Times New Roman\"><span style=\"font-size:12pt;\"> &nbsp;&nbsp;</span></font></b><a href=\"robot/robot.htm\"><font face=\"Times New Roman\"><b><span style=\"font-size:12pt;\">로봇</span></b></font></a><font\\r\\n             face=\"Times New Roman\"><b><span style=\"font-size:12pt;\"> &nbsp;&nbsp;</span></b></font><a href=\"game/game.htm\"><b><font face=\"Times New Roman\"><span style=\"font-size:12pt;\">게임</span></font></b></a><B><FONT \\r\\nface=\"Times New Roman\"><span style=\"font-size:12pt;\">   &nbsp;&nbsp;</span><a href=\"neural/neural_network.htm\"><span style=\"font-size:12pt;\">신경망</span></a><span style=\"font-size:12pt;\"> &nbsp;&nbsp;</span><a href=\"fuzzy/fuzzy.htm\"><span style=\"font-size:12pt;\">퍼지</span></a><span style=\"font-size:12pt;\"> &nbsp;&nbsp;</span><a href=\"pattern/pattern_recognition.htm\"><span style=\"font-size:12pt;\">패턴인식</span></a><span style=\"font-size:12pt;\"> &nbsp;&nbsp;</span><a href=\"expert/expert_system.htm\"><span style=\"font-size:12pt;\">전문가시스템</span></a><span\\r\\nstyle=\"font-size:12pt;\">&nbsp;&nbsp;&nbsp;&nbsp;&nbsp;</span><a href=\"reasoning/reasoning.htm\"><span style=\"font-size:12pt;\">추론</span></a><span style=\"font-size:12pt;\"> \\r\\n            &nbsp;&nbsp;</span></font></b><a href=\"problem/problem_solving.htm\"><b><font face=\"Times New Roman\"><span style=\"font-size:12pt;\">문제해결</span></font></b></a><B><FONT \\r\\nface=\"Times New Roman\"><span style=\"font-size:12pt;\"> &nbsp;&nbsp;&nbsp;</span></font><a href=\"algorithm/algorithm.htm\"><font face=\"Times New Roman\">알고리즘</font></a><FONT \\r\\nface=\"Times New Roman\"><span style=\"font-size:12pt;\">&nbsp;</span><a href=\"heuristic/heuristic.htm\"><span style=\"font-size:12pt;\">&nbsp;&nbsp;휴리스틱</span></a><span style=\"font-size:12pt;\"> \\r\\n            &nbsp;<a href=\"computer/computer.htm\">&nbsp;컴퓨터</a> &nbsp;<a href=\"physiology/brain/brain.htm\">두뇌</a> \\r\\n            &nbsp;</span></font></b></p>\\r\\n<p align=\"left\" style=\"line-height:150%;\"><B><span style=\"font-size:12pt;\"><font face=\"Times New Roman\" color=\"red\">Hot Keyword </font></span><a href=\"http://bci.korea.ac.kr/\"><font face=\"Times New Roman\">&nbsp;&nbsp;</font></a><a href=\"demo/alphago.htm\"><font face=\"Times New Roman\">AlphaGo</font></a><span style=\"font-size:12pt;\"><font face=\"Times New Roman\">&nbsp;&nbsp;&nbsp;&nbsp;</font></span><a href=\"learning/machine_learning.htm\"><font face=\"Times New Roman\">머신러닝&nbsp;&nbsp;&nbsp;&nbsp;</font></a><a href=\"learning/deep_learning.htm\"><font face=\"Times New Roman\" color=\"blue\">딥 러닝</font></a><font color=\"blue\"><a href=\"learning/deep_learning.htm\">&nbsp;&nbsp;&nbsp;</a></font></b><SPAN \\r\\nlang=EN-US><b><a href=\"learning/mining/big_data.htm\"><font face=\"Times New Roman\">빅데이터</font></a></b></SPAN><B><font color=\"blue\"><a href=\"learning/deep_learning.htm\">&nbsp;</a></font><a href=\"learning/machine_learning.htm\"><font face=\"Times New Roman\">&nbsp;&nbsp;</font></a><span style=\"font-size:12pt;\"><font face=\"Times New Roman\">&nbsp;</font></span><a href=\"thought/fourth_industrial_revoluiton.htm\"><font face=\"Times New Roman\">4차 산업혁명</font></a><span style=\"font-size:12pt;\"><font face=\"Times New Roman\">&nbsp;&nbsp;&nbsp;</font></span><a href=\"program/tensorflow.htm\"><font face=\"Times New Roman\">TensorFlow</font></a><font face=\"Times New Roman\"> </font><span style=\"font-size:12pt;\"><font face=\"Times New Roman\">&nbsp;&nbsp;</font></span><a href=\"linguistics/natural/chatbot.htm\"><font face=\"Times New Roman\">&nbsp;Chatbot &nbsp;&nbsp;&nbsp;</font></a><a href=\"program/programming.htm\"><font face=\"Times New Roman\">프로그래밍</font></a></b></p>\\r\\n<p align=\"left\" style=\"line-height:150%;\"><B><FONT \\r\\nface=\"Times New Roman\"><span style=\"font-size:12pt;\">Site &nbsp;&nbsp;&nbsp;&nbsp;&nbsp;&nbsp;&nbsp;&nbsp;&nbsp;&nbsp;&nbsp;&nbsp;&nbsp;&nbsp;&nbsp;</span></font></b><a href=\"http://aitopics.net/A-ZIndex\"><b><font face=\"Times New Roman\"><span style=\"font-size:12pt;\">&nbsp;&nbsp;&nbsp;</span></font></b></a><b><font face=\"Times New Roman\"><span style=\"font-size:12pt;\"><a href=\"http://www.aaai.org\">AAAI</a></span></font></b><a href=\"http://aitopics.net/A-ZIndex\"><b><font face=\"Times New Roman\"><span style=\"font-size:12pt;\"> &nbsp;&nbsp;&nbsp;&nbsp;            </span></font></b></a><b><font face=\"Times New Roman\"><span style=\"font-size:12pt;\"><a href=\"http://aitopics.org/\">AI \\r\\n            Topics</a> &nbsp;&nbsp;&nbsp;</span></font></b><a href=\"lab/best5.htm\"><b><font face=\"Times New Roman\"><span style=\"font-size:12pt;\">&nbsp;                        </span></font></b></a><B><A \\r\\nhref=\"ai/ai_resource.htm\"><FONT \\r\\nface=\"Times New Roman\"><span style=\"font-size:12pt;\">            외국학회</span></FONT></A><FONT \\r\\nface=\"Times New Roman\"><span style=\"font-size:12pt;\"> \\r\\n            &nbsp;&nbsp;&nbsp;<a href=\"help/society.htm\">학회&nbsp;&nbsp;&nbsp;&nbsp;</a><a href=\"help/event.htm\">event</a></span></font><font color=\"#C00000\"> &nbsp;</font><FONT \\r\\nface=\"Times New Roman\"><span style=\"font-size:12pt;\">&nbsp;.... </span></font></b></p>\\r\\n<p align=\"left\" style=\"line-height:150%;\"><B><FONT \\r\\nface=\"Times New Roman\"><span style=\"font-size:12pt;\">Reference \\r\\n            &nbsp;&nbsp;&nbsp;&nbsp;&nbsp;&nbsp;&nbsp;</span><a href=\"paper/ai_book.htm\"><span style=\"font-size:12pt;\">book</span></a></font></b><B><FONT \\r\\nface=\"Times New Roman\"><span style=\"font-size:12pt;\"> &nbsp;&nbsp;</span></font></b><a href=\"news/news.htm\"><b><font face=\"Times New Roman\"><span style=\"font-size:12pt;\"> &nbsp;&nbsp;news</span></font></b></a><B><FONT \\r\\nface=\"Times New Roman\"><span style=\"font-size:12pt;\"> &nbsp;&nbsp;</span></font><a href=\"art/art.htm\"><font face=\"Times New Roman\"><span style=\"font-size:12pt;\"> \\r\\n            &nbsp;fiction</span></font></a><FONT \\r\\nface=\"Times New Roman\"><span style=\"font-size:12pt;\"> &nbsp;&nbsp;&nbsp;</span></font><a href=\"art/ai_movie.htm\"><font face=\"Times New Roman\">movie</font></a> \\r\\n<FONT \\r\\nface=\"Times New Roman\"><span style=\"font-size:12pt;\">&nbsp;<a href=\"video/ai_video.htm\">&nbsp;video</a>&nbsp;&nbsp;</span></font></b><a href=\"paper/biblio.htm\"><b><font face=\"Times New Roman\"><span style=\"font-size:12pt;\">&nbsp;&nbsp;bibliography</span></font></b></a><a href=\"humor/humor.htm\"><b><font face=\"Times New Roman\"><span style=\"font-size:12pt;\"> \\r\\n            &nbsp;</span></font></b></a><B><FONT \\r\\nface=\"Times New Roman\"><span style=\"font-size:12pt;\"> &nbsp;\\r\\n            ......</span></font></b>            </p>\\r\\n<p style=\"line-height:150%;\"><a href=\"help/help.htm\"><font face=\"Times New Roman\"><b><span style=\"font-size:12pt;\">Help</span></b></font></a><font\\r\\n             face=\"Times New Roman\"><b><span style=\"font-size:12pt;\"> &nbsp;&nbsp;&nbsp;&nbsp;&nbsp;&nbsp;&nbsp;&nbsp;&nbsp;&nbsp;&nbsp;&nbsp;&nbsp;</span></b></font><B><FONT \\r\\nface=\"Times New Roman\"><span style=\"font-size:12pt;\">&nbsp;&nbsp;&nbsp;<a href=\"https://en.wikipedia.org/wiki/Main_Page\">Wikipedia &nbsp;&nbsp;&nbsp;</a><a href=\"https://ko.wikipedia.org/wiki/%EC%9C%84%ED%82%A4%EB%B0%B1%EA%B3%BC:%EB%8C%80%EB%AC%B8\">위키백과</a><a href=\"https://en.wikipedia.org/wiki/Main_Page\">&nbsp;</a></span></font></b><b><font face=\"Times New Roman\"><span style=\"font-size:12pt;\">\\r\\n            </span></font></b><B><FONT \\r\\nface=\"Times New Roman\"><span style=\"font-size:12pt;\">&nbsp;&nbsp;<a href=\"http://www.youtube.com\">&nbsp;YouTube</a> &nbsp;&nbsp;&nbsp;</span></font>\\r\\n<a href=\"http://www.etnews.co.kr\">전자신문</a> &nbsp;&nbsp;&nbsp;</b><A href=\"http://www.kyobobook.co.kr/\" target=_top><b>교보문고</b></A><B>&nbsp;<FONT \\r\\nface=\"Times New Roman\"><span style=\"font-size:12pt;\">&nbsp;</span></font><span style=\"font-size:12pt;\"> \\r\\n            &nbsp;<a href=\"help/book_store.htm\">서점</a> &nbsp;&nbsp;</span><a href=\"help/press.htm\">언론</a><span style=\"font-size:12pt;\"> \\r\\n            &nbsp;&nbsp;&nbsp;</span><FONT \\r\\nface=\"Times New Roman\"><span style=\"font-size:12pt;\"><a href=\"http://dl.nanet.go.kr/index.do\">국회도서관검색</a> \\r\\n            &nbsp;..... </span></font></b></p>\\r\\n<center>\\r\\n<FORM method=GET action=\"http://www.google.co.kr/search\">\\r\\n<TABLE bgcolor=\"#DDFFDD\" style=\"line-height:150%;\"><tr><td height=\"41\">\\r\\n\\r\\n                    <p align=\"center\" style=\"line-height:150%;\">\\r\\n<b><span style=\"font-size:12pt;\"><INPUT TYPE=text name=q size=31 maxlength=255 value=\"\">\\r\\n<INPUT TYPE=hidden name=hl value=ko>\\r\\n<INPUT TYPE=hidden name=ie value=euc-kr>\\r\\n<INPUT type=submit name=btnG VALUE=\"구글 검색\"></span></b><span style=\"font-size:12pt;\">\\r\\n\\r\\n                    </span><b><span style=\"font-size:12pt;\"><input type=radio name=sitesearch value=\"\" checked>\\r\\n</span><span style=\"font-size:10pt;\"><font face=\"Times New Roman\">www </font>검색\\r\\n<input type=radio name=sitesearch value=\"www.aistudy.com\">\\r\\n                    <font face=\"Times New Roman\">www.aistudy.com</font> 검색</span></b>\\r\\n\\r\\n</td></tr></TABLE>\\r\\n</FORM>\\r\\n</center>\\r\\n<p style=\"line-height:150%;\">&nbsp;</p>\\r\\n<p style=\"line-height:150%;\"><b><span style=\"font-size:12pt;\"><font color=\"red\">★★★</font></span><a href=\"http://bci.korea.ac.kr/\">&nbsp;</a><a href=\"http://nacsi.kr/tutorial/tutorial17.html\">&nbsp;</a><a href=\"http://nacsi.kr/tutorial/tutorial20.html\">심층 강화학습을 통한 챗봇 구현과 응용 : 한국인지과학산업협회 인지기술 튜토리얼 20</a> : 2018/03/31, 서울대<span style=\"font-size:12pt;\"> &nbsp;<font color=\"red\">★★★</font></span></b></p>\\r\\n<p style=\"line-height:150%;\"><b><span style=\"font-size:12pt;\"><font color=\"red\">★★★</font></span><a href=\"http://bci.korea.ac.kr/\">&nbsp;</a><a href=\"http://nacsi.kr/tutorial/tutorial17.html\">&nbsp;</a><a href=\"http://mhpark.or.kr/index.php?document_srl=286927\">\\'박문호 박사의 뇌과학 공부\\' 출간&nbsp;- 박문호의 자연과학세상</a> <span style=\"font-size:12pt;\">&nbsp;<font color=\"red\">★★★</font></span></b></p>\\r\\n<p style=\"line-height:150%;\">&nbsp;</p>\\r\\n<p style=\"line-height:150%;\"><b><a href=\"http://tv.naver.com/v/1878677\">폰 노이만 - 정보화시대 1부 : 강연</a> : <a href=\"http://openlectures.naver.com/contents?contentsId=132102&rid=2934&lectureType=paradigm\">열린연단</a> : <font face=\"새굴림\"><span style=\"font-size:12pt;\"><A \\r\\nhref=\"pioneer/Zhang.BT.htm\">장병탁</a></span></font>&nbsp;: 2017/07/21</b></p>\\r\\n<p style=\"line-height:150%;\">&nbsp;<iframe src=\\'http://serviceapi.rmcnmv.naver.com/flash/outKeyPlayer.nhn?vid=A759FD74B07D7FECC63DB9F35E9BB7398AFC&outKey=V12407c24b6fba7d69b570911b1a8bfa391d43ecdf82f98b2082e0911b1a8bfa391d4&controlBarMovable=true&jsCallable=true&isAutoPlay=true&skinName=tvcast_white\\' frameborder=\\'no\\' scrolling=\\'no\\' marginwidth=\\'0\\' marginheight=\\'0\\' WIDTH=\\'300\\' HEIGHT=\\'169\\' allowfullscreen></iframe></p>\\r\\n<p style=\"line-height:150%;\"><b><a href=\"https://www.youtube.com/watch?v=8Z2eLTSCuBk&t=2079s\">인공지능과 미래 - KAIST 강연</a> : <a href=\"https://www.youtube.com/channel/UCEQTSbZJvgkWKiFHirszYZA\">spark</a> : <a href=\"pioneer/Hassabis.D.htm\">Demis Hassabis</a>, 2017/05/27</b></p>\\r\\n<p style=\"line-height:150%;\">&nbsp;<iframe width=\"300\" height=\"169\" src=\"https://www.youtube.com/embed/8Z2eLTSCuBk?rel=0\" frameborder=\"0\" allowfullscreen></iframe></p>\\r\\n<H1 class=\"text-center\"><A title=\"새창으로 메일 보기\" class=\"newWindow _ccr(rdh.new) _c1(mrCore|popupRead|11667) _stopDefault\" href=\"https://mail.naver.com/?n=1445866174255&amp;v=f#\"></A></H1>\\r\\n<p style=\"line-height:150%;\"><b><a href=\"https://www.youtube.com/watch?v=efWSbITntR0&t=5090s\">뇌과학으로 본 인공지능의 현주소와 미래 - 1부</a> : <a href=\"https://www.youtube.com/channel/UCpwh4yRadX0nnGQVqCLdskg\">afoofa Jung</a> : </b><a href=\"pioneer/Park.MH.htm\"><b>박문호</b></a><b> : 2016/04/07</b></p>\\r\\n<p style=\"line-height:150%;\">&nbsp;<iframe width=\"300\" height=\"169\" src=\"https://www.youtube.com/embed/efWSbITntR0?rel=0\" frameborder=\"0\" allowfullscreen></iframe></p>\\r\\n<DIV class=\"text\">\\r\\n    <P align=\"justify\" style=\"line-height:150%;\">&nbsp;</p>\\r\\n</DIV>\\r\\n<p style=\"line-height:150%;\">\\r\\n\\r\\n\\r\\n&nbsp;</body>\\r\\n\\r\\n</html>'"
      ]
     },
     "execution_count": 76,
     "metadata": {},
     "output_type": "execute_result"
    }
   ],
   "source": [
    "data.content.decode(\"euc-kr\")"
   ]
  },
  {
   "cell_type": "code",
   "execution_count": 37,
   "metadata": {},
   "outputs": [
    {
     "name": "stdout",
     "output_type": "stream",
     "text": [
      "Requirement already satisfied: chardet in c:\\users\\jyh54\\anaconda3\\lib\\site-packages (3.0.4)\n"
     ]
    },
    {
     "name": "stderr",
     "output_type": "stream",
     "text": [
      "distributed 1.21.8 requires msgpack, which is not installed.\n"
     ]
    }
   ],
   "source": [
    "!pip install chardet"
   ]
  },
  {
   "cell_type": "code",
   "execution_count": 39,
   "metadata": {},
   "outputs": [],
   "source": [
    "import chardet"
   ]
  },
  {
   "cell_type": "code",
   "execution_count": 74,
   "metadata": {},
   "outputs": [
    {
     "data": {
      "text/plain": [
       "{'encoding': 'EUC-KR', 'confidence': 0.99, 'language': 'Korean'}"
      ]
     },
     "execution_count": 74,
     "metadata": {},
     "output_type": "execute_result"
    }
   ],
   "source": [
    "chardet.detect(data.content)"
   ]
  },
  {
   "cell_type": "markdown",
   "metadata": {},
   "source": [
    "파이썬3은 기본적으로 유니코드 체계,문자열은 유니코드,바이트는 바이트,바이트어레이도 바이트 "
   ]
  },
  {
   "cell_type": "markdown",
   "metadata": {},
   "source": [
    "| 파일 모드 \t| 기능 \t| 설명 \t|\n",
    "|-----------\t|------------------------\t|-------------------------------------------------------------------------------------------------------------------------------------------\t|\n",
    "| r \t| 읽기 전용 \t| 파일을 읽기 전용으로 열기. 단, 파일이 반드시 있어야 하며 파일이 없으면 에러 발생 \t|\n",
    "| w \t| 쓰기 전용 \t| 쓰기 전용으로 새 파일을 생성. 만약 파일이 있으면 내용을 덮어씀 \t|\n",
    "| a \t| 추가 \t| 파일을 열어 파일 끝에 값을 이어 씀. 만약 파일이 없으면 파일을 생성 \t|\n",
    "| x \t| 배타적 생성(쓰기) \t| 파일을 쓰기 모드로 생성. 파일이 이미 있으면 에러 발생 \t|\n",
    "| r+ \t| 읽기/쓰기 \t| 파일을 읽기/쓰기용으로 열기. 단, 파일이 반드시 있어야 하며 파일이 없으면 에러 발생 \t|\n",
    "| w+ \t| 읽기/쓰기 \t| 파일을 읽기/쓰기용으로 열기. 파일이 없으면 파일을 생성하고, 파일이 있으면 내용을 덮어씀 \t|\n",
    "| a+ \t| 추가(읽기/쓰기) \t| 파일을 열어 파일 끝에 값을 이어 씀. 만약 파일이 없으면 파일을 생성. 읽기는 파일의 모든 구간에서 가능하지만, 쓰기는 파일의 끝에서만 가능함 \t|\n",
    "| x+ \t| 배타적 생성(읽기/쓰기) \t| 파일을 읽기/쓰기 모드로 생성. 파일이 이미 있으면 에러 발생 \t|\n",
    "| t \t| 텍스트 모드 \t| 파일을 읽거나 쓸 때 개행 문자 \\n과 \\r\\n을 서로 변환 \t|\n",
    "| b \t| 바이너리 모드 \t| 파일의 내용을 그대로 읽고, 값을 그대로 씀 \t|"
   ]
  },
  {
   "cell_type": "code",
   "execution_count": 28,
   "metadata": {},
   "outputs": [
    {
     "ename": "ValueError",
     "evalue": "I/O operation on closed file.",
     "output_type": "error",
     "traceback": [
      "\u001b[0;31m---------------------------------------------------------------------------\u001b[0m",
      "\u001b[0;31mValueError\u001b[0m                                Traceback (most recent call last)",
      "\u001b[0;32m<ipython-input-28-7d2c72c1c3af>\u001b[0m in \u001b[0;36m<module>\u001b[0;34m()\u001b[0m\n\u001b[1;32m      1\u001b[0m \u001b[0mfile\u001b[0m \u001b[0;34m=\u001b[0m \u001b[0mopen\u001b[0m\u001b[0;34m(\u001b[0m\u001b[0;34m'hello2.txt'\u001b[0m\u001b[0;34m,\u001b[0m \u001b[0;34m'w'\u001b[0m\u001b[0;34m)\u001b[0m\u001b[0;34m\u001b[0m\u001b[0m\n\u001b[1;32m      2\u001b[0m \u001b[0mfile\u001b[0m\u001b[0;34m.\u001b[0m\u001b[0mclose\u001b[0m\u001b[0;34m(\u001b[0m\u001b[0;34m)\u001b[0m\u001b[0;34m\u001b[0m\u001b[0m\n\u001b[0;32m----> 3\u001b[0;31m \u001b[0mfile\u001b[0m\u001b[0;34m.\u001b[0m\u001b[0mwrite\u001b[0m\u001b[0;34m(\u001b[0m\u001b[0;34m'Hello, world!'\u001b[0m\u001b[0;34m)\u001b[0m\u001b[0;34m\u001b[0m\u001b[0m\n\u001b[0m",
      "\u001b[0;31mValueError\u001b[0m: I/O operation on closed file."
     ]
    }
   ],
   "source": [
    "file = open('hello2.txt', 'w')    \n",
    "file.close() \n",
    "file.write('Hello, world!')      "
   ]
  },
  {
   "cell_type": "code",
   "execution_count": 29,
   "metadata": {},
   "outputs": [
    {
     "name": "stdout",
     "output_type": "stream",
     "text": [
      "Hello, world!\n"
     ]
    }
   ],
   "source": [
    "file = open('hello.txt', 'r')    \n",
    "s = file.read()                  \n",
    "print(s)                         \n",
    "file.close()                     "
   ]
  },
  {
   "cell_type": "code",
   "execution_count": 30,
   "metadata": {},
   "outputs": [
    {
     "ename": "ValueError",
     "evalue": "I/O operation on closed file.",
     "output_type": "error",
     "traceback": [
      "\u001b[0;31m---------------------------------------------------------------------------\u001b[0m",
      "\u001b[0;31mValueError\u001b[0m                                Traceback (most recent call last)",
      "\u001b[0;32m<ipython-input-30-8b7a8a8beac3>\u001b[0m in \u001b[0;36m<module>\u001b[0;34m()\u001b[0m\n\u001b[1;32m      1\u001b[0m \u001b[0mfile\u001b[0m \u001b[0;34m=\u001b[0m \u001b[0mopen\u001b[0m\u001b[0;34m(\u001b[0m\u001b[0;34m'hello.txt'\u001b[0m\u001b[0;34m,\u001b[0m \u001b[0;34m'r'\u001b[0m\u001b[0;34m)\u001b[0m\u001b[0;34m\u001b[0m\u001b[0m\n\u001b[1;32m      2\u001b[0m \u001b[0mfile\u001b[0m\u001b[0;34m.\u001b[0m\u001b[0mclose\u001b[0m\u001b[0;34m(\u001b[0m\u001b[0;34m)\u001b[0m\u001b[0;34m\u001b[0m\u001b[0m\n\u001b[0;32m----> 3\u001b[0;31m \u001b[0ms\u001b[0m \u001b[0;34m=\u001b[0m \u001b[0mfile\u001b[0m\u001b[0;34m.\u001b[0m\u001b[0mread\u001b[0m\u001b[0;34m(\u001b[0m\u001b[0;34m)\u001b[0m\u001b[0;34m\u001b[0m\u001b[0m\n\u001b[0m\u001b[1;32m      4\u001b[0m \u001b[0mprint\u001b[0m\u001b[0;34m(\u001b[0m\u001b[0ms\u001b[0m\u001b[0;34m)\u001b[0m\u001b[0;34m\u001b[0m\u001b[0m\n",
      "\u001b[0;31mValueError\u001b[0m: I/O operation on closed file."
     ]
    }
   ],
   "source": [
    "file = open('hello.txt', 'r')    \n",
    "file.close()                     \n",
    "s = file.read()                  \n",
    "print(s)                         "
   ]
  },
  {
   "cell_type": "code",
   "execution_count": 31,
   "metadata": {},
   "outputs": [
    {
     "name": "stderr",
     "output_type": "stream",
     "text": [
      "ERROR:root:Internal Python error in the inspect module.\n",
      "Below is the traceback from this internal error.\n",
      "\n"
     ]
    },
    {
     "name": "stdout",
     "output_type": "stream",
     "text": [
      "Traceback (most recent call last):\n",
      "  File \"/usr/local/lib/python3.6/site-packages/IPython/core/interactiveshell.py\", line 2910, in run_code\n",
      "    exec(code_obj, self.user_global_ns, self.user_ns)\n",
      "  File \"<ipython-input-31-bd12c407fa52>\", line 3, in <module>\n",
      "    files.append(open('foo.txt', 'w'))\n",
      "OSError: [Errno 24] Too many open files: 'foo.txt'\n",
      "\n",
      "During handling of the above exception, another exception occurred:\n",
      "\n",
      "Traceback (most recent call last):\n",
      "  File \"/usr/local/lib/python3.6/site-packages/IPython/core/interactiveshell.py\", line 1828, in showtraceback\n",
      "    stb = value._render_traceback_()\n",
      "AttributeError: 'OSError' object has no attribute '_render_traceback_'\n",
      "\n",
      "During handling of the above exception, another exception occurred:\n",
      "\n",
      "Traceback (most recent call last):\n",
      "  File \"/usr/local/lib/python3.6/site-packages/IPython/core/ultratb.py\", line 1090, in get_records\n",
      "  File \"/usr/local/lib/python3.6/site-packages/IPython/core/ultratb.py\", line 311, in wrapped\n",
      "  File \"/usr/local/lib/python3.6/site-packages/IPython/core/ultratb.py\", line 345, in _fixed_getinnerframes\n",
      "  File \"/usr/local/Cellar/python/3.6.4_4/Frameworks/Python.framework/Versions/3.6/lib/python3.6/inspect.py\", line 1483, in getinnerframes\n",
      "  File \"/usr/local/Cellar/python/3.6.4_4/Frameworks/Python.framework/Versions/3.6/lib/python3.6/inspect.py\", line 1441, in getframeinfo\n",
      "  File \"/usr/local/Cellar/python/3.6.4_4/Frameworks/Python.framework/Versions/3.6/lib/python3.6/inspect.py\", line 696, in getsourcefile\n",
      "  File \"/usr/local/Cellar/python/3.6.4_4/Frameworks/Python.framework/Versions/3.6/lib/python3.6/inspect.py\", line 725, in getmodule\n",
      "  File \"/usr/local/Cellar/python/3.6.4_4/Frameworks/Python.framework/Versions/3.6/lib/python3.6/inspect.py\", line 709, in getabsfile\n",
      "  File \"/usr/local/Cellar/python/3.6.4_4/Frameworks/Python.framework/Versions/3.6/lib/python3.6/posixpath.py\", line 374, in abspath\n",
      "OSError: [Errno 24] Too many open files\n"
     ]
    },
    {
     "ename": "OSError",
     "evalue": "[Errno 24] Too many open files: 'foo.txt'",
     "output_type": "error",
     "traceback": [
      "\u001b[0;31m---------------------------------------------------------------------------\u001b[0m"
     ]
    }
   ],
   "source": [
    "files = []\n",
    "for _ in range(100000):\n",
    "    files.append(open('foo.txt', 'w'))"
   ]
  },
  {
   "cell_type": "markdown",
   "metadata": {},
   "source": [
    "파이썬에는 사용이 끝난 메모리를 정리해주는 가비지 컬렉터가 있어서 파일을 닫지 않아도 가비지 컬렉터가 파일을 닫아줍니다. 하지만 프로그래머가 파일을 직접 닫아야 하는 이유는 다음과 같습니다.\n",
    "\n",
    "- 너무 많은 파일을 열어 두면 그만큼 메모리 공간을 차지하므로 성능에 영향을 줄 수 있습니다.\n",
    "- 파일을 닫지 않으면 데이터가 쓰기가 완료되지 않을 수도 있습니다. 운영체제는 파일을 처리할 때 성능을 위해서 데이터를 버퍼(임시 공간)에 저장한 뒤 파일에 씁니다. 때에 따라서는 파일이 닫히는 시점에 버퍼의 내용이 파일에 저장됩니다.\n",
    "- 이론적으로 운영체제에서 열 수 있는 파일의 개수는 한계가 있습니다.\n",
    "- 운영체제에 따라 파일을 열었을 때 파일을 잠금 상태로 처리하는 경우가 있습니다. 실질적으로 파일 처리가 끝났더라도 파일을 닫지 않으면 다른 프로그램에서 파일을 사용할 수 없는 상태가 됩니다.\n",
    "\n",
    "보통은 파일을 닫지 않아도 큰 문제가 없습니다. 하지만 실무에서는 사소한 실수로도 큰 문제가 발생하는 경우가 있으므로 파일을 정확히 닫는 습관을 기르는 것이 좋습니다."
   ]
  },
  {
   "cell_type": "code",
   "execution_count": 77,
   "metadata": {},
   "outputs": [
    {
     "name": "stdout",
     "output_type": "stream",
     "text": [
      "Writing sun.txt\n"
     ]
    }
   ],
   "source": [
    "%%writefile sun.txt\n",
    "When, in disgrace with fortune and men's eyes,\n",
    "I all alone beweep my outcast state,\n",
    "And trouble deaf heaven with my bootless cries,\n",
    "And look upon myself and curse my fate,"
   ]
  },
  {
   "cell_type": "code",
   "execution_count": 78,
   "metadata": {},
   "outputs": [],
   "source": [
    "a = open('sun.txt') # generator"
   ]
  },
  {
   "cell_type": "code",
   "execution_count": 80,
   "metadata": {},
   "outputs": [
    {
     "data": {
      "text/plain": [
       "'I all alone beweep my outcast state,\\nAnd trouble deaf heaven with my bootless cries,\\nAnd look upon myself and curse my fate,'"
      ]
     },
     "execution_count": 80,
     "metadata": {},
     "output_type": "execute_result"
    }
   ],
   "source": [
    "a.read()    "
   ]
  },
  {
   "cell_type": "code",
   "execution_count": 81,
   "metadata": {},
   "outputs": [
    {
     "data": {
      "text/plain": [
       "''"
      ]
     },
     "execution_count": 81,
     "metadata": {},
     "output_type": "execute_result"
    }
   ],
   "source": [
    "a.readline()"
   ]
  },
  {
   "cell_type": "code",
   "execution_count": 18,
   "metadata": {},
   "outputs": [
    {
     "data": {
      "text/plain": [
       "['I all alone beweep my outcast state,\\n',\n",
       " 'And trouble deaf heaven with my bootless cries,\\n',\n",
       " 'And look upon myself and curse my fate,']"
      ]
     },
     "execution_count": 18,
     "metadata": {},
     "output_type": "execute_result"
    }
   ],
   "source": [
    "a.readlines()"
   ]
  },
  {
   "cell_type": "code",
   "execution_count": 23,
   "metadata": {},
   "outputs": [],
   "source": [
    "b = open('sun.txt')"
   ]
  },
  {
   "cell_type": "code",
   "execution_count": 26,
   "metadata": {},
   "outputs": [
    {
     "data": {
      "text/plain": [
       "'And trouble deaf heaven with my bootless cries,\\n'"
      ]
     },
     "execution_count": 26,
     "metadata": {},
     "output_type": "execute_result"
    }
   ],
   "source": [
    "b.readline()"
   ]
  },
  {
   "cell_type": "markdown",
   "metadata": {},
   "source": [
    "## with"
   ]
  },
  {
   "cell_type": "code",
   "execution_count": 82,
   "metadata": {},
   "outputs": [
    {
     "name": "stdout",
     "output_type": "stream",
     "text": [
      "When, in disgrace with fortune and men's eyes,\n",
      "I all alone beweep my outcast state,\n",
      "And trouble deaf heaven with my bootless cries,\n",
      "And look upon myself and curse my fate,\n"
     ]
    }
   ],
   "source": [
    "with open('sun.txt', 'r') as file:    \n",
    "    s = file.read()                 \n",
    "    print(s)      "
   ]
  },
  {
   "cell_type": "code",
   "execution_count": 83,
   "metadata": {},
   "outputs": [],
   "source": [
    "with open('sun2.txt', 'w') as file: \n",
    "    for i in range(3):\n",
    "        file.write('Hello, world! {0}\\n'.format(i))"
   ]
  },
  {
   "cell_type": "code",
   "execution_count": 84,
   "metadata": {},
   "outputs": [],
   "source": [
    "lines = ['문근영\\n', 'only one.\\n']\n",
    " \n",
    "with open('moon.txt', 'w') as file: \n",
    "    file.writelines(lines)"
   ]
  },
  {
   "cell_type": "code",
   "execution_count": 85,
   "metadata": {},
   "outputs": [
    {
     "name": "stdout",
     "output_type": "stream",
     "text": [
      "['문근영\\n', 'only one.\\n']\n"
     ]
    }
   ],
   "source": [
    "with open('moon.txt', 'r') as file:    \n",
    "    lines = file.readlines()\n",
    "    print(lines)"
   ]
  },
  {
   "cell_type": "code",
   "execution_count": 86,
   "metadata": {},
   "outputs": [
    {
     "name": "stdout",
     "output_type": "stream",
     "text": [
      "문근영\n",
      "only one.\n",
      "\n"
     ]
    }
   ],
   "source": [
    "with open('moon.txt', 'r') as file:    \n",
    "    line = file.readline()\n",
    "    print(line.strip('\\n'))        \n",
    "    while line != '':\n",
    "        line = file.readline()\n",
    "        print(line.strip('\\n'))    "
   ]
  },
  {
   "cell_type": "code",
   "execution_count": 87,
   "metadata": {},
   "outputs": [
    {
     "name": "stdout",
     "output_type": "stream",
     "text": [
      "문근영\n",
      "only one.\n"
     ]
    }
   ],
   "source": [
    "with open('moon.txt', 'r') as file:   \n",
    "    for i in file:\n",
    "        print(i, end='')"
   ]
  },
  {
   "cell_type": "code",
   "execution_count": 88,
   "metadata": {},
   "outputs": [],
   "source": [
    "class File:\n",
    "    def __init__(self, filename, mode):\n",
    "        self.filename = filename\n",
    "        self.mode = mode\n",
    "\n",
    "    def __enter__(self):\n",
    "        self.open_file = open(self.filename, self.mode)\n",
    "        return self.open_file\n",
    "\n",
    "    def __exit__(self, *args):\n",
    "        self.open_file.close()\n",
    "\n",
    "files = []\n",
    "for _ in range(10000):\n",
    "    with File('foo.txt', 'w') as infile:\n",
    "        infile.write('foo')\n",
    "        files.append(infile)"
   ]
  },
  {
   "cell_type": "markdown",
   "metadata": {},
   "source": [
    "| 메서드 \t| 설명 \t|\n",
    "|--------------------------\t|------------------------------------------------------------------------\t|\n",
    "| read([n]) \t| 파일에서 문자열을 읽음 \t|\n",
    "| write(string or byte_string)\t| 파일에 문자열을 씀 \t|\n",
    "| readline([n]) \t| 파일의 내용을 한 줄 읽음 \t|\n",
    "| readlines() \t| 파일의 내용을 한 줄씩 읽어서 리스트로 가져옴 \t|\n",
    "| writelines(문자열리스트) \t| 파일에 리스트의 문자열을 씀, 리스트의 각 문자열에는 \\n을 붙여주어야 함 \t|"
   ]
  },
  {
   "cell_type": "markdown",
   "metadata": {},
   "source": [
    "## pickle"
   ]
  },
  {
   "cell_type": "code",
   "execution_count": 96,
   "metadata": {},
   "outputs": [],
   "source": [
    "a= open('trash.ipynb','rb')\n"
   ]
  },
  {
   "cell_type": "code",
   "execution_count": 102,
   "metadata": {},
   "outputs": [],
   "source": [
    "name = '문근영'\n",
    "scores = {'korean': 90, 'english': 95, 'mathematics': 85, 'science': 82}"
   ]
  },
  {
   "cell_type": "code",
   "execution_count": 106,
   "metadata": {},
   "outputs": [],
   "source": [
    "import pickle"
   ]
  },
  {
   "cell_type": "code",
   "execution_count": 107,
   "metadata": {},
   "outputs": [],
   "source": [
    "with open('moon.pickle', 'wb') as file:    # 확장자 마음대로\n",
    "    pickle.dump(name,file)\n",
    "    pickle.dump(scores, file)"
   ]
  },
  {
   "cell_type": "code",
   "execution_count": 105,
   "metadata": {
    "scrolled": true
   },
   "outputs": [
    {
     "name": "stdout",
     "output_type": "stream",
     "text": [
      "문근영\n",
      "{'korean': 90, 'english': 95, 'mathematics': 85, 'science': 82}\n"
     ]
    }
   ],
   "source": [
    "with open('moon.pickle', 'rb') as file:    \n",
    "    n1ame = pickle.load(file)\n",
    "    s1cores = pickle.load(file)\n",
    "    print(n1ame)\n",
    "    print(s1cores)"
   ]
  },
  {
   "cell_type": "code",
   "execution_count": 108,
   "metadata": {},
   "outputs": [
    {
     "name": "stdout",
     "output_type": "stream",
     "text": [
      "{'korean': 90, 'english': 95, 'mathematics': 85, 'science': 82}\n",
      "문근영\n"
     ]
    }
   ],
   "source": [
    "with open('moon.pickle', 'rb') as file:    \n",
    "    scoresl = pickle.load(file)\n",
    "    namel = pickle.load(file)\n",
    "    print(namel)\n",
    "    print(scoresl)"
   ]
  },
  {
   "cell_type": "code",
   "execution_count": 48,
   "metadata": {},
   "outputs": [
    {
     "name": "stdout",
     "output_type": "stream",
     "text": [
      "{'korean': 90, 'english': 95, 'mathematics': 85, 'science': 82}\n"
     ]
    }
   ],
   "source": [
    "with open('moon.pickle', 'rb') as file:    \n",
    "    scores = pickle.load(file)\n",
    "    print(name)"
   ]
  },
  {
   "cell_type": "markdown",
   "metadata": {},
   "source": [
    "| 메서드 \t| 설명 \t|\n",
    "|-----------------------------\t|-----------------------------\t|\n",
    "| pickle.load(파일객체) \t| 파일에서 파이썬 객체를 읽음 \t|\n",
    "| pickle.dump(객체, 파일객체) \t| 파일에 파이썬 객체를 저장 \t|"
   ]
  },
  {
   "cell_type": "code",
   "execution_count": 114,
   "metadata": {},
   "outputs": [
    {
     "name": "stdout",
     "output_type": "stream",
     "text": [
      "€\u0003]q\u0000(X\u000f\u0000\u0000\u0000write blog postq\u0001X\u000e\u0000\u0000\u0000reply to emailq\u0002X\u000e\u0000\u0000\u0000read in a bookq\u0003e.\n",
      "{'encoding': 'Windows-1252', 'confidence': 0.73, 'language': ''}\n"
     ]
    }
   ],
   "source": [
    "todo = ['write blog post', 'reply to email', 'read in a book']\n",
    "pickled_data = pickle.dumps(todo)\n",
    "print(pickled_data.decode(\"Windows-1252\"))\n",
    "print(chardet.detect(pickled_data))"
   ]
  },
  {
   "cell_type": "code",
   "execution_count": 113,
   "metadata": {},
   "outputs": [],
   "source": [
    "restored_data = pickle.loads(pickled_data)"
   ]
  },
  {
   "cell_type": "code",
   "execution_count": 5,
   "metadata": {},
   "outputs": [
    {
     "data": {
      "text/plain": [
       "['write blog post', 'reply to email', 'read in a book']"
      ]
     },
     "execution_count": 5,
     "metadata": {},
     "output_type": "execute_result"
    }
   ],
   "source": [
    "restored_data"
   ]
  },
  {
   "cell_type": "code",
   "execution_count": 124,
   "metadata": {},
   "outputs": [],
   "source": [
    "import pickle\n",
    " \n",
    "name = 'Abder'\n",
    "website = 'http://abder.io'\n",
    "english_french = {'paper':'papier', 'pen':'stylo', 'car':'voiture'} # dictionary\n",
    "tup = (31,'abder',4.0) # tuple\n",
    " \n",
    "pickled_file = open('pickled_file.pickle', 'wb')\n",
    "pickle.dump(name, pickled_file)\n",
    "pickle.dump(website, pickled_file)\n",
    "pickle.dump(english_french, pickled_file)\n",
    "pickle.dump(tup, pickled_file)\n",
    "\n",
    "pickled_file.close()"
   ]
  },
  {
   "cell_type": "code",
   "execution_count": 116,
   "metadata": {},
   "outputs": [],
   "source": [
    "from pickle import Pickler\n",
    " \n",
    "name = 'Abder'\n",
    "website = 'http://abder.io'\n",
    "english_french = {'paper':'papier', 'pen':'stylo', 'car':'voiture'} # dictionary\n",
    "tup = (31,'abder',4.0) # tuple\n",
    " \n",
    "pickled_file = open('pickled_file.pickle', 'wb')\n",
    "p = Pickler(pickled_file)\n",
    "p.dump(name); p.dump(website); p.dump(english_french); p.dump(tup)\n",
    "pickled_file.close()"
   ]
  },
  {
   "cell_type": "code",
   "execution_count": 117,
   "metadata": {},
   "outputs": [
    {
     "name": "stdout",
     "output_type": "stream",
     "text": [
      "Name: \n",
      "Abder\n",
      "Website:\n",
      "http://abder.io\n",
      "Englsh to French:\n",
      "{'paper': 'papier', 'pen': 'stylo', 'car': 'voiture'}\n",
      "Tuple data:\n",
      "(31, 'abder', 4.0)\n"
     ]
    }
   ],
   "source": [
    "import pickle\n",
    " \n",
    "pickled_file = open('pickled_file.pickle', 'rb')\n",
    " \n",
    "name = pickle.load(pickled_file)\n",
    "website = pickle.load(pickled_file)\n",
    "english_french = pickle.load(pickled_file)\n",
    "tup = pickle.load(pickled_file)\n",
    " \n",
    "print('Name: ')\n",
    "print(name)\n",
    "print('Website:')\n",
    "print(website)\n",
    "print('Englsh to French:')\n",
    "print(english_french)\n",
    "print('Tuple data:')\n",
    "print(tup)"
   ]
  },
  {
   "cell_type": "code",
   "execution_count": 125,
   "metadata": {},
   "outputs": [
    {
     "name": "stdout",
     "output_type": "stream",
     "text": [
      "Name: \n",
      "Abder\n",
      "Website:\n",
      "http://abder.io\n",
      "English to French:\n",
      "{'paper': 'papier', 'pen': 'stylo', 'car': 'voiture'}\n",
      "Tuple data:\n",
      "(31, 'abder', 4.0)\n"
     ]
    }
   ],
   "source": [
    "from pickle import Unpickler\n",
    " \n",
    "pickled_file = open('pickled_file.pickle', 'rb')\n",
    "u = Unpickler(pickled_file)\n",
    "name = u.load(); website = u.load(); english_french = u.load(); tup = u.load()\n",
    " \n",
    "print('Name: ')\n",
    "print(name)\n",
    "print('Website:')\n",
    "print(website)\n",
    "print('English to French:')\n",
    "print(english_french)\n",
    "print('Tuple data:')\n",
    "print(tup)"
   ]
  },
  {
   "cell_type": "markdown",
   "metadata": {},
   "source": [
    "과제 : 이미지 크롤링해보기 르누아르,샤갈,모딜리아 유명화가들, sqllite로 데이터 베이스 만들어 오기 , base64로 이미지 변환하는법"
   ]
  },
  {
   "cell_type": "code",
   "execution_count": 126,
   "metadata": {},
   "outputs": [],
   "source": [
    "import base64"
   ]
  },
  {
   "cell_type": "code",
   "execution_count": 132,
   "metadata": {},
   "outputs": [],
   "source": [
    "file = open('cat.png','rb')\n",
    "data = file.read() "
   ]
  },
  {
   "cell_type": "code",
   "execution_count": 133,
   "metadata": {},
   "outputs": [],
   "source": [
    "data2=base64.encodebytes(data)"
   ]
  },
  {
   "cell_type": "code",
   "execution_count": 134,
   "metadata": {},
   "outputs": [
    {
     "data": {
      "text/plain": [
       "b'iVBORw0KGgoAAAANSUhEUgAAAPoAAAC8CAYAAABR7bNMAAAAAXNSR0IArs4c6QAAAARnQU1BAACx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\\nxAAAAABJRU5ErkJggg==\\n'"
      ]
     },
     "execution_count": 134,
     "metadata": {},
     "output_type": "execute_result"
    }
   ],
   "source": [
    "data2"
   ]
  },
  {
   "cell_type": "code",
   "execution_count": 144,
   "metadata": {},
   "outputs": [
    {
     "ename": "HTTPError",
     "evalue": "HTTP Error 403: Forbidden",
     "output_type": "error",
     "traceback": [
      "\u001b[1;31m---------------------------------------------------------------------------\u001b[0m",
      "\u001b[1;31mHTTPError\u001b[0m                                 Traceback (most recent call last)",
      "\u001b[1;32m<ipython-input-144-ed08e4ef9d65>\u001b[0m in \u001b[0;36m<module>\u001b[1;34m()\u001b[0m\n\u001b[0;32m      1\u001b[0m \u001b[1;32mimport\u001b[0m \u001b[0murllib\u001b[0m\u001b[1;33m\u001b[0m\u001b[0m\n\u001b[0;32m      2\u001b[0m \u001b[0murl\u001b[0m\u001b[1;33m=\u001b[0m\u001b[1;34m\"https://www.google.com/search?q=html+image&source=lnms&tbm=isch&sa=X&ved=0ahUKEwjshoXco6jcAhWUad4KHWsHBakQ_AUICigB&biw=1281&bih=1285\"\u001b[0m\u001b[1;33m\u001b[0m\u001b[0m\n\u001b[1;32m----> 3\u001b[1;33m \u001b[0murllib\u001b[0m\u001b[1;33m.\u001b[0m\u001b[0mrequest\u001b[0m\u001b[1;33m.\u001b[0m\u001b[0murlretrieve\u001b[0m\u001b[1;33m(\u001b[0m\u001b[0murl\u001b[0m\u001b[1;33m,\u001b[0m\u001b[1;34m\"moon11.png\"\u001b[0m\u001b[1;33m)\u001b[0m\u001b[1;33m\u001b[0m\u001b[0m\n\u001b[0m",
      "\u001b[1;32m~\\Anaconda3\\lib\\urllib\\request.py\u001b[0m in \u001b[0;36murlretrieve\u001b[1;34m(url, filename, reporthook, data)\u001b[0m\n\u001b[0;32m    246\u001b[0m     \u001b[0murl_type\u001b[0m\u001b[1;33m,\u001b[0m \u001b[0mpath\u001b[0m \u001b[1;33m=\u001b[0m \u001b[0msplittype\u001b[0m\u001b[1;33m(\u001b[0m\u001b[0murl\u001b[0m\u001b[1;33m)\u001b[0m\u001b[1;33m\u001b[0m\u001b[0m\n\u001b[0;32m    247\u001b[0m \u001b[1;33m\u001b[0m\u001b[0m\n\u001b[1;32m--> 248\u001b[1;33m     \u001b[1;32mwith\u001b[0m \u001b[0mcontextlib\u001b[0m\u001b[1;33m.\u001b[0m\u001b[0mclosing\u001b[0m\u001b[1;33m(\u001b[0m\u001b[0murlopen\u001b[0m\u001b[1;33m(\u001b[0m\u001b[0murl\u001b[0m\u001b[1;33m,\u001b[0m \u001b[0mdata\u001b[0m\u001b[1;33m)\u001b[0m\u001b[1;33m)\u001b[0m \u001b[1;32mas\u001b[0m \u001b[0mfp\u001b[0m\u001b[1;33m:\u001b[0m\u001b[1;33m\u001b[0m\u001b[0m\n\u001b[0m\u001b[0;32m    249\u001b[0m         \u001b[0mheaders\u001b[0m \u001b[1;33m=\u001b[0m \u001b[0mfp\u001b[0m\u001b[1;33m.\u001b[0m\u001b[0minfo\u001b[0m\u001b[1;33m(\u001b[0m\u001b[1;33m)\u001b[0m\u001b[1;33m\u001b[0m\u001b[0m\n\u001b[0;32m    250\u001b[0m \u001b[1;33m\u001b[0m\u001b[0m\n",
      "\u001b[1;32m~\\Anaconda3\\lib\\urllib\\request.py\u001b[0m in \u001b[0;36murlopen\u001b[1;34m(url, data, timeout, cafile, capath, cadefault, context)\u001b[0m\n\u001b[0;32m    221\u001b[0m     \u001b[1;32melse\u001b[0m\u001b[1;33m:\u001b[0m\u001b[1;33m\u001b[0m\u001b[0m\n\u001b[0;32m    222\u001b[0m         \u001b[0mopener\u001b[0m \u001b[1;33m=\u001b[0m \u001b[0m_opener\u001b[0m\u001b[1;33m\u001b[0m\u001b[0m\n\u001b[1;32m--> 223\u001b[1;33m     \u001b[1;32mreturn\u001b[0m \u001b[0mopener\u001b[0m\u001b[1;33m.\u001b[0m\u001b[0mopen\u001b[0m\u001b[1;33m(\u001b[0m\u001b[0murl\u001b[0m\u001b[1;33m,\u001b[0m \u001b[0mdata\u001b[0m\u001b[1;33m,\u001b[0m \u001b[0mtimeout\u001b[0m\u001b[1;33m)\u001b[0m\u001b[1;33m\u001b[0m\u001b[0m\n\u001b[0m\u001b[0;32m    224\u001b[0m \u001b[1;33m\u001b[0m\u001b[0m\n\u001b[0;32m    225\u001b[0m \u001b[1;32mdef\u001b[0m \u001b[0minstall_opener\u001b[0m\u001b[1;33m(\u001b[0m\u001b[0mopener\u001b[0m\u001b[1;33m)\u001b[0m\u001b[1;33m:\u001b[0m\u001b[1;33m\u001b[0m\u001b[0m\n",
      "\u001b[1;32m~\\Anaconda3\\lib\\urllib\\request.py\u001b[0m in \u001b[0;36mopen\u001b[1;34m(self, fullurl, data, timeout)\u001b[0m\n\u001b[0;32m    530\u001b[0m         \u001b[1;32mfor\u001b[0m \u001b[0mprocessor\u001b[0m \u001b[1;32min\u001b[0m \u001b[0mself\u001b[0m\u001b[1;33m.\u001b[0m\u001b[0mprocess_response\u001b[0m\u001b[1;33m.\u001b[0m\u001b[0mget\u001b[0m\u001b[1;33m(\u001b[0m\u001b[0mprotocol\u001b[0m\u001b[1;33m,\u001b[0m \u001b[1;33m[\u001b[0m\u001b[1;33m]\u001b[0m\u001b[1;33m)\u001b[0m\u001b[1;33m:\u001b[0m\u001b[1;33m\u001b[0m\u001b[0m\n\u001b[0;32m    531\u001b[0m             \u001b[0mmeth\u001b[0m \u001b[1;33m=\u001b[0m \u001b[0mgetattr\u001b[0m\u001b[1;33m(\u001b[0m\u001b[0mprocessor\u001b[0m\u001b[1;33m,\u001b[0m \u001b[0mmeth_name\u001b[0m\u001b[1;33m)\u001b[0m\u001b[1;33m\u001b[0m\u001b[0m\n\u001b[1;32m--> 532\u001b[1;33m             \u001b[0mresponse\u001b[0m \u001b[1;33m=\u001b[0m \u001b[0mmeth\u001b[0m\u001b[1;33m(\u001b[0m\u001b[0mreq\u001b[0m\u001b[1;33m,\u001b[0m \u001b[0mresponse\u001b[0m\u001b[1;33m)\u001b[0m\u001b[1;33m\u001b[0m\u001b[0m\n\u001b[0m\u001b[0;32m    533\u001b[0m \u001b[1;33m\u001b[0m\u001b[0m\n\u001b[0;32m    534\u001b[0m         \u001b[1;32mreturn\u001b[0m \u001b[0mresponse\u001b[0m\u001b[1;33m\u001b[0m\u001b[0m\n",
      "\u001b[1;32m~\\Anaconda3\\lib\\urllib\\request.py\u001b[0m in \u001b[0;36mhttp_response\u001b[1;34m(self, request, response)\u001b[0m\n\u001b[0;32m    640\u001b[0m         \u001b[1;32mif\u001b[0m \u001b[1;32mnot\u001b[0m \u001b[1;33m(\u001b[0m\u001b[1;36m200\u001b[0m \u001b[1;33m<=\u001b[0m \u001b[0mcode\u001b[0m \u001b[1;33m<\u001b[0m \u001b[1;36m300\u001b[0m\u001b[1;33m)\u001b[0m\u001b[1;33m:\u001b[0m\u001b[1;33m\u001b[0m\u001b[0m\n\u001b[0;32m    641\u001b[0m             response = self.parent.error(\n\u001b[1;32m--> 642\u001b[1;33m                 'http', request, response, code, msg, hdrs)\n\u001b[0m\u001b[0;32m    643\u001b[0m \u001b[1;33m\u001b[0m\u001b[0m\n\u001b[0;32m    644\u001b[0m         \u001b[1;32mreturn\u001b[0m \u001b[0mresponse\u001b[0m\u001b[1;33m\u001b[0m\u001b[0m\n",
      "\u001b[1;32m~\\Anaconda3\\lib\\urllib\\request.py\u001b[0m in \u001b[0;36merror\u001b[1;34m(self, proto, *args)\u001b[0m\n\u001b[0;32m    568\u001b[0m         \u001b[1;32mif\u001b[0m \u001b[0mhttp_err\u001b[0m\u001b[1;33m:\u001b[0m\u001b[1;33m\u001b[0m\u001b[0m\n\u001b[0;32m    569\u001b[0m             \u001b[0margs\u001b[0m \u001b[1;33m=\u001b[0m \u001b[1;33m(\u001b[0m\u001b[0mdict\u001b[0m\u001b[1;33m,\u001b[0m \u001b[1;34m'default'\u001b[0m\u001b[1;33m,\u001b[0m \u001b[1;34m'http_error_default'\u001b[0m\u001b[1;33m)\u001b[0m \u001b[1;33m+\u001b[0m \u001b[0morig_args\u001b[0m\u001b[1;33m\u001b[0m\u001b[0m\n\u001b[1;32m--> 570\u001b[1;33m             \u001b[1;32mreturn\u001b[0m \u001b[0mself\u001b[0m\u001b[1;33m.\u001b[0m\u001b[0m_call_chain\u001b[0m\u001b[1;33m(\u001b[0m\u001b[1;33m*\u001b[0m\u001b[0margs\u001b[0m\u001b[1;33m)\u001b[0m\u001b[1;33m\u001b[0m\u001b[0m\n\u001b[0m\u001b[0;32m    571\u001b[0m \u001b[1;33m\u001b[0m\u001b[0m\n\u001b[0;32m    572\u001b[0m \u001b[1;31m# XXX probably also want an abstract factory that knows when it makes\u001b[0m\u001b[1;33m\u001b[0m\u001b[1;33m\u001b[0m\u001b[0m\n",
      "\u001b[1;32m~\\Anaconda3\\lib\\urllib\\request.py\u001b[0m in \u001b[0;36m_call_chain\u001b[1;34m(self, chain, kind, meth_name, *args)\u001b[0m\n\u001b[0;32m    502\u001b[0m         \u001b[1;32mfor\u001b[0m \u001b[0mhandler\u001b[0m \u001b[1;32min\u001b[0m \u001b[0mhandlers\u001b[0m\u001b[1;33m:\u001b[0m\u001b[1;33m\u001b[0m\u001b[0m\n\u001b[0;32m    503\u001b[0m             \u001b[0mfunc\u001b[0m \u001b[1;33m=\u001b[0m \u001b[0mgetattr\u001b[0m\u001b[1;33m(\u001b[0m\u001b[0mhandler\u001b[0m\u001b[1;33m,\u001b[0m \u001b[0mmeth_name\u001b[0m\u001b[1;33m)\u001b[0m\u001b[1;33m\u001b[0m\u001b[0m\n\u001b[1;32m--> 504\u001b[1;33m             \u001b[0mresult\u001b[0m \u001b[1;33m=\u001b[0m \u001b[0mfunc\u001b[0m\u001b[1;33m(\u001b[0m\u001b[1;33m*\u001b[0m\u001b[0margs\u001b[0m\u001b[1;33m)\u001b[0m\u001b[1;33m\u001b[0m\u001b[0m\n\u001b[0m\u001b[0;32m    505\u001b[0m             \u001b[1;32mif\u001b[0m \u001b[0mresult\u001b[0m \u001b[1;32mis\u001b[0m \u001b[1;32mnot\u001b[0m \u001b[1;32mNone\u001b[0m\u001b[1;33m:\u001b[0m\u001b[1;33m\u001b[0m\u001b[0m\n\u001b[0;32m    506\u001b[0m                 \u001b[1;32mreturn\u001b[0m \u001b[0mresult\u001b[0m\u001b[1;33m\u001b[0m\u001b[0m\n",
      "\u001b[1;32m~\\Anaconda3\\lib\\urllib\\request.py\u001b[0m in \u001b[0;36mhttp_error_default\u001b[1;34m(self, req, fp, code, msg, hdrs)\u001b[0m\n\u001b[0;32m    648\u001b[0m \u001b[1;32mclass\u001b[0m \u001b[0mHTTPDefaultErrorHandler\u001b[0m\u001b[1;33m(\u001b[0m\u001b[0mBaseHandler\u001b[0m\u001b[1;33m)\u001b[0m\u001b[1;33m:\u001b[0m\u001b[1;33m\u001b[0m\u001b[0m\n\u001b[0;32m    649\u001b[0m     \u001b[1;32mdef\u001b[0m \u001b[0mhttp_error_default\u001b[0m\u001b[1;33m(\u001b[0m\u001b[0mself\u001b[0m\u001b[1;33m,\u001b[0m \u001b[0mreq\u001b[0m\u001b[1;33m,\u001b[0m \u001b[0mfp\u001b[0m\u001b[1;33m,\u001b[0m \u001b[0mcode\u001b[0m\u001b[1;33m,\u001b[0m \u001b[0mmsg\u001b[0m\u001b[1;33m,\u001b[0m \u001b[0mhdrs\u001b[0m\u001b[1;33m)\u001b[0m\u001b[1;33m:\u001b[0m\u001b[1;33m\u001b[0m\u001b[0m\n\u001b[1;32m--> 650\u001b[1;33m         \u001b[1;32mraise\u001b[0m \u001b[0mHTTPError\u001b[0m\u001b[1;33m(\u001b[0m\u001b[0mreq\u001b[0m\u001b[1;33m.\u001b[0m\u001b[0mfull_url\u001b[0m\u001b[1;33m,\u001b[0m \u001b[0mcode\u001b[0m\u001b[1;33m,\u001b[0m \u001b[0mmsg\u001b[0m\u001b[1;33m,\u001b[0m \u001b[0mhdrs\u001b[0m\u001b[1;33m,\u001b[0m \u001b[0mfp\u001b[0m\u001b[1;33m)\u001b[0m\u001b[1;33m\u001b[0m\u001b[0m\n\u001b[0m\u001b[0;32m    651\u001b[0m \u001b[1;33m\u001b[0m\u001b[0m\n\u001b[0;32m    652\u001b[0m \u001b[1;32mclass\u001b[0m \u001b[0mHTTPRedirectHandler\u001b[0m\u001b[1;33m(\u001b[0m\u001b[0mBaseHandler\u001b[0m\u001b[1;33m)\u001b[0m\u001b[1;33m:\u001b[0m\u001b[1;33m\u001b[0m\u001b[0m\n",
      "\u001b[1;31mHTTPError\u001b[0m: HTTP Error 403: Forbidden"
     ]
    }
   ],
   "source": [
    "import urllib\n",
    "url=\"https://www.google.com/search?q=html+image&source=lnms&tbm=isch&sa=X&ved=0ahUKEwjshoXco6jcAhWUad4KHWsHBakQ_AUICigB&biw=1281&bih=1285\"\n",
    "urllib.request.urlretrieve(url,\"moon11.png\")"
   ]
  },
  {
   "cell_type": "code",
   "execution_count": 142,
   "metadata": {},
   "outputs": [
    {
     "ename": "TypeError",
     "evalue": "a bytes-like object is required, not 'str'",
     "output_type": "error",
     "traceback": [
      "\u001b[1;31m---------------------------------------------------------------------------\u001b[0m",
      "\u001b[1;31mTypeError\u001b[0m                                 Traceback (most recent call last)",
      "\u001b[1;32m<ipython-input-142-461de799d430>\u001b[0m in \u001b[0;36m<module>\u001b[1;34m()\u001b[0m\n\u001b[0;32m      3\u001b[0m \u001b[1;32mimport\u001b[0m \u001b[0mbase64\u001b[0m\u001b[1;33m\u001b[0m\u001b[0m\n\u001b[0;32m      4\u001b[0m \u001b[0mend\u001b[0m\u001b[1;33m=\u001b[0m\u001b[0mbase64\u001b[0m\u001b[1;33m.\u001b[0m\u001b[0mencodebytes\u001b[0m\u001b[1;33m(\u001b[0m\u001b[0mdata\u001b[0m\u001b[1;33m.\u001b[0m\u001b[0mcontent\u001b[0m\u001b[1;33m)\u001b[0m\u001b[1;33m\u001b[0m\u001b[0m\n\u001b[1;32m----> 5\u001b[1;33m \u001b[0mend\u001b[0m\u001b[1;33m.\u001b[0m\u001b[0mrstrip\u001b[0m\u001b[1;33m(\u001b[0m\u001b[1;34m'\\n'\u001b[0m\u001b[1;33m)\u001b[0m\u001b[1;33m\u001b[0m\u001b[0m\n\u001b[0m",
      "\u001b[1;31mTypeError\u001b[0m: a bytes-like object is required, not 'str'"
     ]
    }
   ],
   "source": [
    "import requests\n",
    "data = requests.get(url)\n",
    "import base64\n",
    "end=base64.encodebytes(data.content)\n",
    "end.rstrip('\\n')"
   ]
  },
  {
   "cell_type": "code",
   "execution_count": 145,
   "metadata": {},
   "outputs": [
    {
     "data": {
      "text/html": [
       "<img src='data:image/png:base64, /9j/4AAQSkZJRgABAQAAAQABAAD/2wCEAAkGBwgHBgkIBwgKCgkLDRYPDQwMDRsUFRAWIB0iIiAd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\\nr4X/ANv0r1eouKMZ/9k='>"
      ],
      "text/plain": [
       "<IPython.core.display.HTML object>"
      ]
     },
     "metadata": {},
     "output_type": "display_data"
    }
   ],
   "source": [
    "%%html\n",
    "<img src='data:image/png:base64, /9j/4AAQSkZJRgABAQAAAQABAAD/2wCEAAkGBwgHBgkIBwgKCgkLDRYPDQwMDRsUFRAWIB0iIiAd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\\nr4X/ANv0r1eouKMZ/9k='>"
   ]
  },
  {
   "cell_type": "code",
   "execution_count": null,
   "metadata": {},
   "outputs": [],
   "source": []
  }
 ],
 "metadata": {
  "kernelspec": {
   "display_name": "Python 3",
   "language": "python",
   "name": "python3"
  },
  "language_info": {
   "codemirror_mode": {
    "name": "ipython",
    "version": 3
   },
   "file_extension": ".py",
   "mimetype": "text/x-python",
   "name": "python",
   "nbconvert_exporter": "python",
   "pygments_lexer": "ipython3",
   "version": "3.6.5"
  }
 },
 "nbformat": 4,
 "nbformat_minor": 2
}
