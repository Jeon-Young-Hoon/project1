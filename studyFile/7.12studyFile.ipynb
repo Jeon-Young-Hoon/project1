{
 "cells": [
  {
   "cell_type": "markdown",
   "metadata": {},
   "source": [
    "# 7.12 studyFile"
   ]
  },
  {
   "cell_type": "markdown",
   "metadata": {},
   "source": [
    "### 정리 ( 릴레이션 추가)"
   ]
  },
  {
   "cell_type": "code",
   "execution_count": 8,
   "metadata": {},
   "outputs": [],
   "source": [
    "from sqlalchemy import Table,Column,Integer,String,MetaData,ForeignKey"
   ]
  },
  {
   "cell_type": "code",
   "execution_count": 9,
   "metadata": {},
   "outputs": [],
   "source": [
    "from sqlalchemy import create_engine,MetaData\n",
    "engine = create_engine(\"sqlite:///7.14.db\",echo=True)\n"
   ]
  },
  {
   "cell_type": "code",
   "execution_count": 10,
   "metadata": {},
   "outputs": [],
   "source": [
    "from sqlalchemy.ext.declarative import declarative_base"
   ]
  },
  {
   "cell_type": "code",
   "execution_count": 11,
   "metadata": {},
   "outputs": [],
   "source": [
    "Base = declarative_base()"
   ]
  },
  {
   "cell_type": "code",
   "execution_count": 12,
   "metadata": {},
   "outputs": [],
   "source": [
    "from sqlalchemy.orm import relationship"
   ]
  },
  {
   "cell_type": "code",
   "execution_count": 13,
   "metadata": {},
   "outputs": [],
   "source": [
    "class Artist(Base):\n",
    "    __tablename__ = \"artist\"\n",
    "    id = Column(Integer, primary_key = True)\n",
    "    name = Column(String)\n",
    "    album = relationship(\"Album\",back_populates=\"artist\") \n",
    "    #리스트가 아니므로 \n",
    "    def __repr__(self):\n",
    "        return \"<T'artist(name='%s')>\" % (self.name)\n",
    "    \n",
    "\n",
    "class Album(Base):\n",
    "    __tablename__ = \"album\"\n",
    "    id = Column(Integer, primary_key = True)\n",
    "    title = Column(String)\n",
    "    artist_id = Column(Integer,ForeignKey(\"artist.id\"))\n",
    "    artist = relationship(\"Artist\",back_populates=\"album\")\n",
    "    \n",
    "class Genre(Base):\n",
    "    __tablename__ = \"genre\"\n",
    "    id = Column(Integer, primary_key = True)\n",
    "    name = Column(String)\n",
    "    \n",
    "\n",
    "class Track(Base):\n",
    "    __tablename__ = \"track\"\n",
    "    id = Column(Integer, primary_key = True)\n",
    "    title = Column(String)\n",
    "    album_id = Column(Integer,ForeignKey(\"album.id\"))\n",
    "    genre_id = Column(Integer,ForeignKey(\"genre.id\"))"
   ]
  },
  {
   "cell_type": "code",
   "execution_count": 14,
   "metadata": {},
   "outputs": [
    {
     "name": "stdout",
     "output_type": "stream",
     "text": [
      "2018-07-17 23:50:03,892 INFO sqlalchemy.engine.base.Engine SELECT CAST('test plain returns' AS VARCHAR(60)) AS anon_1\n",
      "2018-07-17 23:50:03,894 INFO sqlalchemy.engine.base.Engine ()\n",
      "2018-07-17 23:50:03,895 INFO sqlalchemy.engine.base.Engine SELECT CAST('test unicode returns' AS VARCHAR(60)) AS anon_1\n",
      "2018-07-17 23:50:03,897 INFO sqlalchemy.engine.base.Engine ()\n",
      "2018-07-17 23:50:03,898 INFO sqlalchemy.engine.base.Engine PRAGMA table_info(\"artist\")\n",
      "2018-07-17 23:50:03,899 INFO sqlalchemy.engine.base.Engine ()\n",
      "2018-07-17 23:50:03,901 INFO sqlalchemy.engine.base.Engine PRAGMA table_info(\"album\")\n",
      "2018-07-17 23:50:03,902 INFO sqlalchemy.engine.base.Engine ()\n",
      "2018-07-17 23:50:03,904 INFO sqlalchemy.engine.base.Engine PRAGMA table_info(\"genre\")\n",
      "2018-07-17 23:50:03,905 INFO sqlalchemy.engine.base.Engine ()\n",
      "2018-07-17 23:50:03,906 INFO sqlalchemy.engine.base.Engine PRAGMA table_info(\"track\")\n",
      "2018-07-17 23:50:03,907 INFO sqlalchemy.engine.base.Engine ()\n",
      "2018-07-17 23:50:03,909 INFO sqlalchemy.engine.base.Engine \n",
      "CREATE TABLE artist (\n",
      "\tid INTEGER NOT NULL, \n",
      "\tname VARCHAR, \n",
      "\tPRIMARY KEY (id)\n",
      ")\n",
      "\n",
      "\n",
      "2018-07-17 23:50:03,910 INFO sqlalchemy.engine.base.Engine ()\n",
      "2018-07-17 23:50:03,932 INFO sqlalchemy.engine.base.Engine COMMIT\n",
      "2018-07-17 23:50:03,935 INFO sqlalchemy.engine.base.Engine \n",
      "CREATE TABLE genre (\n",
      "\tid INTEGER NOT NULL, \n",
      "\tname VARCHAR, \n",
      "\tPRIMARY KEY (id)\n",
      ")\n",
      "\n",
      "\n",
      "2018-07-17 23:50:03,936 INFO sqlalchemy.engine.base.Engine ()\n",
      "2018-07-17 23:50:03,951 INFO sqlalchemy.engine.base.Engine COMMIT\n",
      "2018-07-17 23:50:03,954 INFO sqlalchemy.engine.base.Engine \n",
      "CREATE TABLE album (\n",
      "\tid INTEGER NOT NULL, \n",
      "\ttitle VARCHAR, \n",
      "\tartist_id INTEGER, \n",
      "\tPRIMARY KEY (id), \n",
      "\tFOREIGN KEY(artist_id) REFERENCES artist (id)\n",
      ")\n",
      "\n",
      "\n",
      "2018-07-17 23:50:03,956 INFO sqlalchemy.engine.base.Engine ()\n",
      "2018-07-17 23:50:03,973 INFO sqlalchemy.engine.base.Engine COMMIT\n",
      "2018-07-17 23:50:03,976 INFO sqlalchemy.engine.base.Engine \n",
      "CREATE TABLE track (\n",
      "\tid INTEGER NOT NULL, \n",
      "\ttitle VARCHAR, \n",
      "\talbum_id INTEGER, \n",
      "\tgenre_id INTEGER, \n",
      "\tPRIMARY KEY (id), \n",
      "\tFOREIGN KEY(album_id) REFERENCES album (id), \n",
      "\tFOREIGN KEY(genre_id) REFERENCES genre (id)\n",
      ")\n",
      "\n",
      "\n",
      "2018-07-17 23:50:03,977 INFO sqlalchemy.engine.base.Engine ()\n",
      "2018-07-17 23:50:03,990 INFO sqlalchemy.engine.base.Engine COMMIT\n"
     ]
    }
   ],
   "source": [
    "Base.metadata.create_all(engine)"
   ]
  },
  {
   "cell_type": "code",
   "execution_count": 8,
   "metadata": {},
   "outputs": [],
   "source": [
    "artist1=Artist(name=\"Led Zepplin\")\n",
    "artist2=Artist(name=\"AC/DC\")"
   ]
  },
  {
   "cell_type": "code",
   "execution_count": 9,
   "metadata": {},
   "outputs": [],
   "source": [
    "artist1.album = [Album(title=\"IV\"),Album(title=\"Who Made who\")]\n"
   ]
  },
  {
   "cell_type": "code",
   "execution_count": 10,
   "metadata": {},
   "outputs": [],
   "source": [
    "from sqlalchemy.orm import sessionmaker"
   ]
  },
  {
   "cell_type": "code",
   "execution_count": 11,
   "metadata": {},
   "outputs": [],
   "source": [
    "Session = sessionmaker(bind=engine)"
   ]
  },
  {
   "cell_type": "code",
   "execution_count": 12,
   "metadata": {},
   "outputs": [],
   "source": [
    "session = Session()"
   ]
  },
  {
   "cell_type": "code",
   "execution_count": 13,
   "metadata": {},
   "outputs": [],
   "source": [
    "session.add(artist1)"
   ]
  },
  {
   "cell_type": "code",
   "execution_count": 14,
   "metadata": {},
   "outputs": [
    {
     "data": {
      "text/plain": [
       "IdentitySet([])"
      ]
     },
     "execution_count": 14,
     "metadata": {},
     "output_type": "execute_result"
    }
   ],
   "source": [
    "session.dirty"
   ]
  },
  {
   "cell_type": "code",
   "execution_count": 15,
   "metadata": {},
   "outputs": [
    {
     "name": "stdout",
     "output_type": "stream",
     "text": [
      "2018-07-12 11:18:15,177 INFO sqlalchemy.engine.base.Engine BEGIN (implicit)\n",
      "2018-07-12 11:18:15,181 INFO sqlalchemy.engine.base.Engine INSERT INTO artist (name) VALUES (?)\n",
      "2018-07-12 11:18:15,183 INFO sqlalchemy.engine.base.Engine ('Led Zepplin',)\n",
      "2018-07-12 11:18:15,187 INFO sqlalchemy.engine.base.Engine INSERT INTO album (title, artist_id) VALUES (?, ?)\n",
      "2018-07-12 11:18:15,189 INFO sqlalchemy.engine.base.Engine ('IV', 1)\n",
      "2018-07-12 11:18:15,191 INFO sqlalchemy.engine.base.Engine INSERT INTO album (title, artist_id) VALUES (?, ?)\n",
      "2018-07-12 11:18:15,192 INFO sqlalchemy.engine.base.Engine ('Who Made who', 1)\n",
      "2018-07-12 11:18:15,193 INFO sqlalchemy.engine.base.Engine COMMIT\n"
     ]
    }
   ],
   "source": [
    "session.commit()"
   ]
  },
  {
   "cell_type": "code",
   "execution_count": 20,
   "metadata": {},
   "outputs": [
    {
     "name": "stdout",
     "output_type": "stream",
     "text": [
      "Overwriting test1.html\n"
     ]
    }
   ],
   "source": [
    "%%writefile test1.html\n",
    "<!doctype html>\n",
    "<!DOCTYPE html>\n",
    "<html lang=\"ko\">\n",
    "<head>\n",
    "    <meta charset=\"utf-8\">\n",
    "    <title>Simple HTML document</title>\n",
    "</head>\n",
    "<body>\n",
    "    <h1>Hello World!</h1>\n",
    "    \n",
    "</body>\n",
    "</html>"
   ]
  },
  {
   "cell_type": "code",
   "execution_count": 22,
   "metadata": {},
   "outputs": [
    {
     "data": {
      "text/html": [
       "<!doctype html>\n",
       "<!DOCTYPE html>\n",
       "<html lang=\"ko\">\n",
       "<head>\n",
       "    <meta charset=\"utf-8\">\n",
       "    <title>Simple HTML document</title>\n",
       "</head>\n",
       "<body>\n",
       "    <h1>Hello World!</h1>\n",
       "    \n",
       "</body>\n",
       "</html>"
      ],
      "text/plain": [
       "<IPython.core.display.HTML object>"
      ]
     },
     "metadata": {},
     "output_type": "display_data"
    }
   ],
   "source": [
    "%%html\n",
    "<!doctype html>\n",
    "<!DOCTYPE html>\n",
    "<html lang=\"ko\">\n",
    "<head>\n",
    "    <meta charset=\"utf-8\">\n",
    "    <title>Simple HTML document</title>\n",
    "</head>\n",
    "<body>\n",
    "    <h1>Hello World!</h1>\n",
    "    \n",
    "</body>\n",
    "</html>"
   ]
  },
  {
   "cell_type": "code",
   "execution_count": 24,
   "metadata": {},
   "outputs": [
    {
     "data": {
      "text/html": [
       "<!doctype html>\n",
       "<!DOCTYPE html>\n",
       "<html lang=\"ko\">\n",
       "<head>\n",
       "    <meta charset=\"utf-8\">\n",
       "    <title>Example of HTML Headings tag</title>\n",
       "    <meta name = \"viewpoint\" content=\"width=device-width,inital-scale=1.0\">\n",
       "</head>\n",
       "<body>\n",
       "    <h1>Heading level 1!</h1>\n",
       "    <h2>Heading level 2!</h2>\n",
       "    <h3>Heading level 3!</h3>\n",
       "    <h4>Heading level 4!</h4>\n",
       "    <h5>Heading level 5!</h5>\n",
       "    <h6>Heading level 6!</h6>\n",
       "    \n",
       "</body>\n",
       "</html>"
      ],
      "text/plain": [
       "<IPython.core.display.HTML object>"
      ]
     },
     "metadata": {},
     "output_type": "display_data"
    }
   ],
   "source": [
    "%%html\n",
    "<!doctype html>\n",
    "<!DOCTYPE html>\n",
    "<html lang=\"ko\">\n",
    "<head>\n",
    "    <meta charset=\"utf-8\">\n",
    "    <title>Example of HTML Headings tag</title>\n",
    "    <meta name = \"viewpoint\" content=\"width=device-width,inital-scale=1.0\">\n",
    "</head>\n",
    "<body>\n",
    "    <h1>Heading level 1!</h1>\n",
    "    <h2>Heading level 2!</h2>\n",
    "    <h3>Heading level 3!</h3>\n",
    "    <h4>Heading level 4!</h4>\n",
    "    <h5>Heading level 5!</h5>\n",
    "    <h6>Heading level 6!</h6>\n",
    "    \n",
    "</body>\n",
    "</html>"
   ]
  },
  {
   "cell_type": "code",
   "execution_count": 28,
   "metadata": {},
   "outputs": [
    {
     "data": {
      "text/html": [
       "<!doctype html>\n",
       "<!DOCTYPE html>\n",
       "<html lang=\"ko\">\n",
       "<head>\n",
       "    <meta charset=\"utf-8\">\n",
       "    <title>Example of HTML Paragraphs</title>\n",
       "    <meta name = \"viewpoint\" content=\"width=device-width,inital-scale=1.0\">\n",
       "</head>\n",
       "<body>\n",
       "    <p>This is a paragraph.</p>\n",
       "    <p>This is a another paragraph.</p>\n",
       "    \n",
       "    \n",
       "</body>\n",
       "</html>"
      ],
      "text/plain": [
       "<IPython.core.display.HTML object>"
      ]
     },
     "metadata": {},
     "output_type": "display_data"
    }
   ],
   "source": [
    "%%html\n",
    "<!doctype html>\n",
    "<!DOCTYPE html>\n",
    "<html lang=\"ko\">\n",
    "<head>\n",
    "    <meta charset=\"utf-8\">\n",
    "    <title>Example of HTML Paragraphs</title>\n",
    "    <meta name = \"viewpoint\" content=\"width=device-width,inital-scale=1.0\">\n",
    "</head>\n",
    "<body>\n",
    "    <p>This is a paragraph.</p>\n",
    "    <p>This is a another paragraph.</p>\n",
    "    \n",
    "    \n",
    "</body>\n",
    "</html>"
   ]
  },
  {
   "cell_type": "code",
   "execution_count": null,
   "metadata": {},
   "outputs": [],
   "source": []
  }
 ],
 "metadata": {
  "kernelspec": {
   "display_name": "Python 3",
   "language": "python",
   "name": "python3"
  },
  "language_info": {
   "codemirror_mode": {
    "name": "ipython",
    "version": 3
   },
   "file_extension": ".py",
   "mimetype": "text/x-python",
   "name": "python",
   "nbconvert_exporter": "python",
   "pygments_lexer": "ipython3",
   "version": "3.6.5"
  }
 },
 "nbformat": 4,
 "nbformat_minor": 2
}
