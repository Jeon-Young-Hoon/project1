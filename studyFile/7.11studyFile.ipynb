{
 "cells": [
  {
   "cell_type": "markdown",
   "metadata": {},
   "source": [
    "# 7.11studyFile"
   ]
  },
  {
   "cell_type": "markdown",
   "metadata": {},
   "source": [
    "- 기존의 dbms는 스키마가 고정이 되어 있어 나중에 변형시키기가 어렵다"
   ]
  },
  {
   "cell_type": "markdown",
   "metadata": {},
   "source": [
    "acid = dbms가 갖춰야할 특성 4가지\n"
   ]
  },
  {
   "cell_type": "markdown",
   "metadata": {},
   "source": [
    "- atomicity"
   ]
  },
  {
   "cell_type": "markdown",
   "metadata": {},
   "source": [
    "- consistency"
   ]
  },
  {
   "cell_type": "markdown",
   "metadata": {},
   "source": [
    "- islolation"
   ]
  },
  {
   "cell_type": "markdown",
   "metadata": {},
   "source": [
    "- durability"
   ]
  },
  {
   "cell_type": "markdown",
   "metadata": {},
   "source": [
    "mster-slabe replication"
   ]
  },
  {
   "cell_type": "markdown",
   "metadata": {},
   "source": [
    "- master만 write가능 , master와 slave 모두 read가능"
   ]
  },
  {
   "cell_type": "markdown",
   "metadata": {},
   "source": [
    "- 복제하는 시간도 오래걸린다"
   ]
  },
  {
   "cell_type": "markdown",
   "metadata": {},
   "source": [
    "sharding"
   ]
  },
  {
   "cell_type": "markdown",
   "metadata": {},
   "source": [
    "- 데이터를 나눠서 분할 관리"
   ]
  },
  {
   "cell_type": "markdown",
   "metadata": {},
   "source": [
    "분산 시스템 특성 "
   ]
  },
  {
   "cell_type": "markdown",
   "metadata": {},
   "source": [
    "- consistency"
   ]
  },
  {
   "cell_type": "markdown",
   "metadata": {},
   "source": [
    "- availability"
   ]
  },
  {
   "cell_type": "markdown",
   "metadata": {},
   "source": [
    "- partition tolerance"
   ]
  },
  {
   "cell_type": "markdown",
   "metadata": {},
   "source": [
    "# mongodb"
   ]
  },
  {
   "cell_type": "markdown",
   "metadata": {},
   "source": [
    "- 정해진 type이 없어 자유롭지만 그만큼 고려해야할점이 많아졌다"
   ]
  },
  {
   "cell_type": "markdown",
   "metadata": {},
   "source": [
    "- mongoDB --auth : 로그인을 해야만 작업 가능"
   ]
  },
  {
   "cell_type": "markdown",
   "metadata": {},
   "source": [
    "- mongo -u \"root\" -p \"root\" --authenticationdatabase : root계정으로 로그인"
   ]
  },
  {
   "cell_type": "markdown",
   "metadata": {},
   "source": [
    "- exit : 종료"
   ]
  },
  {
   "cell_type": "markdown",
   "metadata": {},
   "source": [
    "- show databases ( show dbs) : shoow databases"
   ]
  },
  {
   "cell_type": "markdown",
   "metadata": {},
   "source": [
    "- use newDB\n",
    "- db\n",
    "- db가없으면 생성,있으면 선택"
   ]
  },
  {
   "cell_type": "markdown",
   "metadata": {},
   "source": [
    "- db.dropDatabases() : 선택중인 db 제거"
   ]
  },
  {
   "cell_type": "markdown",
   "metadata": {},
   "source": [
    "- show users : 현제 db에 참여한 유저 출력\n",
    "- show roles : 사용가능한 권한 출력"
   ]
  },
  {
   "cell_type": "markdown",
   "metadata": {},
   "source": [
    "- db.createUser({}) : 유저 생성"
   ]
  },
  {
   "cell_type": "markdown",
   "metadata": {},
   "source": [
    "- db.name.insert\n",
    "- db.name.save\n",
    "- Date()\n",
    "- instanceof \n",
    "- ObjectId(); : id 생성"
   ]
  },
  {
   "cell_type": "markdown",
   "metadata": {},
   "source": [
    "- NumberInt\n",
    "- NumberLong\n",
    "- NumberDecimal"
   ]
  },
  {
   "cell_type": "code",
   "execution_count": null,
   "metadata": {},
   "outputs": [],
   "source": [
    "import py"
   ]
  }
 ],
 "metadata": {
  "kernelspec": {
   "display_name": "Python 3",
   "language": "python",
   "name": "python3"
  },
  "language_info": {
   "codemirror_mode": {
    "name": "ipython",
    "version": 3
   },
   "file_extension": ".py",
   "mimetype": "text/x-python",
   "name": "python",
   "nbconvert_exporter": "python",
   "pygments_lexer": "ipython3",
   "version": "3.6.5"
  }
 },
 "nbformat": 4,
 "nbformat_minor": 2
}
