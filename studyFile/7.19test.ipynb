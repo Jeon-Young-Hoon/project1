{
 "cells": [
  {
   "cell_type": "code",
   "execution_count": null,
   "metadata": {},
   "outputs": [],
   "source": [
    "import requests as rq\n",
    "from bs4 import BeautifulSoup\n",
    "import urllib\n",
    "\n",
    "#url1 = \"http://openapi.airkorea.or.kr/openapi/services/rest/ArpltnInforInqireSvc/getCtprvnRltmMesureDnsty?serviceKey=Y5DSBJBS%2Fm1IIAcO37lFFbJttSm%2Bh494BebepLaLUhMwcJMfgQQ4%2BbKj3Udxi4489gGTXXlzMNoi4CQzAmxZ6g%3D%3D&numOfRows=10&pageSize=10&pageNo=1&startPage=1&sidoName=%EC%9D%B8%EC%B2%9C&ver=1.3\"\n",
    "\n",
    "def uph(pageNo):\n",
    "    url = \"http://apis.data.go.kr/B552584/RfidFoodWasteService/getTotalDateList?\"\n",
    "    params = {\n",
    "     \n",
    "        \"serviceKey\":\"Y5DSBJBS%2Fm1IIAcO37lFFbJttSm%2Bh494BebepLaLUhMwcJMfgQQ4%2BbKj3Udxi4489gGTXXlzMNoi4CQzAmxZ6g%3D%3D\",\n",
    "        \"type\":\"xml\",\n",
    "        \"disYear\":\"2016\",\n",
    "        \"disMonth\":\"06\",\n",
    "        \"page\":\"1\",\n",
    "        \"rowNum\":\"10\",\n",
    "    \n",
    "    }\n",
    "    '''\n",
    "    url = \"http://openapi.airkorea.or.kr/openapi/services/rest/ArpltnInforInqireSvc/getMsrstnAcctoRltmMesureDnsty\"\n",
    "    params={\"serviceKey\":\"Y5DSBJBS%2Fm1IIAcO37lFFbJttSm%2Bh494BebepLaLUhMwcJMfgQQ4%2BbKj3Udxi4489gGTXXlzMNoi4CQzAmxZ6g%3D%3D\"\n",
    "        ,\"numOfRows\":\"10\"\n",
    "        ,\"pageSize\":\"10\"\n",
    "        ,\"pageNo\":str(pageNo)\n",
    "        ,\"startPage\":\"200\"\n",
    "        ,\"stationName\":\"%EC%A2%85%EB%A1%9C%EA%B5%AC\"\n",
    "        ,\"dataTerm\":\"DAILY\"\n",
    "        ,\"ver\":\"1.3\"\n",
    "    }\n",
    "    '''\n",
    "    params[\"serviceKey\"] = urllib.parse.unquote(params['serviceKey'])\n",
    "    #params[\"stationName\"] = \"종로구\"\n",
    "    params = urllib.parse.urlencode(params)\n",
    "    headers = {\n",
    "        'user-agent' : \"Mozilla/5.0 (Windows NT 10.0; Win64; x64) AppleWebKit/537.36 (KHTML, like Gecko) Chrome/67.0.3396.99 Safari/537.36\"\n",
    "    }\n",
    "    \n",
    "    params = params.encode(\"utf-8\")\n",
    "    return url,params,headers\n",
    "#agent=\"Mozilla/5.0 (Windows NT 10.0; Win64; x64) AppleWebKit/537.36 (KHTML, like Gecko) Chrome/67.0.3396.99 Safari/537.36\"\n",
    "\n",
    "\n",
    "def getUrl(url,params=None,select=\"a\" ,num_retries=2):\n",
    "    #print(url)\n",
    "    \n",
    "    html = rq.get(url,params=params)\n",
    "    print(html.url)\n",
    "    #print(html.text)\n",
    "    if 500<=html.status_code<600 and num_retries>0:\n",
    "        print(html.status_code , html.reason)\n",
    "        return getUrl(url,params,num_retries=num_retries-1)\n",
    "    \n",
    "    dom = BeautifulSoup(html.text,\"lxml\")\n",
    "    links = dom.select(select)\n",
    "    \n",
    "    \n",
    "    return links\n",
    "\n",
    "aList=[]\n",
    "for i in range(1,100):\n",
    "    u,p,h = uph(i)\n",
    "    res=getUrl(u,params=p,select=\"list\")\n",
    "    #print(len(res))\n",
    "    if not res:\n",
    "        break\n",
    "    aList.extend(res)\n",
    "    #print(res)\n",
    "    \n",
    "\n",
    "\n",
    "print(len(aList))"
   ]
  },
  {
   "cell_type": "code",
   "execution_count": 6,
   "metadata": {},
   "outputs": [],
   "source": [
    "\n",
    "#url.split('&')"
   ]
  },
  {
   "cell_type": "code",
   "execution_count": 46,
   "metadata": {},
   "outputs": [
    {
     "name": "stdout",
     "output_type": "stream",
     "text": [
      "[<list><comcode>BF</comcode><comvalue>선불</comvalue><comname>선불</comname><groupcode>01</groupcode><groupname>과금구분</groupname><ordernum>1</ordernum></list>, <list><comcode>AF</comcode><comvalue>후불</comvalue><comname>후불</comname><groupcode>01</groupcode><groupname>과금구분</groupname><ordernum>2</ordernum></list>]\n",
      "serviceKey=Y5DSBJBS%2Fm1IIAcO37lFFbJttSm%2Bh494BebepLaLUhMwcJMfgQQ4%2BbKj3Udxi4489gGTXXlzMNoi4CQzAmxZ6g%3D%3D&type=xml&groupCode=01&page=1&rowNum=10\n",
      "[<list><comcode>BF</comcode><comvalue>선불</comvalue><comname>선불</comname><groupcode>01</groupcode><groupname>과금구분</groupname><ordernum>1</ordernum></list>, <list><comcode>AF</comcode><comvalue>후불</comvalue><comname>후불</comname><groupcode>01</groupcode><groupname>과금구분</groupname><ordernum>2</ordernum></list>]\n"
     ]
    }
   ],
   "source": [
    "import urllib\n",
    "import requests\n",
    "from bs4 import BeautifulSoup\n",
    "url = \"http://apis.data.go.kr/B552584/RfidFoodWasteService/getCommonList?serviceKey=Y5DSBJBS%2Fm1IIAcO37lFFbJttSm%2Bh494BebepLaLUhMwcJMfgQQ4%2BbKj3Udxi4489gGTXXlzMNoi4CQzAmxZ6g%3D%3D&type=xml&groupCode=01&page=1&rowNum=10\"\n",
    "\n",
    "def params_gene(ex_url):\n",
    "    tmp_list = ex_url.split('&')\n",
    "    base_url = ex_url.split('?')[0]\n",
    "    params=dict()\n",
    "    params['serviceKey']=\"Y5DSBJBS%2Fm1IIAcO37lFFbJttSm%2Bh494BebepLaLUhMwcJMfgQQ4%2BbKj3Udxi4489gGTXXlzMNoi4CQzAmxZ6g%3D%3D\"\n",
    "    for i in range(1,len(tmp_list)):\n",
    "        t = tmp_list[i].split('=')\n",
    "        params[t[0]]=t[1]\n",
    "    params[\"serviceKey\"] = urllib.parse.unquote(params['serviceKey'])    \n",
    "    params = urllib.parse.urlencode(params)\n",
    "    return base_url,params\n",
    "\n",
    "def get_content(tmp):\n",
    "    url,params = params_gene(tmp)\n",
    "    #if \"page\" in params\n",
    "    html=requests.get(url,params=params)\n",
    "    \n",
    "    dom = BeautifulSoup(html.text , 'lxml')\n",
    "    print(dom.select('list'))\n",
    "    while dom.select('list'):\n",
    "        \n",
    "        \n",
    "        if \"page\" in params:\n",
    "            print(params)\n",
    "        html=requests.get(url,params=params)\n",
    "    \n",
    "        dom = BeautifulSoup(html.text , 'lxml')\n",
    "        print(dom.select('list'))\n",
    "        break;\n",
    "(get_content(url))"
   ]
  },
  {
   "cell_type": "code",
   "execution_count": 32,
   "metadata": {},
   "outputs": [
    {
     "name": "stdout",
     "output_type": "stream",
     "text": [
      "Collecting knolpy\n"
     ]
    },
    {
     "name": "stderr",
     "output_type": "stream",
     "text": [
      "  Could not find a version that satisfies the requirement knolpy (from versions: )\n",
      "No matching distribution found for knolpy\n"
     ]
    }
   ],
   "source": [
    "!pip install knolpy"
   ]
  },
  {
   "cell_type": "code",
   "execution_count": 33,
   "metadata": {},
   "outputs": [],
   "source": [
    "import konlpy\n",
    "\n",
    "from konlpy.corpus import kolaw\n",
    "c=kolaw.open('constitution.txt').read()\n",
    "print(c)"
   ]
  },
  {
   "cell_type": "code",
   "execution_count": null,
   "metadata": {},
   "outputs": [],
   "source": []
  }
 ],
 "metadata": {
  "kernelspec": {
   "display_name": "Python 3",
   "language": "python",
   "name": "python3"
  },
  "language_info": {
   "codemirror_mode": {
    "name": "ipython",
    "version": 3
   },
   "file_extension": ".py",
   "mimetype": "text/x-python",
   "name": "python",
   "nbconvert_exporter": "python",
   "pygments_lexer": "ipython3",
   "version": "3.6.5"
  }
 },
 "nbformat": 4,
 "nbformat_minor": 2
}
